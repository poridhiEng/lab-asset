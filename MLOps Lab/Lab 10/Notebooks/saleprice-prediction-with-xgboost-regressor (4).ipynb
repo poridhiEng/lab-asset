{
 "cells": [
  {
   "cell_type": "markdown",
   "metadata": {},
   "source": [
    "# <p style=\"background-color:##4981b3;font-family:newtimeroman;color:#FFF9ED;font-size:150%;text-align:center;border-radius:10px 10px;\">Saleprice Prediction with XGBoost Regressor</p>\n",
    "\n",
    "<!-- <img src=\"https://github.com/KarnikaKapoor/Files/blob/main/Colorful%20Handwritten%20About%20Me%20Blank%20Education%20Presentation.gif?raw=true\"> -->\n",
    "\n",
    "   <a id='top'></a>\n",
    "<div class=\"list-group\" id=\"list-tab\" role=\"tablist\">\n",
    "<p style=\"background-color:##4981b3;font-family:newtimeroman;color:#FFF9ED;font-size:150%;border-radius:10px 10px;\">TABLE OF CONTENTS</p>   \n",
    "    \n",
    "* [1. IMPORTING LIBRARIES](#1)\n",
    "    \n",
    "* [2. LOADING DATA](#2)\n",
    "    \n",
    "* [3. DATA CLEANING](#3)\n",
    "    \n",
    "* [4. DATA PREPROCESSING](#4)   \n",
    "    \n",
    "* [5. DIMENSIONALITY REDUCTION](#5) \n",
    "      \n",
    "* [6. CLUSTERING](#6)\n",
    "    \n",
    "* [7. EVALUATING MODELS](#7)\n",
    "    \n",
    "* [8. PROFILING](#8)\n",
    "    \n",
    "* [9. CONCLUSION](#9)\n",
    "    \n",
    "* [10. END](#10)"
   ]
  },
  {
   "cell_type": "markdown",
   "metadata": {
    "papermill": {
     "duration": 0.014932,
     "end_time": "2020-08-29T22:33:01.573864",
     "exception": false,
     "start_time": "2020-08-29T22:33:01.558932",
     "status": "completed"
    },
    "tags": []
   },
   "source": [
    "<a id=\"1\"></a>\n",
    "# <p style=\"background-color:##4981b3;font-family:newtimeroman;color:#FFF9ED;font-size:80%;\">IMPORTING LIBRARIES</p>"
   ]
  },
  {
   "cell_type": "code",
   "execution_count": 68,
   "metadata": {
    "_cell_guid": "79c7e3d0-c299-4dcb-8224-4455121ee9b0",
    "_uuid": "d629ff2d2480ee46fbb7e2d37f6b5fab8052498a",
    "execution": {
     "iopub.execute_input": "2020-08-29T22:33:01.608492Z",
     "iopub.status.busy": "2020-08-29T22:33:01.607334Z",
     "iopub.status.idle": "2020-08-29T22:33:01.611263Z",
     "shell.execute_reply": "2020-08-29T22:33:01.610457Z"
    },
    "papermill": {
     "duration": 0.024015,
     "end_time": "2020-08-29T22:33:01.611396",
     "exception": false,
     "start_time": "2020-08-29T22:33:01.587381",
     "status": "completed"
    },
    "tags": []
   },
   "outputs": [],
   "source": [
    "import pandas as pd\n",
    "import numpy as np\n",
    "import matplotlib.pyplot as plt\n",
    "import mlflow\n",
    "import mlflow.sklearn\n",
    "import mlflow.xgboost\n",
    "from datetime import datetime\n",
    "from sklearn.metrics import mean_squared_error, mean_absolute_error, r2_score\n",
    "from mlflow.tracking import MlflowClient"
   ]
  },
  {
   "cell_type": "markdown",
   "metadata": {},
   "source": [
    "# Set up MLflow tracking"
   ]
  },
  {
   "cell_type": "code",
   "execution_count": 69,
   "metadata": {},
   "outputs": [
    {
     "data": {
      "text/plain": [
       "<Experiment: artifact_location='s3://saleprice-prediction/mlflow-artifacts/2', creation_time=1731682015836, experiment_id='2', last_update_time=1731682015836, lifecycle_stage='active', name='House Price Prediction lab 10', tags={}>"
      ]
     },
     "execution_count": 69,
     "metadata": {},
     "output_type": "execute_result"
    }
   ],
   "source": [
    "mlflow.set_tracking_uri(\"http://localhost:5000\")  # Replace with your MLflow server URI\n",
    "mlflow.set_experiment(\"House Price Prediction lab 10\")"
   ]
  },
  {
   "cell_type": "markdown",
   "metadata": {
    "papermill": {
     "duration": 0.012382,
     "end_time": "2020-08-29T22:33:01.636626",
     "exception": false,
     "start_time": "2020-08-29T22:33:01.624244",
     "status": "completed"
    },
    "tags": []
   },
   "source": [
    "<a id=\"2\"></a>\n",
    "# <p style=\"background-color:##4981b3;font-family:newtimeroman;color:#FFF9ED;font-size:80%;\">Loading Training Data</p>"
   ]
  },
  {
   "cell_type": "code",
   "execution_count": 70,
   "metadata": {
    "execution": {
     "iopub.execute_input": "2020-08-29T22:33:01.671564Z",
     "iopub.status.busy": "2020-08-29T22:33:01.670786Z",
     "iopub.status.idle": "2020-08-29T22:33:01.730866Z",
     "shell.execute_reply": "2020-08-29T22:33:01.729925Z"
    },
    "papermill": {
     "duration": 0.08165,
     "end_time": "2020-08-29T22:33:01.731011",
     "exception": false,
     "start_time": "2020-08-29T22:33:01.649361",
     "status": "completed"
    },
    "tags": []
   },
   "outputs": [],
   "source": [
    "train_data = pd.read_csv('./house-prices-advanced-regression-techniques/train.csv')"
   ]
  },
  {
   "cell_type": "code",
   "execution_count": 71,
   "metadata": {
    "execution": {
     "iopub.execute_input": "2020-08-29T22:33:01.776713Z",
     "iopub.status.busy": "2020-08-29T22:33:01.775866Z",
     "iopub.status.idle": "2020-08-29T22:33:01.805345Z",
     "shell.execute_reply": "2020-08-29T22:33:01.804489Z"
    },
    "papermill": {
     "duration": 0.061517,
     "end_time": "2020-08-29T22:33:01.805486",
     "exception": false,
     "start_time": "2020-08-29T22:33:01.743969",
     "status": "completed"
    },
    "tags": []
   },
   "outputs": [
    {
     "data": {
      "text/html": [
       "<div>\n",
       "<style scoped>\n",
       "    .dataframe tbody tr th:only-of-type {\n",
       "        vertical-align: middle;\n",
       "    }\n",
       "\n",
       "    .dataframe tbody tr th {\n",
       "        vertical-align: top;\n",
       "    }\n",
       "\n",
       "    .dataframe thead th {\n",
       "        text-align: right;\n",
       "    }\n",
       "</style>\n",
       "<table border=\"1\" class=\"dataframe\">\n",
       "  <thead>\n",
       "    <tr style=\"text-align: right;\">\n",
       "      <th></th>\n",
       "      <th>Id</th>\n",
       "      <th>MSSubClass</th>\n",
       "      <th>MSZoning</th>\n",
       "      <th>LotFrontage</th>\n",
       "      <th>LotArea</th>\n",
       "      <th>Street</th>\n",
       "      <th>Alley</th>\n",
       "      <th>LotShape</th>\n",
       "      <th>LandContour</th>\n",
       "      <th>Utilities</th>\n",
       "      <th>...</th>\n",
       "      <th>PoolArea</th>\n",
       "      <th>PoolQC</th>\n",
       "      <th>Fence</th>\n",
       "      <th>MiscFeature</th>\n",
       "      <th>MiscVal</th>\n",
       "      <th>MoSold</th>\n",
       "      <th>YrSold</th>\n",
       "      <th>SaleType</th>\n",
       "      <th>SaleCondition</th>\n",
       "      <th>SalePrice</th>\n",
       "    </tr>\n",
       "  </thead>\n",
       "  <tbody>\n",
       "    <tr>\n",
       "      <th>0</th>\n",
       "      <td>1</td>\n",
       "      <td>60</td>\n",
       "      <td>RL</td>\n",
       "      <td>65.0</td>\n",
       "      <td>8450</td>\n",
       "      <td>Pave</td>\n",
       "      <td>NaN</td>\n",
       "      <td>Reg</td>\n",
       "      <td>Lvl</td>\n",
       "      <td>AllPub</td>\n",
       "      <td>...</td>\n",
       "      <td>0</td>\n",
       "      <td>NaN</td>\n",
       "      <td>NaN</td>\n",
       "      <td>NaN</td>\n",
       "      <td>0</td>\n",
       "      <td>2</td>\n",
       "      <td>2008</td>\n",
       "      <td>WD</td>\n",
       "      <td>Normal</td>\n",
       "      <td>208500</td>\n",
       "    </tr>\n",
       "    <tr>\n",
       "      <th>1</th>\n",
       "      <td>2</td>\n",
       "      <td>20</td>\n",
       "      <td>RL</td>\n",
       "      <td>80.0</td>\n",
       "      <td>9600</td>\n",
       "      <td>Pave</td>\n",
       "      <td>NaN</td>\n",
       "      <td>Reg</td>\n",
       "      <td>Lvl</td>\n",
       "      <td>AllPub</td>\n",
       "      <td>...</td>\n",
       "      <td>0</td>\n",
       "      <td>NaN</td>\n",
       "      <td>NaN</td>\n",
       "      <td>NaN</td>\n",
       "      <td>0</td>\n",
       "      <td>5</td>\n",
       "      <td>2007</td>\n",
       "      <td>WD</td>\n",
       "      <td>Normal</td>\n",
       "      <td>181500</td>\n",
       "    </tr>\n",
       "    <tr>\n",
       "      <th>2</th>\n",
       "      <td>3</td>\n",
       "      <td>60</td>\n",
       "      <td>RL</td>\n",
       "      <td>68.0</td>\n",
       "      <td>11250</td>\n",
       "      <td>Pave</td>\n",
       "      <td>NaN</td>\n",
       "      <td>IR1</td>\n",
       "      <td>Lvl</td>\n",
       "      <td>AllPub</td>\n",
       "      <td>...</td>\n",
       "      <td>0</td>\n",
       "      <td>NaN</td>\n",
       "      <td>NaN</td>\n",
       "      <td>NaN</td>\n",
       "      <td>0</td>\n",
       "      <td>9</td>\n",
       "      <td>2008</td>\n",
       "      <td>WD</td>\n",
       "      <td>Normal</td>\n",
       "      <td>223500</td>\n",
       "    </tr>\n",
       "    <tr>\n",
       "      <th>3</th>\n",
       "      <td>4</td>\n",
       "      <td>70</td>\n",
       "      <td>RL</td>\n",
       "      <td>60.0</td>\n",
       "      <td>9550</td>\n",
       "      <td>Pave</td>\n",
       "      <td>NaN</td>\n",
       "      <td>IR1</td>\n",
       "      <td>Lvl</td>\n",
       "      <td>AllPub</td>\n",
       "      <td>...</td>\n",
       "      <td>0</td>\n",
       "      <td>NaN</td>\n",
       "      <td>NaN</td>\n",
       "      <td>NaN</td>\n",
       "      <td>0</td>\n",
       "      <td>2</td>\n",
       "      <td>2006</td>\n",
       "      <td>WD</td>\n",
       "      <td>Abnorml</td>\n",
       "      <td>140000</td>\n",
       "    </tr>\n",
       "    <tr>\n",
       "      <th>4</th>\n",
       "      <td>5</td>\n",
       "      <td>60</td>\n",
       "      <td>RL</td>\n",
       "      <td>84.0</td>\n",
       "      <td>14260</td>\n",
       "      <td>Pave</td>\n",
       "      <td>NaN</td>\n",
       "      <td>IR1</td>\n",
       "      <td>Lvl</td>\n",
       "      <td>AllPub</td>\n",
       "      <td>...</td>\n",
       "      <td>0</td>\n",
       "      <td>NaN</td>\n",
       "      <td>NaN</td>\n",
       "      <td>NaN</td>\n",
       "      <td>0</td>\n",
       "      <td>12</td>\n",
       "      <td>2008</td>\n",
       "      <td>WD</td>\n",
       "      <td>Normal</td>\n",
       "      <td>250000</td>\n",
       "    </tr>\n",
       "  </tbody>\n",
       "</table>\n",
       "<p>5 rows × 81 columns</p>\n",
       "</div>"
      ],
      "text/plain": [
       "   Id  MSSubClass MSZoning  LotFrontage  LotArea Street Alley LotShape  \\\n",
       "0   1          60       RL         65.0     8450   Pave   NaN      Reg   \n",
       "1   2          20       RL         80.0     9600   Pave   NaN      Reg   \n",
       "2   3          60       RL         68.0    11250   Pave   NaN      IR1   \n",
       "3   4          70       RL         60.0     9550   Pave   NaN      IR1   \n",
       "4   5          60       RL         84.0    14260   Pave   NaN      IR1   \n",
       "\n",
       "  LandContour Utilities  ... PoolArea PoolQC Fence MiscFeature MiscVal MoSold  \\\n",
       "0         Lvl    AllPub  ...        0    NaN   NaN         NaN       0      2   \n",
       "1         Lvl    AllPub  ...        0    NaN   NaN         NaN       0      5   \n",
       "2         Lvl    AllPub  ...        0    NaN   NaN         NaN       0      9   \n",
       "3         Lvl    AllPub  ...        0    NaN   NaN         NaN       0      2   \n",
       "4         Lvl    AllPub  ...        0    NaN   NaN         NaN       0     12   \n",
       "\n",
       "  YrSold  SaleType  SaleCondition  SalePrice  \n",
       "0   2008        WD         Normal     208500  \n",
       "1   2007        WD         Normal     181500  \n",
       "2   2008        WD         Normal     223500  \n",
       "3   2006        WD        Abnorml     140000  \n",
       "4   2008        WD         Normal     250000  \n",
       "\n",
       "[5 rows x 81 columns]"
      ]
     },
     "execution_count": 71,
     "metadata": {},
     "output_type": "execute_result"
    }
   ],
   "source": [
    "train_data.head()"
   ]
  },
  {
   "cell_type": "markdown",
   "metadata": {},
   "source": [
    "<a id=\"3\"></a>\n",
    "# <p style=\"background-color:##4981b3;font-family:newtimeroman;color:#FFF9ED;font-size:80%;\">Training Data Cleaning and Preprocessing</p>"
   ]
  },
  {
   "cell_type": "code",
   "execution_count": 72,
   "metadata": {
    "execution": {
     "iopub.execute_input": "2020-08-29T22:33:01.847250Z",
     "iopub.status.busy": "2020-08-29T22:33:01.845499Z",
     "iopub.status.idle": "2020-08-29T22:33:01.874129Z",
     "shell.execute_reply": "2020-08-29T22:33:01.875059Z"
    },
    "papermill": {
     "duration": 0.056457,
     "end_time": "2020-08-29T22:33:01.875317",
     "exception": false,
     "start_time": "2020-08-29T22:33:01.818860",
     "status": "completed"
    },
    "tags": []
   },
   "outputs": [
    {
     "name": "stdout",
     "output_type": "stream",
     "text": [
      "<class 'pandas.core.frame.DataFrame'>\n",
      "RangeIndex: 1460 entries, 0 to 1459\n",
      "Data columns (total 81 columns):\n",
      " #   Column         Non-Null Count  Dtype  \n",
      "---  ------         --------------  -----  \n",
      " 0   Id             1460 non-null   int64  \n",
      " 1   MSSubClass     1460 non-null   int64  \n",
      " 2   MSZoning       1460 non-null   object \n",
      " 3   LotFrontage    1201 non-null   float64\n",
      " 4   LotArea        1460 non-null   int64  \n",
      " 5   Street         1460 non-null   object \n",
      " 6   Alley          91 non-null     object \n",
      " 7   LotShape       1460 non-null   object \n",
      " 8   LandContour    1460 non-null   object \n",
      " 9   Utilities      1460 non-null   object \n",
      " 10  LotConfig      1460 non-null   object \n",
      " 11  LandSlope      1460 non-null   object \n",
      " 12  Neighborhood   1460 non-null   object \n",
      " 13  Condition1     1460 non-null   object \n",
      " 14  Condition2     1460 non-null   object \n",
      " 15  BldgType       1460 non-null   object \n",
      " 16  HouseStyle     1460 non-null   object \n",
      " 17  OverallQual    1460 non-null   int64  \n",
      " 18  OverallCond    1460 non-null   int64  \n",
      " 19  YearBuilt      1460 non-null   int64  \n",
      " 20  YearRemodAdd   1460 non-null   int64  \n",
      " 21  RoofStyle      1460 non-null   object \n",
      " 22  RoofMatl       1460 non-null   object \n",
      " 23  Exterior1st    1460 non-null   object \n",
      " 24  Exterior2nd    1460 non-null   object \n",
      " 25  MasVnrType     588 non-null    object \n",
      " 26  MasVnrArea     1452 non-null   float64\n",
      " 27  ExterQual      1460 non-null   object \n",
      " 28  ExterCond      1460 non-null   object \n",
      " 29  Foundation     1460 non-null   object \n",
      " 30  BsmtQual       1423 non-null   object \n",
      " 31  BsmtCond       1423 non-null   object \n",
      " 32  BsmtExposure   1422 non-null   object \n",
      " 33  BsmtFinType1   1423 non-null   object \n",
      " 34  BsmtFinSF1     1460 non-null   int64  \n",
      " 35  BsmtFinType2   1422 non-null   object \n",
      " 36  BsmtFinSF2     1460 non-null   int64  \n",
      " 37  BsmtUnfSF      1460 non-null   int64  \n",
      " 38  TotalBsmtSF    1460 non-null   int64  \n",
      " 39  Heating        1460 non-null   object \n",
      " 40  HeatingQC      1460 non-null   object \n",
      " 41  CentralAir     1460 non-null   object \n",
      " 42  Electrical     1459 non-null   object \n",
      " 43  1stFlrSF       1460 non-null   int64  \n",
      " 44  2ndFlrSF       1460 non-null   int64  \n",
      " 45  LowQualFinSF   1460 non-null   int64  \n",
      " 46  GrLivArea      1460 non-null   int64  \n",
      " 47  BsmtFullBath   1460 non-null   int64  \n",
      " 48  BsmtHalfBath   1460 non-null   int64  \n",
      " 49  FullBath       1460 non-null   int64  \n",
      " 50  HalfBath       1460 non-null   int64  \n",
      " 51  BedroomAbvGr   1460 non-null   int64  \n",
      " 52  KitchenAbvGr   1460 non-null   int64  \n",
      " 53  KitchenQual    1460 non-null   object \n",
      " 54  TotRmsAbvGrd   1460 non-null   int64  \n",
      " 55  Functional     1460 non-null   object \n",
      " 56  Fireplaces     1460 non-null   int64  \n",
      " 57  FireplaceQu    770 non-null    object \n",
      " 58  GarageType     1379 non-null   object \n",
      " 59  GarageYrBlt    1379 non-null   float64\n",
      " 60  GarageFinish   1379 non-null   object \n",
      " 61  GarageCars     1460 non-null   int64  \n",
      " 62  GarageArea     1460 non-null   int64  \n",
      " 63  GarageQual     1379 non-null   object \n",
      " 64  GarageCond     1379 non-null   object \n",
      " 65  PavedDrive     1460 non-null   object \n",
      " 66  WoodDeckSF     1460 non-null   int64  \n",
      " 67  OpenPorchSF    1460 non-null   int64  \n",
      " 68  EnclosedPorch  1460 non-null   int64  \n",
      " 69  3SsnPorch      1460 non-null   int64  \n",
      " 70  ScreenPorch    1460 non-null   int64  \n",
      " 71  PoolArea       1460 non-null   int64  \n",
      " 72  PoolQC         7 non-null      object \n",
      " 73  Fence          281 non-null    object \n",
      " 74  MiscFeature    54 non-null     object \n",
      " 75  MiscVal        1460 non-null   int64  \n",
      " 76  MoSold         1460 non-null   int64  \n",
      " 77  YrSold         1460 non-null   int64  \n",
      " 78  SaleType       1460 non-null   object \n",
      " 79  SaleCondition  1460 non-null   object \n",
      " 80  SalePrice      1460 non-null   int64  \n",
      "dtypes: float64(3), int64(35), object(43)\n",
      "memory usage: 924.0+ KB\n"
     ]
    }
   ],
   "source": [
    "train_data.info()"
   ]
  },
  {
   "cell_type": "code",
   "execution_count": 73,
   "metadata": {
    "execution": {
     "iopub.execute_input": "2020-08-29T22:33:01.913724Z",
     "iopub.status.busy": "2020-08-29T22:33:01.912858Z",
     "iopub.status.idle": "2020-08-29T22:33:02.031428Z",
     "shell.execute_reply": "2020-08-29T22:33:02.030730Z"
    },
    "papermill": {
     "duration": 0.141567,
     "end_time": "2020-08-29T22:33:02.031561",
     "exception": false,
     "start_time": "2020-08-29T22:33:01.889994",
     "status": "completed"
    },
    "tags": []
   },
   "outputs": [
    {
     "data": {
      "text/html": [
       "<div>\n",
       "<style scoped>\n",
       "    .dataframe tbody tr th:only-of-type {\n",
       "        vertical-align: middle;\n",
       "    }\n",
       "\n",
       "    .dataframe tbody tr th {\n",
       "        vertical-align: top;\n",
       "    }\n",
       "\n",
       "    .dataframe thead th {\n",
       "        text-align: right;\n",
       "    }\n",
       "</style>\n",
       "<table border=\"1\" class=\"dataframe\">\n",
       "  <thead>\n",
       "    <tr style=\"text-align: right;\">\n",
       "      <th></th>\n",
       "      <th>Id</th>\n",
       "      <th>MSSubClass</th>\n",
       "      <th>LotFrontage</th>\n",
       "      <th>LotArea</th>\n",
       "      <th>OverallQual</th>\n",
       "      <th>OverallCond</th>\n",
       "      <th>YearBuilt</th>\n",
       "      <th>YearRemodAdd</th>\n",
       "      <th>MasVnrArea</th>\n",
       "      <th>BsmtFinSF1</th>\n",
       "      <th>...</th>\n",
       "      <th>WoodDeckSF</th>\n",
       "      <th>OpenPorchSF</th>\n",
       "      <th>EnclosedPorch</th>\n",
       "      <th>3SsnPorch</th>\n",
       "      <th>ScreenPorch</th>\n",
       "      <th>PoolArea</th>\n",
       "      <th>MiscVal</th>\n",
       "      <th>MoSold</th>\n",
       "      <th>YrSold</th>\n",
       "      <th>SalePrice</th>\n",
       "    </tr>\n",
       "  </thead>\n",
       "  <tbody>\n",
       "    <tr>\n",
       "      <th>count</th>\n",
       "      <td>1460.000000</td>\n",
       "      <td>1460.000000</td>\n",
       "      <td>1201.000000</td>\n",
       "      <td>1460.000000</td>\n",
       "      <td>1460.000000</td>\n",
       "      <td>1460.000000</td>\n",
       "      <td>1460.000000</td>\n",
       "      <td>1460.000000</td>\n",
       "      <td>1452.000000</td>\n",
       "      <td>1460.000000</td>\n",
       "      <td>...</td>\n",
       "      <td>1460.000000</td>\n",
       "      <td>1460.000000</td>\n",
       "      <td>1460.000000</td>\n",
       "      <td>1460.000000</td>\n",
       "      <td>1460.000000</td>\n",
       "      <td>1460.000000</td>\n",
       "      <td>1460.000000</td>\n",
       "      <td>1460.000000</td>\n",
       "      <td>1460.000000</td>\n",
       "      <td>1460.000000</td>\n",
       "    </tr>\n",
       "    <tr>\n",
       "      <th>mean</th>\n",
       "      <td>730.500000</td>\n",
       "      <td>56.897260</td>\n",
       "      <td>70.049958</td>\n",
       "      <td>10516.828082</td>\n",
       "      <td>6.099315</td>\n",
       "      <td>5.575342</td>\n",
       "      <td>1971.267808</td>\n",
       "      <td>1984.865753</td>\n",
       "      <td>103.685262</td>\n",
       "      <td>443.639726</td>\n",
       "      <td>...</td>\n",
       "      <td>94.244521</td>\n",
       "      <td>46.660274</td>\n",
       "      <td>21.954110</td>\n",
       "      <td>3.409589</td>\n",
       "      <td>15.060959</td>\n",
       "      <td>2.758904</td>\n",
       "      <td>43.489041</td>\n",
       "      <td>6.321918</td>\n",
       "      <td>2007.815753</td>\n",
       "      <td>180921.195890</td>\n",
       "    </tr>\n",
       "    <tr>\n",
       "      <th>std</th>\n",
       "      <td>421.610009</td>\n",
       "      <td>42.300571</td>\n",
       "      <td>24.284752</td>\n",
       "      <td>9981.264932</td>\n",
       "      <td>1.382997</td>\n",
       "      <td>1.112799</td>\n",
       "      <td>30.202904</td>\n",
       "      <td>20.645407</td>\n",
       "      <td>181.066207</td>\n",
       "      <td>456.098091</td>\n",
       "      <td>...</td>\n",
       "      <td>125.338794</td>\n",
       "      <td>66.256028</td>\n",
       "      <td>61.119149</td>\n",
       "      <td>29.317331</td>\n",
       "      <td>55.757415</td>\n",
       "      <td>40.177307</td>\n",
       "      <td>496.123024</td>\n",
       "      <td>2.703626</td>\n",
       "      <td>1.328095</td>\n",
       "      <td>79442.502883</td>\n",
       "    </tr>\n",
       "    <tr>\n",
       "      <th>min</th>\n",
       "      <td>1.000000</td>\n",
       "      <td>20.000000</td>\n",
       "      <td>21.000000</td>\n",
       "      <td>1300.000000</td>\n",
       "      <td>1.000000</td>\n",
       "      <td>1.000000</td>\n",
       "      <td>1872.000000</td>\n",
       "      <td>1950.000000</td>\n",
       "      <td>0.000000</td>\n",
       "      <td>0.000000</td>\n",
       "      <td>...</td>\n",
       "      <td>0.000000</td>\n",
       "      <td>0.000000</td>\n",
       "      <td>0.000000</td>\n",
       "      <td>0.000000</td>\n",
       "      <td>0.000000</td>\n",
       "      <td>0.000000</td>\n",
       "      <td>0.000000</td>\n",
       "      <td>1.000000</td>\n",
       "      <td>2006.000000</td>\n",
       "      <td>34900.000000</td>\n",
       "    </tr>\n",
       "    <tr>\n",
       "      <th>25%</th>\n",
       "      <td>365.750000</td>\n",
       "      <td>20.000000</td>\n",
       "      <td>59.000000</td>\n",
       "      <td>7553.500000</td>\n",
       "      <td>5.000000</td>\n",
       "      <td>5.000000</td>\n",
       "      <td>1954.000000</td>\n",
       "      <td>1967.000000</td>\n",
       "      <td>0.000000</td>\n",
       "      <td>0.000000</td>\n",
       "      <td>...</td>\n",
       "      <td>0.000000</td>\n",
       "      <td>0.000000</td>\n",
       "      <td>0.000000</td>\n",
       "      <td>0.000000</td>\n",
       "      <td>0.000000</td>\n",
       "      <td>0.000000</td>\n",
       "      <td>0.000000</td>\n",
       "      <td>5.000000</td>\n",
       "      <td>2007.000000</td>\n",
       "      <td>129975.000000</td>\n",
       "    </tr>\n",
       "    <tr>\n",
       "      <th>50%</th>\n",
       "      <td>730.500000</td>\n",
       "      <td>50.000000</td>\n",
       "      <td>69.000000</td>\n",
       "      <td>9478.500000</td>\n",
       "      <td>6.000000</td>\n",
       "      <td>5.000000</td>\n",
       "      <td>1973.000000</td>\n",
       "      <td>1994.000000</td>\n",
       "      <td>0.000000</td>\n",
       "      <td>383.500000</td>\n",
       "      <td>...</td>\n",
       "      <td>0.000000</td>\n",
       "      <td>25.000000</td>\n",
       "      <td>0.000000</td>\n",
       "      <td>0.000000</td>\n",
       "      <td>0.000000</td>\n",
       "      <td>0.000000</td>\n",
       "      <td>0.000000</td>\n",
       "      <td>6.000000</td>\n",
       "      <td>2008.000000</td>\n",
       "      <td>163000.000000</td>\n",
       "    </tr>\n",
       "    <tr>\n",
       "      <th>75%</th>\n",
       "      <td>1095.250000</td>\n",
       "      <td>70.000000</td>\n",
       "      <td>80.000000</td>\n",
       "      <td>11601.500000</td>\n",
       "      <td>7.000000</td>\n",
       "      <td>6.000000</td>\n",
       "      <td>2000.000000</td>\n",
       "      <td>2004.000000</td>\n",
       "      <td>166.000000</td>\n",
       "      <td>712.250000</td>\n",
       "      <td>...</td>\n",
       "      <td>168.000000</td>\n",
       "      <td>68.000000</td>\n",
       "      <td>0.000000</td>\n",
       "      <td>0.000000</td>\n",
       "      <td>0.000000</td>\n",
       "      <td>0.000000</td>\n",
       "      <td>0.000000</td>\n",
       "      <td>8.000000</td>\n",
       "      <td>2009.000000</td>\n",
       "      <td>214000.000000</td>\n",
       "    </tr>\n",
       "    <tr>\n",
       "      <th>max</th>\n",
       "      <td>1460.000000</td>\n",
       "      <td>190.000000</td>\n",
       "      <td>313.000000</td>\n",
       "      <td>215245.000000</td>\n",
       "      <td>10.000000</td>\n",
       "      <td>9.000000</td>\n",
       "      <td>2010.000000</td>\n",
       "      <td>2010.000000</td>\n",
       "      <td>1600.000000</td>\n",
       "      <td>5644.000000</td>\n",
       "      <td>...</td>\n",
       "      <td>857.000000</td>\n",
       "      <td>547.000000</td>\n",
       "      <td>552.000000</td>\n",
       "      <td>508.000000</td>\n",
       "      <td>480.000000</td>\n",
       "      <td>738.000000</td>\n",
       "      <td>15500.000000</td>\n",
       "      <td>12.000000</td>\n",
       "      <td>2010.000000</td>\n",
       "      <td>755000.000000</td>\n",
       "    </tr>\n",
       "  </tbody>\n",
       "</table>\n",
       "<p>8 rows × 38 columns</p>\n",
       "</div>"
      ],
      "text/plain": [
       "                Id   MSSubClass  LotFrontage        LotArea  OverallQual  \\\n",
       "count  1460.000000  1460.000000  1201.000000    1460.000000  1460.000000   \n",
       "mean    730.500000    56.897260    70.049958   10516.828082     6.099315   \n",
       "std     421.610009    42.300571    24.284752    9981.264932     1.382997   \n",
       "min       1.000000    20.000000    21.000000    1300.000000     1.000000   \n",
       "25%     365.750000    20.000000    59.000000    7553.500000     5.000000   \n",
       "50%     730.500000    50.000000    69.000000    9478.500000     6.000000   \n",
       "75%    1095.250000    70.000000    80.000000   11601.500000     7.000000   \n",
       "max    1460.000000   190.000000   313.000000  215245.000000    10.000000   \n",
       "\n",
       "       OverallCond    YearBuilt  YearRemodAdd   MasVnrArea   BsmtFinSF1  ...  \\\n",
       "count  1460.000000  1460.000000   1460.000000  1452.000000  1460.000000  ...   \n",
       "mean      5.575342  1971.267808   1984.865753   103.685262   443.639726  ...   \n",
       "std       1.112799    30.202904     20.645407   181.066207   456.098091  ...   \n",
       "min       1.000000  1872.000000   1950.000000     0.000000     0.000000  ...   \n",
       "25%       5.000000  1954.000000   1967.000000     0.000000     0.000000  ...   \n",
       "50%       5.000000  1973.000000   1994.000000     0.000000   383.500000  ...   \n",
       "75%       6.000000  2000.000000   2004.000000   166.000000   712.250000  ...   \n",
       "max       9.000000  2010.000000   2010.000000  1600.000000  5644.000000  ...   \n",
       "\n",
       "        WoodDeckSF  OpenPorchSF  EnclosedPorch    3SsnPorch  ScreenPorch  \\\n",
       "count  1460.000000  1460.000000    1460.000000  1460.000000  1460.000000   \n",
       "mean     94.244521    46.660274      21.954110     3.409589    15.060959   \n",
       "std     125.338794    66.256028      61.119149    29.317331    55.757415   \n",
       "min       0.000000     0.000000       0.000000     0.000000     0.000000   \n",
       "25%       0.000000     0.000000       0.000000     0.000000     0.000000   \n",
       "50%       0.000000    25.000000       0.000000     0.000000     0.000000   \n",
       "75%     168.000000    68.000000       0.000000     0.000000     0.000000   \n",
       "max     857.000000   547.000000     552.000000   508.000000   480.000000   \n",
       "\n",
       "          PoolArea       MiscVal       MoSold       YrSold      SalePrice  \n",
       "count  1460.000000   1460.000000  1460.000000  1460.000000    1460.000000  \n",
       "mean      2.758904     43.489041     6.321918  2007.815753  180921.195890  \n",
       "std      40.177307    496.123024     2.703626     1.328095   79442.502883  \n",
       "min       0.000000      0.000000     1.000000  2006.000000   34900.000000  \n",
       "25%       0.000000      0.000000     5.000000  2007.000000  129975.000000  \n",
       "50%       0.000000      0.000000     6.000000  2008.000000  163000.000000  \n",
       "75%       0.000000      0.000000     8.000000  2009.000000  214000.000000  \n",
       "max     738.000000  15500.000000    12.000000  2010.000000  755000.000000  \n",
       "\n",
       "[8 rows x 38 columns]"
      ]
     },
     "execution_count": 73,
     "metadata": {},
     "output_type": "execute_result"
    }
   ],
   "source": [
    "train_data.describe()"
   ]
  },
  {
   "cell_type": "code",
   "execution_count": 74,
   "metadata": {
    "execution": {
     "iopub.execute_input": "2020-08-29T22:33:02.074973Z",
     "iopub.status.busy": "2020-08-29T22:33:02.074143Z",
     "iopub.status.idle": "2020-08-29T22:33:02.082104Z",
     "shell.execute_reply": "2020-08-29T22:33:02.082688Z"
    },
    "papermill": {
     "duration": 0.036684,
     "end_time": "2020-08-29T22:33:02.082880",
     "exception": false,
     "start_time": "2020-08-29T22:33:02.046196",
     "status": "completed"
    },
    "tags": []
   },
   "outputs": [
    {
     "data": {
      "text/plain": [
       "Id                 0\n",
       "MSSubClass         0\n",
       "MSZoning           0\n",
       "LotFrontage      259\n",
       "LotArea            0\n",
       "                ... \n",
       "MoSold             0\n",
       "YrSold             0\n",
       "SaleType           0\n",
       "SaleCondition      0\n",
       "SalePrice          0\n",
       "Length: 81, dtype: int64"
      ]
     },
     "execution_count": 74,
     "metadata": {},
     "output_type": "execute_result"
    }
   ],
   "source": [
    "train_data.isnull().sum()"
   ]
  },
  {
   "cell_type": "code",
   "execution_count": 75,
   "metadata": {
    "execution": {
     "iopub.execute_input": "2020-08-29T22:33:02.118234Z",
     "iopub.status.busy": "2020-08-29T22:33:02.117214Z",
     "iopub.status.idle": "2020-08-29T22:33:02.122465Z",
     "shell.execute_reply": "2020-08-29T22:33:02.121755Z"
    },
    "papermill": {
     "duration": 0.025185,
     "end_time": "2020-08-29T22:33:02.122615",
     "exception": false,
     "start_time": "2020-08-29T22:33:02.097430",
     "status": "completed"
    },
    "tags": []
   },
   "outputs": [
    {
     "data": {
      "text/plain": [
       "(1460, 81)"
      ]
     },
     "execution_count": 75,
     "metadata": {},
     "output_type": "execute_result"
    }
   ],
   "source": [
    "train_data.shape"
   ]
  },
  {
   "cell_type": "code",
   "execution_count": 76,
   "metadata": {
    "execution": {
     "iopub.execute_input": "2020-08-29T22:33:02.159669Z",
     "iopub.status.busy": "2020-08-29T22:33:02.158774Z",
     "iopub.status.idle": "2020-08-29T22:33:02.163475Z",
     "shell.execute_reply": "2020-08-29T22:33:02.164101Z"
    },
    "papermill": {
     "duration": 0.026974,
     "end_time": "2020-08-29T22:33:02.164274",
     "exception": false,
     "start_time": "2020-08-29T22:33:02.137300",
     "status": "completed"
    },
    "tags": []
   },
   "outputs": [],
   "source": [
    "train_data.drop(['Alley', 'PoolQC', 'Fence', 'MiscFeature', 'Id', 'GarageYrBlt'], axis=1, inplace = True)"
   ]
  },
  {
   "cell_type": "code",
   "execution_count": 77,
   "metadata": {
    "execution": {
     "iopub.execute_input": "2020-08-29T22:33:02.208714Z",
     "iopub.status.busy": "2020-08-29T22:33:02.207888Z",
     "iopub.status.idle": "2020-08-29T22:33:02.221604Z",
     "shell.execute_reply": "2020-08-29T22:33:02.220929Z"
    },
    "papermill": {
     "duration": 0.04267,
     "end_time": "2020-08-29T22:33:02.221735",
     "exception": false,
     "start_time": "2020-08-29T22:33:02.179065",
     "status": "completed"
    },
    "tags": []
   },
   "outputs": [],
   "source": [
    "train_data['LotFrontage']=train_data['LotFrontage'].fillna(train_data['LotFrontage'].mode()[0])\n",
    "train_data['BsmtCond']=train_data['BsmtCond'].fillna(train_data['BsmtCond'].mode()[0])\n",
    "train_data['BsmtQual']=train_data['BsmtQual'].fillna(train_data['BsmtQual'].mode()[0])\n",
    "train_data['FireplaceQu']=train_data['FireplaceQu'].fillna(train_data['FireplaceQu'].mode()[0])\n",
    "train_data['GarageType']=train_data['GarageType'].fillna(train_data['GarageType'].mode()[0])\n",
    "train_data['GarageFinish']=train_data['GarageFinish'].fillna(train_data['GarageFinish'].mode()[0])\n",
    "train_data['GarageQual']=train_data['GarageQual'].fillna(train_data['GarageQual'].mode()[0])\n",
    "train_data['GarageCond']=train_data['GarageCond'].fillna(train_data['GarageCond'].mode()[0])"
   ]
  },
  {
   "cell_type": "code",
   "execution_count": 78,
   "metadata": {
    "execution": {
     "iopub.execute_input": "2020-08-29T22:33:02.257715Z",
     "iopub.status.busy": "2020-08-29T22:33:02.256656Z",
     "iopub.status.idle": "2020-08-29T22:33:02.261977Z",
     "shell.execute_reply": "2020-08-29T22:33:02.261168Z"
    },
    "papermill": {
     "duration": 0.025618,
     "end_time": "2020-08-29T22:33:02.262111",
     "exception": false,
     "start_time": "2020-08-29T22:33:02.236493",
     "status": "completed"
    },
    "tags": []
   },
   "outputs": [
    {
     "data": {
      "text/plain": [
       "(1460, 75)"
      ]
     },
     "execution_count": 78,
     "metadata": {},
     "output_type": "execute_result"
    }
   ],
   "source": [
    "train_data.shape"
   ]
  },
  {
   "cell_type": "code",
   "execution_count": 79,
   "metadata": {
    "execution": {
     "iopub.execute_input": "2020-08-29T22:33:02.306331Z",
     "iopub.status.busy": "2020-08-29T22:33:02.305473Z",
     "iopub.status.idle": "2020-08-29T22:33:02.314143Z",
     "shell.execute_reply": "2020-08-29T22:33:02.313349Z"
    },
    "papermill": {
     "duration": 0.036905,
     "end_time": "2020-08-29T22:33:02.314286",
     "exception": false,
     "start_time": "2020-08-29T22:33:02.277381",
     "status": "completed"
    },
    "tags": []
   },
   "outputs": [
    {
     "data": {
      "text/plain": [
       "994"
      ]
     },
     "execution_count": 79,
     "metadata": {},
     "output_type": "execute_result"
    }
   ],
   "source": [
    "train_data.isnull().sum().sum()"
   ]
  },
  {
   "cell_type": "code",
   "execution_count": 80,
   "metadata": {
    "execution": {
     "iopub.execute_input": "2020-08-29T22:33:02.351612Z",
     "iopub.status.busy": "2020-08-29T22:33:02.350724Z",
     "iopub.status.idle": "2020-08-29T22:33:03.801372Z",
     "shell.execute_reply": "2020-08-29T22:33:03.800611Z"
    },
    "papermill": {
     "duration": 1.472003,
     "end_time": "2020-08-29T22:33:03.801503",
     "exception": false,
     "start_time": "2020-08-29T22:33:02.329500",
     "status": "completed"
    },
    "tags": []
   },
   "outputs": [
    {
     "data": {
      "text/plain": [
       "<Axes: >"
      ]
     },
     "execution_count": 80,
     "metadata": {},
     "output_type": "execute_result"
    },
    {
     "data": {
      "image/png": "[encoded data removed]",
      "text/plain": [
       "<Figure size 640x480 with 1 Axes>"
      ]
     },
     "metadata": {},
     "output_type": "display_data"
    }
   ],
   "source": [
    "import seaborn as sns\n",
    "sns.heatmap(train_data.isnull(),yticklabels=False,cbar=False,cmap='coolwarm')"
   ]
  },
  {
   "cell_type": "code",
   "execution_count": 81,
   "metadata": {
    "execution": {
     "iopub.execute_input": "2020-08-29T22:33:03.847402Z",
     "iopub.status.busy": "2020-08-29T22:33:03.843942Z",
     "iopub.status.idle": "2020-08-29T22:33:03.850569Z",
     "shell.execute_reply": "2020-08-29T22:33:03.851322Z"
    },
    "papermill": {
     "duration": 0.033933,
     "end_time": "2020-08-29T22:33:03.851484",
     "exception": false,
     "start_time": "2020-08-29T22:33:03.817551",
     "status": "completed"
    },
    "tags": []
   },
   "outputs": [],
   "source": [
    "train_data['MasVnrType']=train_data['MasVnrType'].fillna(train_data['MasVnrType'].mode()[0])\n",
    "train_data['MasVnrArea']=train_data['MasVnrArea'].fillna(train_data['MasVnrArea'].mode()[0])\n",
    "train_data['BsmtExposure']=train_data['BsmtExposure'].fillna(train_data['BsmtExposure'].mode()[0])\n",
    "train_data['BsmtFinType2']=train_data['BsmtFinType2'].fillna(train_data['BsmtFinType2'].mode()[0])"
   ]
  },
  {
   "cell_type": "code",
   "execution_count": 82,
   "metadata": {
    "execution": {
     "iopub.execute_input": "2020-08-29T22:33:03.897216Z",
     "iopub.status.busy": "2020-08-29T22:33:03.896011Z",
     "iopub.status.idle": "2020-08-29T22:33:04.250521Z",
     "shell.execute_reply": "2020-08-29T22:33:04.251438Z"
    },
    "papermill": {
     "duration": 0.384371,
     "end_time": "2020-08-29T22:33:04.251667",
     "exception": false,
     "start_time": "2020-08-29T22:33:03.867296",
     "status": "completed"
    },
    "tags": []
   },
   "outputs": [
    {
     "data": {
      "text/plain": [
       "<Axes: >"
      ]
     },
     "execution_count": 82,
     "metadata": {},
     "output_type": "execute_result"
    },
    {
     "data": {
      "image/png": "[encoded data removed]",
      "text/plain": [
       "<Figure size 640x480 with 1 Axes>"
      ]
     },
     "metadata": {},
     "output_type": "display_data"
    }
   ],
   "source": [
    "sns.heatmap(train_data.isnull(),yticklabels=False,cbar=False,cmap='YlGnBu')"
   ]
  },
  {
   "cell_type": "code",
   "execution_count": 83,
   "metadata": {
    "execution": {
     "iopub.execute_input": "2020-08-29T22:33:04.311494Z",
     "iopub.status.busy": "2020-08-29T22:33:04.310664Z",
     "iopub.status.idle": "2020-08-29T22:33:04.345338Z",
     "shell.execute_reply": "2020-08-29T22:33:04.344305Z"
    },
    "papermill": {
     "duration": 0.071046,
     "end_time": "2020-08-29T22:33:04.345531",
     "exception": false,
     "start_time": "2020-08-29T22:33:04.274485",
     "status": "completed"
    },
    "tags": []
   },
   "outputs": [],
   "source": [
    "train_data.dropna(inplace=True)"
   ]
  },
  {
   "cell_type": "code",
   "execution_count": 84,
   "metadata": {
    "execution": {
     "iopub.execute_input": "2020-08-29T22:33:04.425286Z",
     "iopub.status.busy": "2020-08-29T22:33:04.412227Z",
     "iopub.status.idle": "2020-08-29T22:33:04.431074Z",
     "shell.execute_reply": "2020-08-29T22:33:04.430436Z"
    },
    "papermill": {
     "duration": 0.063661,
     "end_time": "2020-08-29T22:33:04.431226",
     "exception": false,
     "start_time": "2020-08-29T22:33:04.367565",
     "status": "completed"
    },
    "tags": []
   },
   "outputs": [
    {
     "data": {
      "text/html": [
       "<div>\n",
       "<style scoped>\n",
       "    .dataframe tbody tr th:only-of-type {\n",
       "        vertical-align: middle;\n",
       "    }\n",
       "\n",
       "    .dataframe tbody tr th {\n",
       "        vertical-align: top;\n",
       "    }\n",
       "\n",
       "    .dataframe thead th {\n",
       "        text-align: right;\n",
       "    }\n",
       "</style>\n",
       "<table border=\"1\" class=\"dataframe\">\n",
       "  <thead>\n",
       "    <tr style=\"text-align: right;\">\n",
       "      <th></th>\n",
       "      <th>MSSubClass</th>\n",
       "      <th>MSZoning</th>\n",
       "      <th>LotFrontage</th>\n",
       "      <th>LotArea</th>\n",
       "      <th>Street</th>\n",
       "      <th>LotShape</th>\n",
       "      <th>LandContour</th>\n",
       "      <th>Utilities</th>\n",
       "      <th>LotConfig</th>\n",
       "      <th>LandSlope</th>\n",
       "      <th>...</th>\n",
       "      <th>EnclosedPorch</th>\n",
       "      <th>3SsnPorch</th>\n",
       "      <th>ScreenPorch</th>\n",
       "      <th>PoolArea</th>\n",
       "      <th>MiscVal</th>\n",
       "      <th>MoSold</th>\n",
       "      <th>YrSold</th>\n",
       "      <th>SaleType</th>\n",
       "      <th>SaleCondition</th>\n",
       "      <th>SalePrice</th>\n",
       "    </tr>\n",
       "  </thead>\n",
       "  <tbody>\n",
       "    <tr>\n",
       "      <th>0</th>\n",
       "      <td>60</td>\n",
       "      <td>RL</td>\n",
       "      <td>65.0</td>\n",
       "      <td>8450</td>\n",
       "      <td>Pave</td>\n",
       "      <td>Reg</td>\n",
       "      <td>Lvl</td>\n",
       "      <td>AllPub</td>\n",
       "      <td>Inside</td>\n",
       "      <td>Gtl</td>\n",
       "      <td>...</td>\n",
       "      <td>0</td>\n",
       "      <td>0</td>\n",
       "      <td>0</td>\n",
       "      <td>0</td>\n",
       "      <td>0</td>\n",
       "      <td>2</td>\n",
       "      <td>2008</td>\n",
       "      <td>WD</td>\n",
       "      <td>Normal</td>\n",
       "      <td>208500</td>\n",
       "    </tr>\n",
       "    <tr>\n",
       "      <th>1</th>\n",
       "      <td>20</td>\n",
       "      <td>RL</td>\n",
       "      <td>80.0</td>\n",
       "      <td>9600</td>\n",
       "      <td>Pave</td>\n",
       "      <td>Reg</td>\n",
       "      <td>Lvl</td>\n",
       "      <td>AllPub</td>\n",
       "      <td>FR2</td>\n",
       "      <td>Gtl</td>\n",
       "      <td>...</td>\n",
       "      <td>0</td>\n",
       "      <td>0</td>\n",
       "      <td>0</td>\n",
       "      <td>0</td>\n",
       "      <td>0</td>\n",
       "      <td>5</td>\n",
       "      <td>2007</td>\n",
       "      <td>WD</td>\n",
       "      <td>Normal</td>\n",
       "      <td>181500</td>\n",
       "    </tr>\n",
       "    <tr>\n",
       "      <th>2</th>\n",
       "      <td>60</td>\n",
       "      <td>RL</td>\n",
       "      <td>68.0</td>\n",
       "      <td>11250</td>\n",
       "      <td>Pave</td>\n",
       "      <td>IR1</td>\n",
       "      <td>Lvl</td>\n",
       "      <td>AllPub</td>\n",
       "      <td>Inside</td>\n",
       "      <td>Gtl</td>\n",
       "      <td>...</td>\n",
       "      <td>0</td>\n",
       "      <td>0</td>\n",
       "      <td>0</td>\n",
       "      <td>0</td>\n",
       "      <td>0</td>\n",
       "      <td>9</td>\n",
       "      <td>2008</td>\n",
       "      <td>WD</td>\n",
       "      <td>Normal</td>\n",
       "      <td>223500</td>\n",
       "    </tr>\n",
       "    <tr>\n",
       "      <th>3</th>\n",
       "      <td>70</td>\n",
       "      <td>RL</td>\n",
       "      <td>60.0</td>\n",
       "      <td>9550</td>\n",
       "      <td>Pave</td>\n",
       "      <td>IR1</td>\n",
       "      <td>Lvl</td>\n",
       "      <td>AllPub</td>\n",
       "      <td>Corner</td>\n",
       "      <td>Gtl</td>\n",
       "      <td>...</td>\n",
       "      <td>272</td>\n",
       "      <td>0</td>\n",
       "      <td>0</td>\n",
       "      <td>0</td>\n",
       "      <td>0</td>\n",
       "      <td>2</td>\n",
       "      <td>2006</td>\n",
       "      <td>WD</td>\n",
       "      <td>Abnorml</td>\n",
       "      <td>140000</td>\n",
       "    </tr>\n",
       "    <tr>\n",
       "      <th>4</th>\n",
       "      <td>60</td>\n",
       "      <td>RL</td>\n",
       "      <td>84.0</td>\n",
       "      <td>14260</td>\n",
       "      <td>Pave</td>\n",
       "      <td>IR1</td>\n",
       "      <td>Lvl</td>\n",
       "      <td>AllPub</td>\n",
       "      <td>FR2</td>\n",
       "      <td>Gtl</td>\n",
       "      <td>...</td>\n",
       "      <td>0</td>\n",
       "      <td>0</td>\n",
       "      <td>0</td>\n",
       "      <td>0</td>\n",
       "      <td>0</td>\n",
       "      <td>12</td>\n",
       "      <td>2008</td>\n",
       "      <td>WD</td>\n",
       "      <td>Normal</td>\n",
       "      <td>250000</td>\n",
       "    </tr>\n",
       "  </tbody>\n",
       "</table>\n",
       "<p>5 rows × 75 columns</p>\n",
       "</div>"
      ],
      "text/plain": [
       "   MSSubClass MSZoning  LotFrontage  LotArea Street LotShape LandContour  \\\n",
       "0          60       RL         65.0     8450   Pave      Reg         Lvl   \n",
       "1          20       RL         80.0     9600   Pave      Reg         Lvl   \n",
       "2          60       RL         68.0    11250   Pave      IR1         Lvl   \n",
       "3          70       RL         60.0     9550   Pave      IR1         Lvl   \n",
       "4          60       RL         84.0    14260   Pave      IR1         Lvl   \n",
       "\n",
       "  Utilities LotConfig LandSlope  ... EnclosedPorch 3SsnPorch ScreenPorch  \\\n",
       "0    AllPub    Inside       Gtl  ...             0         0           0   \n",
       "1    AllPub       FR2       Gtl  ...             0         0           0   \n",
       "2    AllPub    Inside       Gtl  ...             0         0           0   \n",
       "3    AllPub    Corner       Gtl  ...           272         0           0   \n",
       "4    AllPub       FR2       Gtl  ...             0         0           0   \n",
       "\n",
       "  PoolArea MiscVal  MoSold  YrSold  SaleType  SaleCondition SalePrice  \n",
       "0        0       0       2    2008        WD         Normal    208500  \n",
       "1        0       0       5    2007        WD         Normal    181500  \n",
       "2        0       0       9    2008        WD         Normal    223500  \n",
       "3        0       0       2    2006        WD        Abnorml    140000  \n",
       "4        0       0      12    2008        WD         Normal    250000  \n",
       "\n",
       "[5 rows x 75 columns]"
      ]
     },
     "execution_count": 84,
     "metadata": {},
     "output_type": "execute_result"
    }
   ],
   "source": [
    "train_data.head()"
   ]
  },
  {
   "cell_type": "markdown",
   "metadata": {
    "papermill": {
     "duration": 0.022843,
     "end_time": "2020-08-29T22:33:04.471275",
     "exception": false,
     "start_time": "2020-08-29T22:33:04.448432",
     "status": "completed"
    },
    "tags": []
   },
   "source": [
    "<a id=\"2\"></a>\n",
    "# <p style=\"background-color:##4981b3;font-family:newtimeroman;color:#FFF9ED;font-size:80%;\">Test Data Loading</p>"
   ]
  },
  {
   "cell_type": "code",
   "execution_count": 85,
   "metadata": {
    "execution": {
     "iopub.execute_input": "2020-08-29T22:33:04.515566Z",
     "iopub.status.busy": "2020-08-29T22:33:04.514787Z",
     "iopub.status.idle": "2020-08-29T22:33:04.560100Z",
     "shell.execute_reply": "2020-08-29T22:33:04.559399Z"
    },
    "papermill": {
     "duration": 0.069148,
     "end_time": "2020-08-29T22:33:04.560248",
     "exception": false,
     "start_time": "2020-08-29T22:33:04.491100",
     "status": "completed"
    },
    "tags": []
   },
   "outputs": [],
   "source": [
    "test_data = pd.read_csv('./house-prices-advanced-regression-techniques/test.csv')"
   ]
  },
  {
   "cell_type": "markdown",
   "metadata": {},
   "source": [
    "<a id=\"2\"></a>\n",
    "# <p style=\"background-color:##4981b3;font-family:newtimeroman;color:#FFF9ED;font-size:80%;\">Test Data Cleaning and Preprocessing</p>"
   ]
  },
  {
   "cell_type": "code",
   "execution_count": 86,
   "metadata": {
    "execution": {
     "iopub.execute_input": "2020-08-29T22:33:04.607632Z",
     "iopub.status.busy": "2020-08-29T22:33:04.606854Z",
     "iopub.status.idle": "2020-08-29T22:33:04.614721Z",
     "shell.execute_reply": "2020-08-29T22:33:04.614076Z"
    },
    "papermill": {
     "duration": 0.037765,
     "end_time": "2020-08-29T22:33:04.614870",
     "exception": false,
     "start_time": "2020-08-29T22:33:04.577105",
     "status": "completed"
    },
    "tags": []
   },
   "outputs": [
    {
     "data": {
      "text/plain": [
       "Id                 0\n",
       "MSSubClass         0\n",
       "MSZoning           4\n",
       "LotFrontage      227\n",
       "LotArea            0\n",
       "                ... \n",
       "MiscVal            0\n",
       "MoSold             0\n",
       "YrSold             0\n",
       "SaleType           1\n",
       "SaleCondition      0\n",
       "Length: 80, dtype: int64"
      ]
     },
     "execution_count": 86,
     "metadata": {},
     "output_type": "execute_result"
    }
   ],
   "source": [
    "test_data.isnull().sum()"
   ]
  },
  {
   "cell_type": "code",
   "execution_count": 87,
   "metadata": {
    "execution": {
     "iopub.execute_input": "2020-08-29T22:33:04.654827Z",
     "iopub.status.busy": "2020-08-29T22:33:04.653672Z",
     "iopub.status.idle": "2020-08-29T22:33:04.657613Z",
     "shell.execute_reply": "2020-08-29T22:33:04.658403Z"
    },
    "papermill": {
     "duration": 0.026951,
     "end_time": "2020-08-29T22:33:04.658576",
     "exception": false,
     "start_time": "2020-08-29T22:33:04.631625",
     "status": "completed"
    },
    "tags": []
   },
   "outputs": [
    {
     "data": {
      "text/plain": [
       "(1459, 80)"
      ]
     },
     "execution_count": 87,
     "metadata": {},
     "output_type": "execute_result"
    }
   ],
   "source": [
    "test_data.shape"
   ]
  },
  {
   "cell_type": "code",
   "execution_count": 88,
   "metadata": {
    "execution": {
     "iopub.execute_input": "2020-08-29T22:33:04.704234Z",
     "iopub.status.busy": "2020-08-29T22:33:04.703002Z",
     "iopub.status.idle": "2020-08-29T22:33:04.706679Z",
     "shell.execute_reply": "2020-08-29T22:33:04.705903Z"
    },
    "papermill": {
     "duration": 0.029474,
     "end_time": "2020-08-29T22:33:04.706824",
     "exception": false,
     "start_time": "2020-08-29T22:33:04.677350",
     "status": "completed"
    },
    "tags": []
   },
   "outputs": [],
   "source": [
    "test_data.drop(['Alley', 'PoolQC', 'Fence', 'MiscFeature', 'Id', 'GarageYrBlt'], axis=1, inplace = True)"
   ]
  },
  {
   "cell_type": "code",
   "execution_count": 89,
   "metadata": {
    "execution": {
     "iopub.execute_input": "2020-08-29T22:33:04.758465Z",
     "iopub.status.busy": "2020-08-29T22:33:04.757281Z",
     "iopub.status.idle": "2020-08-29T22:33:04.776772Z",
     "shell.execute_reply": "2020-08-29T22:33:04.776084Z"
    },
    "papermill": {
     "duration": 0.053075,
     "end_time": "2020-08-29T22:33:04.776939",
     "exception": false,
     "start_time": "2020-08-29T22:33:04.723864",
     "status": "completed"
    },
    "tags": []
   },
   "outputs": [],
   "source": [
    "test_data['LotFrontage']=test_data['LotFrontage'].fillna(test_data['LotFrontage'].mode()[0])\n",
    "test_data['BsmtCond']=test_data['BsmtCond'].fillna(test_data['BsmtCond'].mode()[0])\n",
    "test_data['BsmtQual']=test_data['BsmtQual'].fillna(test_data['BsmtQual'].mode()[0])\n",
    "test_data['FireplaceQu']=test_data['FireplaceQu'].fillna(test_data['FireplaceQu'].mode()[0])\n",
    "test_data['GarageType']=test_data['GarageType'].fillna(test_data['GarageType'].mode()[0])\n",
    "test_data['GarageFinish']=test_data['GarageFinish'].fillna(test_data['GarageFinish'].mode()[0])\n",
    "test_data['GarageQual']=test_data['GarageQual'].fillna(test_data['GarageQual'].mode()[0])\n",
    "test_data['GarageCond']=test_data['GarageCond'].fillna(test_data['GarageCond'].mode()[0])\n",
    "test_data['MasVnrType']=test_data['MasVnrType'].fillna(test_data['MasVnrType'].mode()[0])\n",
    "test_data['MasVnrArea']=test_data['MasVnrArea'].fillna(test_data['MasVnrArea'].mode()[0])\n",
    "test_data['BsmtExposure']=test_data['BsmtExposure'].fillna(test_data['BsmtExposure'].mode()[0])\n",
    "test_data['BsmtFinType2']=test_data['BsmtFinType2'].fillna(test_data['BsmtFinType2'].mode()[0])"
   ]
  },
  {
   "cell_type": "code",
   "execution_count": 90,
   "metadata": {
    "execution": {
     "iopub.execute_input": "2020-08-29T22:33:04.825604Z",
     "iopub.status.busy": "2020-08-29T22:33:04.824758Z",
     "iopub.status.idle": "2020-08-29T22:33:04.851736Z",
     "shell.execute_reply": "2020-08-29T22:33:04.851092Z"
    },
    "papermill": {
     "duration": 0.05754,
     "end_time": "2020-08-29T22:33:04.851882",
     "exception": false,
     "start_time": "2020-08-29T22:33:04.794342",
     "status": "completed"
    },
    "tags": []
   },
   "outputs": [
    {
     "data": {
      "text/html": [
       "<div>\n",
       "<style scoped>\n",
       "    .dataframe tbody tr th:only-of-type {\n",
       "        vertical-align: middle;\n",
       "    }\n",
       "\n",
       "    .dataframe tbody tr th {\n",
       "        vertical-align: top;\n",
       "    }\n",
       "\n",
       "    .dataframe thead th {\n",
       "        text-align: right;\n",
       "    }\n",
       "</style>\n",
       "<table border=\"1\" class=\"dataframe\">\n",
       "  <thead>\n",
       "    <tr style=\"text-align: right;\">\n",
       "      <th></th>\n",
       "      <th>MSZoning</th>\n",
       "      <th>Utilities</th>\n",
       "      <th>Exterior1st</th>\n",
       "      <th>Exterior2nd</th>\n",
       "      <th>BsmtFinType1</th>\n",
       "      <th>BsmtFinSF1</th>\n",
       "      <th>BsmtFinSF2</th>\n",
       "      <th>BsmtUnfSF</th>\n",
       "      <th>TotalBsmtSF</th>\n",
       "      <th>BsmtFullBath</th>\n",
       "      <th>BsmtHalfBath</th>\n",
       "      <th>KitchenQual</th>\n",
       "      <th>Functional</th>\n",
       "      <th>GarageCars</th>\n",
       "      <th>GarageArea</th>\n",
       "      <th>SaleType</th>\n",
       "    </tr>\n",
       "  </thead>\n",
       "  <tbody>\n",
       "    <tr>\n",
       "      <th>0</th>\n",
       "      <td>RH</td>\n",
       "      <td>AllPub</td>\n",
       "      <td>VinylSd</td>\n",
       "      <td>VinylSd</td>\n",
       "      <td>Rec</td>\n",
       "      <td>468.0</td>\n",
       "      <td>144.0</td>\n",
       "      <td>270.0</td>\n",
       "      <td>882.0</td>\n",
       "      <td>0.0</td>\n",
       "      <td>0.0</td>\n",
       "      <td>TA</td>\n",
       "      <td>Typ</td>\n",
       "      <td>1.0</td>\n",
       "      <td>730.0</td>\n",
       "      <td>WD</td>\n",
       "    </tr>\n",
       "    <tr>\n",
       "      <th>1</th>\n",
       "      <td>RL</td>\n",
       "      <td>AllPub</td>\n",
       "      <td>Wd Sdng</td>\n",
       "      <td>Wd Sdng</td>\n",
       "      <td>ALQ</td>\n",
       "      <td>923.0</td>\n",
       "      <td>0.0</td>\n",
       "      <td>406.0</td>\n",
       "      <td>1329.0</td>\n",
       "      <td>0.0</td>\n",
       "      <td>0.0</td>\n",
       "      <td>Gd</td>\n",
       "      <td>Typ</td>\n",
       "      <td>1.0</td>\n",
       "      <td>312.0</td>\n",
       "      <td>WD</td>\n",
       "    </tr>\n",
       "    <tr>\n",
       "      <th>2</th>\n",
       "      <td>RL</td>\n",
       "      <td>AllPub</td>\n",
       "      <td>VinylSd</td>\n",
       "      <td>VinylSd</td>\n",
       "      <td>GLQ</td>\n",
       "      <td>791.0</td>\n",
       "      <td>0.0</td>\n",
       "      <td>137.0</td>\n",
       "      <td>928.0</td>\n",
       "      <td>0.0</td>\n",
       "      <td>0.0</td>\n",
       "      <td>TA</td>\n",
       "      <td>Typ</td>\n",
       "      <td>2.0</td>\n",
       "      <td>482.0</td>\n",
       "      <td>WD</td>\n",
       "    </tr>\n",
       "    <tr>\n",
       "      <th>3</th>\n",
       "      <td>RL</td>\n",
       "      <td>AllPub</td>\n",
       "      <td>VinylSd</td>\n",
       "      <td>VinylSd</td>\n",
       "      <td>GLQ</td>\n",
       "      <td>602.0</td>\n",
       "      <td>0.0</td>\n",
       "      <td>324.0</td>\n",
       "      <td>926.0</td>\n",
       "      <td>0.0</td>\n",
       "      <td>0.0</td>\n",
       "      <td>Gd</td>\n",
       "      <td>Typ</td>\n",
       "      <td>2.0</td>\n",
       "      <td>470.0</td>\n",
       "      <td>WD</td>\n",
       "    </tr>\n",
       "    <tr>\n",
       "      <th>4</th>\n",
       "      <td>RL</td>\n",
       "      <td>AllPub</td>\n",
       "      <td>HdBoard</td>\n",
       "      <td>HdBoard</td>\n",
       "      <td>ALQ</td>\n",
       "      <td>263.0</td>\n",
       "      <td>0.0</td>\n",
       "      <td>1017.0</td>\n",
       "      <td>1280.0</td>\n",
       "      <td>0.0</td>\n",
       "      <td>0.0</td>\n",
       "      <td>Gd</td>\n",
       "      <td>Typ</td>\n",
       "      <td>2.0</td>\n",
       "      <td>506.0</td>\n",
       "      <td>WD</td>\n",
       "    </tr>\n",
       "  </tbody>\n",
       "</table>\n",
       "</div>"
      ],
      "text/plain": [
       "  MSZoning Utilities Exterior1st Exterior2nd BsmtFinType1  BsmtFinSF1  \\\n",
       "0       RH    AllPub     VinylSd     VinylSd          Rec       468.0   \n",
       "1       RL    AllPub     Wd Sdng     Wd Sdng          ALQ       923.0   \n",
       "2       RL    AllPub     VinylSd     VinylSd          GLQ       791.0   \n",
       "3       RL    AllPub     VinylSd     VinylSd          GLQ       602.0   \n",
       "4       RL    AllPub     HdBoard     HdBoard          ALQ       263.0   \n",
       "\n",
       "   BsmtFinSF2  BsmtUnfSF  TotalBsmtSF  BsmtFullBath  BsmtHalfBath KitchenQual  \\\n",
       "0       144.0      270.0        882.0           0.0           0.0          TA   \n",
       "1         0.0      406.0       1329.0           0.0           0.0          Gd   \n",
       "2         0.0      137.0        928.0           0.0           0.0          TA   \n",
       "3         0.0      324.0        926.0           0.0           0.0          Gd   \n",
       "4         0.0     1017.0       1280.0           0.0           0.0          Gd   \n",
       "\n",
       "  Functional  GarageCars  GarageArea SaleType  \n",
       "0        Typ         1.0       730.0       WD  \n",
       "1        Typ         1.0       312.0       WD  \n",
       "2        Typ         2.0       482.0       WD  \n",
       "3        Typ         2.0       470.0       WD  \n",
       "4        Typ         2.0       506.0       WD  "
      ]
     },
     "execution_count": 90,
     "metadata": {},
     "output_type": "execute_result"
    }
   ],
   "source": [
    "test_data.loc[:, test_data.isnull().any()].head()"
   ]
  },
  {
   "cell_type": "code",
   "execution_count": 91,
   "metadata": {
    "execution": {
     "iopub.execute_input": "2020-08-29T22:33:04.918182Z",
     "iopub.status.busy": "2020-08-29T22:33:04.897968Z",
     "iopub.status.idle": "2020-08-29T22:33:04.930065Z",
     "shell.execute_reply": "2020-08-29T22:33:04.928900Z"
    },
    "papermill": {
     "duration": 0.060554,
     "end_time": "2020-08-29T22:33:04.930295",
     "exception": false,
     "start_time": "2020-08-29T22:33:04.869741",
     "status": "completed"
    },
    "tags": []
   },
   "outputs": [],
   "source": [
    "test_data['Utilities']=test_data['Utilities'].fillna(test_data['Utilities'].mode()[0])\n",
    "test_data['Exterior1st']=test_data['Exterior1st'].fillna(test_data['Exterior1st'].mode()[0])\n",
    "test_data['Exterior2nd']=test_data['Exterior2nd'].fillna(test_data['Exterior2nd'].mode()[0])\n",
    "test_data['BsmtFinType1']=test_data['BsmtFinType1'].fillna(test_data['BsmtFinType1'].mode()[0])\n",
    "test_data['BsmtFinSF1']=test_data['BsmtFinSF1'].fillna(test_data['BsmtFinSF1'].mean())\n",
    "test_data['BsmtFinSF2']=test_data['BsmtFinSF2'].fillna(test_data['BsmtFinSF2'].mean())\n",
    "test_data['BsmtUnfSF']=test_data['BsmtUnfSF'].fillna(test_data['BsmtUnfSF'].mean())\n",
    "test_data['TotalBsmtSF']=test_data['TotalBsmtSF'].fillna(test_data['TotalBsmtSF'].mean())\n",
    "test_data['BsmtFullBath']=test_data['BsmtFullBath'].fillna(test_data['BsmtFullBath'].mode()[0])\n",
    "test_data['BsmtHalfBath']=test_data['BsmtHalfBath'].fillna(test_data['BsmtHalfBath'].mode()[0])\n",
    "test_data['KitchenQual']=test_data['KitchenQual'].fillna(test_data['KitchenQual'].mode()[0])\n",
    "test_data['Functional']=test_data['Functional'].fillna(test_data['Functional'].mode()[0])\n",
    "test_data['GarageCars']=test_data['GarageCars'].fillna(test_data['GarageCars'].mean())\n",
    "test_data['GarageArea']=test_data['GarageArea'].fillna(test_data['GarageArea'].mean())\n",
    "test_data['SaleType']=test_data['SaleType'].fillna(test_data['SaleType'].mode()[0])"
   ]
  },
  {
   "cell_type": "code",
   "execution_count": 92,
   "metadata": {
    "execution": {
     "iopub.execute_input": "2020-08-29T22:33:04.974135Z",
     "iopub.status.busy": "2020-08-29T22:33:04.973063Z",
     "iopub.status.idle": "2020-08-29T22:33:04.976933Z",
     "shell.execute_reply": "2020-08-29T22:33:04.977537Z"
    },
    "papermill": {
     "duration": 0.028205,
     "end_time": "2020-08-29T22:33:04.977701",
     "exception": false,
     "start_time": "2020-08-29T22:33:04.949496",
     "status": "completed"
    },
    "tags": []
   },
   "outputs": [
    {
     "data": {
      "text/plain": [
       "(1459, 74)"
      ]
     },
     "execution_count": 92,
     "metadata": {},
     "output_type": "execute_result"
    }
   ],
   "source": [
    "test_data.shape"
   ]
  },
  {
   "cell_type": "code",
   "execution_count": 93,
   "metadata": {
    "execution": {
     "iopub.execute_input": "2020-08-29T22:33:05.023686Z",
     "iopub.status.busy": "2020-08-29T22:33:05.022269Z",
     "iopub.status.idle": "2020-08-29T22:33:05.026571Z",
     "shell.execute_reply": "2020-08-29T22:33:05.025698Z"
    },
    "papermill": {
     "duration": 0.031078,
     "end_time": "2020-08-29T22:33:05.026713",
     "exception": false,
     "start_time": "2020-08-29T22:33:04.995635",
     "status": "completed"
    },
    "tags": []
   },
   "outputs": [],
   "source": [
    "# Handling Categorical Features\n",
    "columns=['MSZoning','Street','LotShape','LandContour','Utilities','LotConfig','LandSlope','Neighborhood',\n",
    "         'Condition2','BldgType','Condition1','HouseStyle','SaleType',\n",
    "        'SaleCondition','ExterCond',\n",
    "         'ExterQual','Foundation','BsmtQual','BsmtCond','BsmtExposure','BsmtFinType1','BsmtFinType2',\n",
    "        'RoofStyle','RoofMatl','Exterior1st','Exterior2nd','MasVnrType','Heating','HeatingQC',\n",
    "         'CentralAir',\n",
    "         'Electrical','KitchenQual','Functional',\n",
    "         'FireplaceQu','GarageType','GarageFinish','GarageQual','GarageCond','PavedDrive']"
   ]
  },
  {
   "cell_type": "code",
   "execution_count": 94,
   "metadata": {
    "execution": {
     "iopub.execute_input": "2020-08-29T22:33:05.086358Z",
     "iopub.status.busy": "2020-08-29T22:33:05.084864Z",
     "iopub.status.idle": "2020-08-29T22:33:05.090381Z",
     "shell.execute_reply": "2020-08-29T22:33:05.091259Z"
    },
    "papermill": {
     "duration": 0.04457,
     "end_time": "2020-08-29T22:33:05.091517",
     "exception": false,
     "start_time": "2020-08-29T22:33:05.046947",
     "status": "completed"
    },
    "tags": []
   },
   "outputs": [],
   "source": [
    "def category_onehot_multcols(multcolumns):\n",
    "    data_final=final_data\n",
    "    i=0\n",
    "    for fields in multcolumns:\n",
    "        \n",
    "        print(fields)\n",
    "        df1=pd.get_dummies(final_data[fields],drop_first=True)\n",
    "        \n",
    "        final_data.drop([fields],axis=1,inplace=True)\n",
    "        if i==0:\n",
    "            data_final=df1.copy()\n",
    "        else:\n",
    "            \n",
    "            data_final=pd.concat([data_final,df1],axis=1)\n",
    "        i=i+1\n",
    "       \n",
    "        \n",
    "    data_final=pd.concat([final_data,data_final],axis=1)\n",
    "        \n",
    "    return data_final"
   ]
  },
  {
   "cell_type": "code",
   "execution_count": 95,
   "metadata": {
    "execution": {
     "iopub.execute_input": "2020-08-29T22:33:05.155556Z",
     "iopub.status.busy": "2020-08-29T22:33:05.154159Z",
     "iopub.status.idle": "2020-08-29T22:33:05.158710Z",
     "shell.execute_reply": "2020-08-29T22:33:05.159448Z"
    },
    "papermill": {
     "duration": 0.041251,
     "end_time": "2020-08-29T22:33:05.159650",
     "exception": false,
     "start_time": "2020-08-29T22:33:05.118399",
     "status": "completed"
    },
    "tags": []
   },
   "outputs": [],
   "source": [
    "train_data2 = train_data.copy()"
   ]
  },
  {
   "cell_type": "markdown",
   "metadata": {},
   "source": [
    "<a id=\"2\"></a>\n",
    "# <p style=\"background-color:##4981b3;font-family:newtimeroman;color:#FFF9ED;font-size:80%;\">Merging Training and Test Data</p>"
   ]
  },
  {
   "cell_type": "code",
   "execution_count": 96,
   "metadata": {
    "execution": {
     "iopub.execute_input": "2020-08-29T22:33:05.217288Z",
     "iopub.status.busy": "2020-08-29T22:33:05.216302Z",
     "iopub.status.idle": "2020-08-29T22:33:05.239965Z",
     "shell.execute_reply": "2020-08-29T22:33:05.239079Z"
    },
    "papermill": {
     "duration": 0.058229,
     "end_time": "2020-08-29T22:33:05.240121",
     "exception": false,
     "start_time": "2020-08-29T22:33:05.181892",
     "status": "completed"
    },
    "tags": []
   },
   "outputs": [],
   "source": [
    "final_data=pd.concat([train_data,test_data],axis=0)"
   ]
  },
  {
   "cell_type": "code",
   "execution_count": 97,
   "metadata": {
    "execution": {
     "iopub.execute_input": "2020-08-29T22:33:05.287526Z",
     "iopub.status.busy": "2020-08-29T22:33:05.286300Z",
     "iopub.status.idle": "2020-08-29T22:33:05.291224Z",
     "shell.execute_reply": "2020-08-29T22:33:05.291785Z"
    },
    "papermill": {
     "duration": 0.032993,
     "end_time": "2020-08-29T22:33:05.292040",
     "exception": false,
     "start_time": "2020-08-29T22:33:05.259047",
     "status": "completed"
    },
    "tags": []
   },
   "outputs": [
    {
     "data": {
      "text/plain": [
       "0       208500.0\n",
       "1       181500.0\n",
       "2       223500.0\n",
       "3       140000.0\n",
       "4       250000.0\n",
       "          ...   \n",
       "1454         NaN\n",
       "1455         NaN\n",
       "1456         NaN\n",
       "1457         NaN\n",
       "1458         NaN\n",
       "Name: SalePrice, Length: 2881, dtype: float64"
      ]
     },
     "execution_count": 97,
     "metadata": {},
     "output_type": "execute_result"
    }
   ],
   "source": [
    "final_data['SalePrice']"
   ]
  },
  {
   "cell_type": "code",
   "execution_count": 98,
   "metadata": {
    "execution": {
     "iopub.execute_input": "2020-08-29T22:33:05.336955Z",
     "iopub.status.busy": "2020-08-29T22:33:05.335996Z",
     "iopub.status.idle": "2020-08-29T22:33:05.341164Z",
     "shell.execute_reply": "2020-08-29T22:33:05.340368Z"
    },
    "papermill": {
     "duration": 0.029566,
     "end_time": "2020-08-29T22:33:05.341305",
     "exception": false,
     "start_time": "2020-08-29T22:33:05.311739",
     "status": "completed"
    },
    "tags": []
   },
   "outputs": [
    {
     "data": {
      "text/plain": [
       "(2881, 75)"
      ]
     },
     "execution_count": 98,
     "metadata": {},
     "output_type": "execute_result"
    }
   ],
   "source": [
    "final_data.shape"
   ]
  },
  {
   "cell_type": "code",
   "execution_count": 99,
   "metadata": {
    "execution": {
     "iopub.execute_input": "2020-08-29T22:33:05.386715Z",
     "iopub.status.busy": "2020-08-29T22:33:05.385483Z",
     "iopub.status.idle": "2020-08-29T22:33:05.586986Z",
     "shell.execute_reply": "2020-08-29T22:33:05.587614Z"
    },
    "papermill": {
     "duration": 0.227693,
     "end_time": "2020-08-29T22:33:05.587778",
     "exception": false,
     "start_time": "2020-08-29T22:33:05.360085",
     "status": "completed"
    },
    "tags": []
   },
   "outputs": [
    {
     "name": "stdout",
     "output_type": "stream",
     "text": [
      "MSZoning\n",
      "Street\n",
      "LotShape\n",
      "LandContour\n",
      "Utilities\n",
      "LotConfig\n",
      "LandSlope\n",
      "Neighborhood\n",
      "Condition2\n",
      "BldgType\n",
      "Condition1\n",
      "HouseStyle\n",
      "SaleType\n",
      "SaleCondition\n",
      "ExterCond\n",
      "ExterQual\n",
      "Foundation\n",
      "BsmtQual\n",
      "BsmtCond\n",
      "BsmtExposure\n",
      "BsmtFinType1\n",
      "BsmtFinType2\n",
      "RoofStyle\n",
      "RoofMatl\n",
      "Exterior1st\n",
      "Exterior2nd\n",
      "MasVnrType\n",
      "Heating\n",
      "HeatingQC\n",
      "CentralAir\n",
      "Electrical\n",
      "KitchenQual\n",
      "Functional\n",
      "FireplaceQu\n",
      "GarageType\n",
      "GarageFinish\n",
      "GarageQual\n",
      "GarageCond\n",
      "PavedDrive\n"
     ]
    }
   ],
   "source": [
    "final_data=category_onehot_multcols(columns)"
   ]
  },
  {
   "cell_type": "code",
   "execution_count": 100,
   "metadata": {
    "execution": {
     "iopub.execute_input": "2020-08-29T22:33:05.632783Z",
     "iopub.status.busy": "2020-08-29T22:33:05.631901Z",
     "iopub.status.idle": "2020-08-29T22:33:05.638635Z",
     "shell.execute_reply": "2020-08-29T22:33:05.639249Z"
    },
    "papermill": {
     "duration": 0.032795,
     "end_time": "2020-08-29T22:33:05.639424",
     "exception": false,
     "start_time": "2020-08-29T22:33:05.606629",
     "status": "completed"
    },
    "tags": []
   },
   "outputs": [],
   "source": [
    "final_data =final_data.loc[:,~final_data.columns.duplicated()]"
   ]
  },
  {
   "cell_type": "code",
   "execution_count": 101,
   "metadata": {
    "execution": {
     "iopub.execute_input": "2020-08-29T22:33:05.685989Z",
     "iopub.status.busy": "2020-08-29T22:33:05.684692Z",
     "iopub.status.idle": "2020-08-29T22:33:05.690528Z",
     "shell.execute_reply": "2020-08-29T22:33:05.689686Z"
    },
    "papermill": {
     "duration": 0.031372,
     "end_time": "2020-08-29T22:33:05.690666",
     "exception": false,
     "start_time": "2020-08-29T22:33:05.659294",
     "status": "completed"
    },
    "tags": []
   },
   "outputs": [
    {
     "data": {
      "text/plain": [
       "(2881, 174)"
      ]
     },
     "execution_count": 101,
     "metadata": {},
     "output_type": "execute_result"
    }
   ],
   "source": [
    "final_data.shape"
   ]
  },
  {
   "cell_type": "code",
   "execution_count": 102,
   "metadata": {},
   "outputs": [
    {
     "data": {
      "text/plain": [
       "1459"
      ]
     },
     "execution_count": 102,
     "metadata": {},
     "output_type": "execute_result"
    }
   ],
   "source": [
    "final_data.isnull().sum().sum()"
   ]
  },
  {
   "cell_type": "code",
   "execution_count": 103,
   "metadata": {},
   "outputs": [
    {
     "data": {
      "text/plain": [
       "<bound method DataFrame.info of       MSSubClass  LotFrontage  LotArea  OverallQual  OverallCond  YearBuilt  \\\n",
       "0             60         65.0     8450            7            5       2003   \n",
       "1             20         80.0     9600            6            8       1976   \n",
       "2             60         68.0    11250            7            5       2001   \n",
       "3             70         60.0     9550            7            5       1915   \n",
       "4             60         84.0    14260            8            5       2000   \n",
       "...          ...          ...      ...          ...          ...        ...   \n",
       "1454         160         21.0     1936            4            7       1970   \n",
       "1455         160         21.0     1894            4            5       1970   \n",
       "1456          20        160.0    20000            5            7       1960   \n",
       "1457          85         62.0    10441            5            5       1992   \n",
       "1458          60         74.0     9627            7            5       1993   \n",
       "\n",
       "      YearRemodAdd  MasVnrArea  BsmtFinSF1  BsmtFinSF2  ...   Min1   Min2  \\\n",
       "0             2003       196.0       706.0         0.0  ...  False  False   \n",
       "1             1976         0.0       978.0         0.0  ...  False  False   \n",
       "2             2002       162.0       486.0         0.0  ...  False  False   \n",
       "3             1970         0.0       216.0         0.0  ...  False  False   \n",
       "4             2000       350.0       655.0         0.0  ...  False  False   \n",
       "...            ...         ...         ...         ...  ...    ...    ...   \n",
       "1454          1970         0.0         0.0         0.0  ...  False  False   \n",
       "1455          1970         0.0       252.0         0.0  ...  False  False   \n",
       "1456          1996         0.0      1224.0         0.0  ...  False  False   \n",
       "1457          1992         0.0       337.0         0.0  ...  False  False   \n",
       "1458          1994        94.0       758.0         0.0  ...  False  False   \n",
       "\n",
       "       Typ  Attchd  Basment  BuiltIn  CarPort  Detchd    RFn      P  \n",
       "0     True    True    False    False    False   False   True  False  \n",
       "1     True    True    False    False    False   False   True  False  \n",
       "2     True    True    False    False    False   False   True  False  \n",
       "3     True   False    False    False    False    True  False  False  \n",
       "4     True    True    False    False    False   False   True  False  \n",
       "...    ...     ...      ...      ...      ...     ...    ...    ...  \n",
       "1454  True    True    False    False    False   False  False  False  \n",
       "1455  True   False    False    False     True   False  False  False  \n",
       "1456  True   False    False    False    False    True  False  False  \n",
       "1457  True    True    False    False    False   False  False  False  \n",
       "1458  True    True    False    False    False   False  False  False  \n",
       "\n",
       "[2881 rows x 174 columns]>"
      ]
     },
     "execution_count": 103,
     "metadata": {},
     "output_type": "execute_result"
    }
   ],
   "source": [
    "\n",
    "final_data.info"
   ]
  },
  {
   "cell_type": "code",
   "execution_count": 104,
   "metadata": {},
   "outputs": [],
   "source": [
    "boolean_columns = ['Min1', 'Min2', 'Typ', 'Attchd', 'Basment', 'BuiltIn', 'CarPort', 'Detchd', 'RFn', 'P']\n",
    "for col in boolean_columns:\n",
    "    final_data[col] = final_data[col].astype(int)\n",
    "    final_data[col] = final_data[col].astype(int)"
   ]
  },
  {
   "cell_type": "code",
   "execution_count": 105,
   "metadata": {},
   "outputs": [
    {
     "data": {
      "text/plain": [
       "MSSubClass       int64\n",
       "LotFrontage    float64\n",
       "LotArea          int64\n",
       "OverallQual      int64\n",
       "OverallCond      int64\n",
       "                ...   \n",
       "BuiltIn          int64\n",
       "CarPort          int64\n",
       "Detchd           int64\n",
       "RFn              int64\n",
       "P                int64\n",
       "Length: 174, dtype: object"
      ]
     },
     "execution_count": 105,
     "metadata": {},
     "output_type": "execute_result"
    }
   ],
   "source": [
    "final_data.dtypes"
   ]
  },
  {
   "cell_type": "code",
   "execution_count": 106,
   "metadata": {},
   "outputs": [],
   "source": [
    "numeric_columns = final_data.select_dtypes(include=['int64', 'float64']).columns\n",
    "final_data[numeric_columns] = final_data[numeric_columns].astype(float)"
   ]
  },
  {
   "cell_type": "code",
   "execution_count": 107,
   "metadata": {},
   "outputs": [
    {
     "data": {
      "text/plain": [
       "MSSubClass     float64\n",
       "LotFrontage    float64\n",
       "LotArea        float64\n",
       "OverallQual    float64\n",
       "OverallCond    float64\n",
       "                ...   \n",
       "BuiltIn        float64\n",
       "CarPort        float64\n",
       "Detchd         float64\n",
       "RFn            float64\n",
       "P              float64\n",
       "Length: 174, dtype: object"
      ]
     },
     "execution_count": 107,
     "metadata": {},
     "output_type": "execute_result"
    }
   ],
   "source": [
    "final_data.dtypes"
   ]
  },
  {
   "cell_type": "code",
   "execution_count": 108,
   "metadata": {},
   "outputs": [],
   "source": [
    "\n",
    "null_values_before = final_data.isnull().sum().sum()"
   ]
  },
  {
   "cell_type": "code",
   "execution_count": 109,
   "metadata": {},
   "outputs": [
    {
     "name": "stdout",
     "output_type": "stream",
     "text": [
      "Columns with null values:\n",
      "SalePrice: 1459 nulls\n"
     ]
    }
   ],
   "source": [
    "null_columns = final_data.columns[final_data.isnull().any()].tolist()\n",
    "print(\"Columns with null values:\")\n",
    "for col in null_columns:\n",
    "    print(f\"{col}: {final_data[col].isnull().sum()} nulls\")"
   ]
  },
  {
   "cell_type": "code",
   "execution_count": 110,
   "metadata": {},
   "outputs": [
    {
     "name": "stdout",
     "output_type": "stream",
     "text": [
      "Remaining null values: 0\n"
     ]
    }
   ],
   "source": [
    "# Handle remaining null values\n",
    "for col in null_columns:\n",
    "    if final_data[col].dtype == 'object':\n",
    "        # For categorical columns, fill with mode\n",
    "        final_data[col] = final_data[col].fillna(final_data[col].mode()[0])\n",
    "    else:\n",
    "        # For numerical columns, fill with mean\n",
    "        final_data[col] = final_data[col].fillna(final_data[col].mean())\n",
    "\n",
    "# Verify all nulls are handled\n",
    "print(\"Remaining null values:\", final_data.isnull().sum().sum())"
   ]
  },
  {
   "cell_type": "markdown",
   "metadata": {},
   "source": [
    "<a id=\"2\"></a>\n",
    "# <p style=\"background-color:##4981b3;font-family:newtimeroman;color:#FFF9ED;font-size:80%;\">Logging Data Preprocessing Steps and Metrics</p>"
   ]
  },
  {
   "cell_type": "code",
   "execution_count": 111,
   "metadata": {},
   "outputs": [
    {
     "name": "stderr",
     "output_type": "stream",
     "text": [
      "2024/11/15 18:17:40 INFO mlflow.tracking._tracking_service.client: 🏃 View run data_preprocessing at: http://localhost:5000/#/experiments/2/runs/dcebe491a7e14864b8c7596c9aa271f0.\n",
      "2024/11/15 18:17:40 INFO mlflow.tracking._tracking_service.client: 🧪 View experiment at: http://localhost:5000/#/experiments/2.\n"
     ]
    }
   ],
   "source": [
    "with mlflow.start_run(run_name=\"data_preprocessing\") as run:\n",
    "    # Log dataset info\n",
    "    mlflow.log_param(\"dataset_size\", len(final_data))\n",
    "    mlflow.log_param(\"num_features\", final_data.shape[1])\n",
    "    \n",
    "    # Log preprocessing steps\n",
    "    preprocessing_steps = {\n",
    "        \"dropped_columns\": ['Alley', 'PoolQC', 'Fence', 'MiscFeature', 'Id', 'GarageYrBlt'],\n",
    "        \"filled_null_columns\": [\"LotFrontage\", \"BsmtCond\", \"BsmtQual\", \"FireplaceQu\", \n",
    "                              \"GarageType\", \"GarageFinish\", \"GarageQual\", \"GarageCond\"]\n",
    "    }\n",
    "    mlflow.log_dict(preprocessing_steps, \"preprocessing_steps.json\")\n",
    "    \n",
    "    # Log data quality metrics\n",
    "    data_quality_metrics = {\n",
    "        \"null_values_before\": null_values_before,\n",
    "        \"null_values_after\": final_data.isnull().sum().sum()\n",
    "    }\n",
    "    mlflow.log_metrics(data_quality_metrics)"
   ]
  },
  {
   "cell_type": "markdown",
   "metadata": {},
   "source": [
    "<a id=\"2\"></a>\n",
    "# <p style=\"background-color:##4981b3;font-family:newtimeroman;color:#FFF9ED;font-size:80%;\">Data set Spliting</p>"
   ]
  },
  {
   "cell_type": "code",
   "execution_count": 112,
   "metadata": {
    "execution": {
     "iopub.execute_input": "2020-08-29T22:33:05.736070Z",
     "iopub.status.busy": "2020-08-29T22:33:05.734973Z",
     "iopub.status.idle": "2020-08-29T22:33:05.738443Z",
     "shell.execute_reply": "2020-08-29T22:33:05.737780Z"
    },
    "papermill": {
     "duration": 0.028631,
     "end_time": "2020-08-29T22:33:05.738580",
     "exception": false,
     "start_time": "2020-08-29T22:33:05.709949",
     "status": "completed"
    },
    "tags": []
   },
   "outputs": [],
   "source": [
    "data_train=final_data.iloc[:1422,:]\n",
    "data_test=final_data.iloc[1422:,:]"
   ]
  },
  {
   "cell_type": "code",
   "execution_count": 113,
   "metadata": {
    "execution": {
     "iopub.execute_input": "2020-08-29T22:33:05.796198Z",
     "iopub.status.busy": "2020-08-29T22:33:05.795379Z",
     "iopub.status.idle": "2020-08-29T22:33:05.809520Z",
     "shell.execute_reply": "2020-08-29T22:33:05.808721Z"
    },
    "papermill": {
     "duration": 0.052095,
     "end_time": "2020-08-29T22:33:05.809650",
     "exception": false,
     "start_time": "2020-08-29T22:33:05.757555",
     "status": "completed"
    },
    "tags": []
   },
   "outputs": [
    {
     "data": {
      "text/html": [
       "<div>\n",
       "<style scoped>\n",
       "    .dataframe tbody tr th:only-of-type {\n",
       "        vertical-align: middle;\n",
       "    }\n",
       "\n",
       "    .dataframe tbody tr th {\n",
       "        vertical-align: top;\n",
       "    }\n",
       "\n",
       "    .dataframe thead th {\n",
       "        text-align: right;\n",
       "    }\n",
       "</style>\n",
       "<table border=\"1\" class=\"dataframe\">\n",
       "  <thead>\n",
       "    <tr style=\"text-align: right;\">\n",
       "      <th></th>\n",
       "      <th>MSSubClass</th>\n",
       "      <th>LotFrontage</th>\n",
       "      <th>LotArea</th>\n",
       "      <th>OverallQual</th>\n",
       "      <th>OverallCond</th>\n",
       "      <th>YearBuilt</th>\n",
       "      <th>YearRemodAdd</th>\n",
       "      <th>MasVnrArea</th>\n",
       "      <th>BsmtFinSF1</th>\n",
       "      <th>BsmtFinSF2</th>\n",
       "      <th>...</th>\n",
       "      <th>Min1</th>\n",
       "      <th>Min2</th>\n",
       "      <th>Typ</th>\n",
       "      <th>Attchd</th>\n",
       "      <th>Basment</th>\n",
       "      <th>BuiltIn</th>\n",
       "      <th>CarPort</th>\n",
       "      <th>Detchd</th>\n",
       "      <th>RFn</th>\n",
       "      <th>P</th>\n",
       "    </tr>\n",
       "  </thead>\n",
       "  <tbody>\n",
       "    <tr>\n",
       "      <th>0</th>\n",
       "      <td>60.0</td>\n",
       "      <td>65.0</td>\n",
       "      <td>8450.0</td>\n",
       "      <td>7.0</td>\n",
       "      <td>5.0</td>\n",
       "      <td>2003.0</td>\n",
       "      <td>2003.0</td>\n",
       "      <td>196.0</td>\n",
       "      <td>706.0</td>\n",
       "      <td>0.0</td>\n",
       "      <td>...</td>\n",
       "      <td>0.0</td>\n",
       "      <td>0.0</td>\n",
       "      <td>1.0</td>\n",
       "      <td>1.0</td>\n",
       "      <td>0.0</td>\n",
       "      <td>0.0</td>\n",
       "      <td>0.0</td>\n",
       "      <td>0.0</td>\n",
       "      <td>1.0</td>\n",
       "      <td>0.0</td>\n",
       "    </tr>\n",
       "    <tr>\n",
       "      <th>1</th>\n",
       "      <td>20.0</td>\n",
       "      <td>80.0</td>\n",
       "      <td>9600.0</td>\n",
       "      <td>6.0</td>\n",
       "      <td>8.0</td>\n",
       "      <td>1976.0</td>\n",
       "      <td>1976.0</td>\n",
       "      <td>0.0</td>\n",
       "      <td>978.0</td>\n",
       "      <td>0.0</td>\n",
       "      <td>...</td>\n",
       "      <td>0.0</td>\n",
       "      <td>0.0</td>\n",
       "      <td>1.0</td>\n",
       "      <td>1.0</td>\n",
       "      <td>0.0</td>\n",
       "      <td>0.0</td>\n",
       "      <td>0.0</td>\n",
       "      <td>0.0</td>\n",
       "      <td>1.0</td>\n",
       "      <td>0.0</td>\n",
       "    </tr>\n",
       "    <tr>\n",
       "      <th>2</th>\n",
       "      <td>60.0</td>\n",
       "      <td>68.0</td>\n",
       "      <td>11250.0</td>\n",
       "      <td>7.0</td>\n",
       "      <td>5.0</td>\n",
       "      <td>2001.0</td>\n",
       "      <td>2002.0</td>\n",
       "      <td>162.0</td>\n",
       "      <td>486.0</td>\n",
       "      <td>0.0</td>\n",
       "      <td>...</td>\n",
       "      <td>0.0</td>\n",
       "      <td>0.0</td>\n",
       "      <td>1.0</td>\n",
       "      <td>1.0</td>\n",
       "      <td>0.0</td>\n",
       "      <td>0.0</td>\n",
       "      <td>0.0</td>\n",
       "      <td>0.0</td>\n",
       "      <td>1.0</td>\n",
       "      <td>0.0</td>\n",
       "    </tr>\n",
       "    <tr>\n",
       "      <th>3</th>\n",
       "      <td>70.0</td>\n",
       "      <td>60.0</td>\n",
       "      <td>9550.0</td>\n",
       "      <td>7.0</td>\n",
       "      <td>5.0</td>\n",
       "      <td>1915.0</td>\n",
       "      <td>1970.0</td>\n",
       "      <td>0.0</td>\n",
       "      <td>216.0</td>\n",
       "      <td>0.0</td>\n",
       "      <td>...</td>\n",
       "      <td>0.0</td>\n",
       "      <td>0.0</td>\n",
       "      <td>1.0</td>\n",
       "      <td>0.0</td>\n",
       "      <td>0.0</td>\n",
       "      <td>0.0</td>\n",
       "      <td>0.0</td>\n",
       "      <td>1.0</td>\n",
       "      <td>0.0</td>\n",
       "      <td>0.0</td>\n",
       "    </tr>\n",
       "    <tr>\n",
       "      <th>4</th>\n",
       "      <td>60.0</td>\n",
       "      <td>84.0</td>\n",
       "      <td>14260.0</td>\n",
       "      <td>8.0</td>\n",
       "      <td>5.0</td>\n",
       "      <td>2000.0</td>\n",
       "      <td>2000.0</td>\n",
       "      <td>350.0</td>\n",
       "      <td>655.0</td>\n",
       "      <td>0.0</td>\n",
       "      <td>...</td>\n",
       "      <td>0.0</td>\n",
       "      <td>0.0</td>\n",
       "      <td>1.0</td>\n",
       "      <td>1.0</td>\n",
       "      <td>0.0</td>\n",
       "      <td>0.0</td>\n",
       "      <td>0.0</td>\n",
       "      <td>0.0</td>\n",
       "      <td>1.0</td>\n",
       "      <td>0.0</td>\n",
       "    </tr>\n",
       "  </tbody>\n",
       "</table>\n",
       "<p>5 rows × 174 columns</p>\n",
       "</div>"
      ],
      "text/plain": [
       "   MSSubClass  LotFrontage  LotArea  OverallQual  OverallCond  YearBuilt  \\\n",
       "0        60.0         65.0   8450.0          7.0          5.0     2003.0   \n",
       "1        20.0         80.0   9600.0          6.0          8.0     1976.0   \n",
       "2        60.0         68.0  11250.0          7.0          5.0     2001.0   \n",
       "3        70.0         60.0   9550.0          7.0          5.0     1915.0   \n",
       "4        60.0         84.0  14260.0          8.0          5.0     2000.0   \n",
       "\n",
       "   YearRemodAdd  MasVnrArea  BsmtFinSF1  BsmtFinSF2  ...  Min1  Min2  Typ  \\\n",
       "0        2003.0       196.0       706.0         0.0  ...   0.0   0.0  1.0   \n",
       "1        1976.0         0.0       978.0         0.0  ...   0.0   0.0  1.0   \n",
       "2        2002.0       162.0       486.0         0.0  ...   0.0   0.0  1.0   \n",
       "3        1970.0         0.0       216.0         0.0  ...   0.0   0.0  1.0   \n",
       "4        2000.0       350.0       655.0         0.0  ...   0.0   0.0  1.0   \n",
       "\n",
       "   Attchd  Basment  BuiltIn  CarPort  Detchd  RFn    P  \n",
       "0     1.0      0.0      0.0      0.0     0.0  1.0  0.0  \n",
       "1     1.0      0.0      0.0      0.0     0.0  1.0  0.0  \n",
       "2     1.0      0.0      0.0      0.0     0.0  1.0  0.0  \n",
       "3     0.0      0.0      0.0      0.0     1.0  0.0  0.0  \n",
       "4     1.0      0.0      0.0      0.0     0.0  1.0  0.0  \n",
       "\n",
       "[5 rows x 174 columns]"
      ]
     },
     "execution_count": 113,
     "metadata": {},
     "output_type": "execute_result"
    }
   ],
   "source": [
    "data_train.head()"
   ]
  },
  {
   "cell_type": "code",
   "execution_count": 114,
   "metadata": {
    "execution": {
     "iopub.execute_input": "2020-08-29T22:33:05.876363Z",
     "iopub.status.busy": "2020-08-29T22:33:05.875261Z",
     "iopub.status.idle": "2020-08-29T22:33:05.880780Z",
     "shell.execute_reply": "2020-08-29T22:33:05.880059Z"
    },
    "papermill": {
     "duration": 0.051808,
     "end_time": "2020-08-29T22:33:05.880937",
     "exception": false,
     "start_time": "2020-08-29T22:33:05.829129",
     "status": "completed"
    },
    "tags": []
   },
   "outputs": [
    {
     "data": {
      "text/html": [
       "<div>\n",
       "<style scoped>\n",
       "    .dataframe tbody tr th:only-of-type {\n",
       "        vertical-align: middle;\n",
       "    }\n",
       "\n",
       "    .dataframe tbody tr th {\n",
       "        vertical-align: top;\n",
       "    }\n",
       "\n",
       "    .dataframe thead th {\n",
       "        text-align: right;\n",
       "    }\n",
       "</style>\n",
       "<table border=\"1\" class=\"dataframe\">\n",
       "  <thead>\n",
       "    <tr style=\"text-align: right;\">\n",
       "      <th></th>\n",
       "      <th>MSSubClass</th>\n",
       "      <th>LotFrontage</th>\n",
       "      <th>LotArea</th>\n",
       "      <th>OverallQual</th>\n",
       "      <th>OverallCond</th>\n",
       "      <th>YearBuilt</th>\n",
       "      <th>YearRemodAdd</th>\n",
       "      <th>MasVnrArea</th>\n",
       "      <th>BsmtFinSF1</th>\n",
       "      <th>BsmtFinSF2</th>\n",
       "      <th>...</th>\n",
       "      <th>Min1</th>\n",
       "      <th>Min2</th>\n",
       "      <th>Typ</th>\n",
       "      <th>Attchd</th>\n",
       "      <th>Basment</th>\n",
       "      <th>BuiltIn</th>\n",
       "      <th>CarPort</th>\n",
       "      <th>Detchd</th>\n",
       "      <th>RFn</th>\n",
       "      <th>P</th>\n",
       "    </tr>\n",
       "  </thead>\n",
       "  <tbody>\n",
       "    <tr>\n",
       "      <th>0</th>\n",
       "      <td>20.0</td>\n",
       "      <td>80.0</td>\n",
       "      <td>11622.0</td>\n",
       "      <td>5.0</td>\n",
       "      <td>6.0</td>\n",
       "      <td>1961.0</td>\n",
       "      <td>1961.0</td>\n",
       "      <td>0.0</td>\n",
       "      <td>468.0</td>\n",
       "      <td>144.0</td>\n",
       "      <td>...</td>\n",
       "      <td>0.0</td>\n",
       "      <td>0.0</td>\n",
       "      <td>1.0</td>\n",
       "      <td>1.0</td>\n",
       "      <td>0.0</td>\n",
       "      <td>0.0</td>\n",
       "      <td>0.0</td>\n",
       "      <td>0.0</td>\n",
       "      <td>0.0</td>\n",
       "      <td>0.0</td>\n",
       "    </tr>\n",
       "    <tr>\n",
       "      <th>1</th>\n",
       "      <td>20.0</td>\n",
       "      <td>81.0</td>\n",
       "      <td>14267.0</td>\n",
       "      <td>6.0</td>\n",
       "      <td>6.0</td>\n",
       "      <td>1958.0</td>\n",
       "      <td>1958.0</td>\n",
       "      <td>108.0</td>\n",
       "      <td>923.0</td>\n",
       "      <td>0.0</td>\n",
       "      <td>...</td>\n",
       "      <td>0.0</td>\n",
       "      <td>0.0</td>\n",
       "      <td>1.0</td>\n",
       "      <td>1.0</td>\n",
       "      <td>0.0</td>\n",
       "      <td>0.0</td>\n",
       "      <td>0.0</td>\n",
       "      <td>0.0</td>\n",
       "      <td>0.0</td>\n",
       "      <td>0.0</td>\n",
       "    </tr>\n",
       "    <tr>\n",
       "      <th>2</th>\n",
       "      <td>60.0</td>\n",
       "      <td>74.0</td>\n",
       "      <td>13830.0</td>\n",
       "      <td>5.0</td>\n",
       "      <td>5.0</td>\n",
       "      <td>1997.0</td>\n",
       "      <td>1998.0</td>\n",
       "      <td>0.0</td>\n",
       "      <td>791.0</td>\n",
       "      <td>0.0</td>\n",
       "      <td>...</td>\n",
       "      <td>0.0</td>\n",
       "      <td>0.0</td>\n",
       "      <td>1.0</td>\n",
       "      <td>1.0</td>\n",
       "      <td>0.0</td>\n",
       "      <td>0.0</td>\n",
       "      <td>0.0</td>\n",
       "      <td>0.0</td>\n",
       "      <td>0.0</td>\n",
       "      <td>0.0</td>\n",
       "    </tr>\n",
       "    <tr>\n",
       "      <th>3</th>\n",
       "      <td>60.0</td>\n",
       "      <td>78.0</td>\n",
       "      <td>9978.0</td>\n",
       "      <td>6.0</td>\n",
       "      <td>6.0</td>\n",
       "      <td>1998.0</td>\n",
       "      <td>1998.0</td>\n",
       "      <td>20.0</td>\n",
       "      <td>602.0</td>\n",
       "      <td>0.0</td>\n",
       "      <td>...</td>\n",
       "      <td>0.0</td>\n",
       "      <td>0.0</td>\n",
       "      <td>1.0</td>\n",
       "      <td>1.0</td>\n",
       "      <td>0.0</td>\n",
       "      <td>0.0</td>\n",
       "      <td>0.0</td>\n",
       "      <td>0.0</td>\n",
       "      <td>0.0</td>\n",
       "      <td>0.0</td>\n",
       "    </tr>\n",
       "    <tr>\n",
       "      <th>4</th>\n",
       "      <td>120.0</td>\n",
       "      <td>43.0</td>\n",
       "      <td>5005.0</td>\n",
       "      <td>8.0</td>\n",
       "      <td>5.0</td>\n",
       "      <td>1992.0</td>\n",
       "      <td>1992.0</td>\n",
       "      <td>0.0</td>\n",
       "      <td>263.0</td>\n",
       "      <td>0.0</td>\n",
       "      <td>...</td>\n",
       "      <td>0.0</td>\n",
       "      <td>0.0</td>\n",
       "      <td>1.0</td>\n",
       "      <td>1.0</td>\n",
       "      <td>0.0</td>\n",
       "      <td>0.0</td>\n",
       "      <td>0.0</td>\n",
       "      <td>0.0</td>\n",
       "      <td>1.0</td>\n",
       "      <td>0.0</td>\n",
       "    </tr>\n",
       "  </tbody>\n",
       "</table>\n",
       "<p>5 rows × 174 columns</p>\n",
       "</div>"
      ],
      "text/plain": [
       "   MSSubClass  LotFrontage  LotArea  OverallQual  OverallCond  YearBuilt  \\\n",
       "0        20.0         80.0  11622.0          5.0          6.0     1961.0   \n",
       "1        20.0         81.0  14267.0          6.0          6.0     1958.0   \n",
       "2        60.0         74.0  13830.0          5.0          5.0     1997.0   \n",
       "3        60.0         78.0   9978.0          6.0          6.0     1998.0   \n",
       "4       120.0         43.0   5005.0          8.0          5.0     1992.0   \n",
       "\n",
       "   YearRemodAdd  MasVnrArea  BsmtFinSF1  BsmtFinSF2  ...  Min1  Min2  Typ  \\\n",
       "0        1961.0         0.0       468.0       144.0  ...   0.0   0.0  1.0   \n",
       "1        1958.0       108.0       923.0         0.0  ...   0.0   0.0  1.0   \n",
       "2        1998.0         0.0       791.0         0.0  ...   0.0   0.0  1.0   \n",
       "3        1998.0        20.0       602.0         0.0  ...   0.0   0.0  1.0   \n",
       "4        1992.0         0.0       263.0         0.0  ...   0.0   0.0  1.0   \n",
       "\n",
       "   Attchd  Basment  BuiltIn  CarPort  Detchd  RFn    P  \n",
       "0     1.0      0.0      0.0      0.0     0.0  0.0  0.0  \n",
       "1     1.0      0.0      0.0      0.0     0.0  0.0  0.0  \n",
       "2     1.0      0.0      0.0      0.0     0.0  0.0  0.0  \n",
       "3     1.0      0.0      0.0      0.0     0.0  0.0  0.0  \n",
       "4     1.0      0.0      0.0      0.0     0.0  1.0  0.0  \n",
       "\n",
       "[5 rows x 174 columns]"
      ]
     },
     "execution_count": 114,
     "metadata": {},
     "output_type": "execute_result"
    }
   ],
   "source": [
    "data_test.head()"
   ]
  },
  {
   "cell_type": "code",
   "execution_count": 115,
   "metadata": {
    "execution": {
     "iopub.execute_input": "2020-08-29T22:33:05.928079Z",
     "iopub.status.busy": "2020-08-29T22:33:05.927241Z",
     "iopub.status.idle": "2020-08-29T22:33:05.936907Z",
     "shell.execute_reply": "2020-08-29T22:33:05.937710Z"
    },
    "papermill": {
     "duration": 0.037203,
     "end_time": "2020-08-29T22:33:05.937906",
     "exception": false,
     "start_time": "2020-08-29T22:33:05.900703",
     "status": "completed"
    },
    "tags": []
   },
   "outputs": [
    {
     "name": "stdout",
     "output_type": "stream",
     "text": [
      "'SalePrice' in data_test columns: True\n"
     ]
    }
   ],
   "source": [
    "print(\"'SalePrice' in data_test columns:\", 'SalePrice' in data_test.columns)\n",
    "if 'SalePrice' in data_test.columns:\n",
    "    data_test = data_test.drop('SalePrice', axis=1)"
   ]
  },
  {
   "cell_type": "code",
   "execution_count": 116,
   "metadata": {
    "execution": {
     "iopub.execute_input": "2020-08-29T22:33:05.985894Z",
     "iopub.status.busy": "2020-08-29T22:33:05.984784Z",
     "iopub.status.idle": "2020-08-29T22:33:05.989183Z",
     "shell.execute_reply": "2020-08-29T22:33:05.989770Z"
    },
    "papermill": {
     "duration": 0.031807,
     "end_time": "2020-08-29T22:33:05.989967",
     "exception": false,
     "start_time": "2020-08-29T22:33:05.958160",
     "status": "completed"
    },
    "tags": []
   },
   "outputs": [],
   "source": [
    "X_train=data_train.drop(['SalePrice'],axis=1)\n",
    "y_train=data_train['SalePrice']"
   ]
  },
  {
   "cell_type": "code",
   "execution_count": 117,
   "metadata": {},
   "outputs": [
    {
     "data": {
      "text/plain": [
       "Index(['MSSubClass', 'LotFrontage', 'LotArea', 'OverallQual', 'OverallCond',\n",
       "       'YearBuilt', 'YearRemodAdd', 'MasVnrArea', 'BsmtFinSF1', 'BsmtFinSF2',\n",
       "       ...\n",
       "       'Min1', 'Min2', 'Typ', 'Attchd', 'Basment', 'BuiltIn', 'CarPort',\n",
       "       'Detchd', 'RFn', 'P'],\n",
       "      dtype='object', length=173)"
      ]
     },
     "execution_count": 117,
     "metadata": {},
     "output_type": "execute_result"
    }
   ],
   "source": [
    "X_train.columns"
   ]
  },
  {
   "cell_type": "code",
   "execution_count": 118,
   "metadata": {},
   "outputs": [
    {
     "data": {
      "text/plain": [
       "0       208500.0\n",
       "1       181500.0\n",
       "2       223500.0\n",
       "3       140000.0\n",
       "4       250000.0\n",
       "          ...   \n",
       "1455    175000.0\n",
       "1456    210000.0\n",
       "1457    266500.0\n",
       "1458    142125.0\n",
       "1459    147500.0\n",
       "Name: SalePrice, Length: 1422, dtype: float64"
      ]
     },
     "execution_count": 118,
     "metadata": {},
     "output_type": "execute_result"
    }
   ],
   "source": [
    "y_train"
   ]
  },
  {
   "cell_type": "markdown",
   "metadata": {
    "papermill": {
     "duration": 0.020422,
     "end_time": "2020-08-29T22:33:06.031956",
     "exception": false,
     "start_time": "2020-08-29T22:33:06.011534",
     "status": "completed"
    },
    "tags": []
   },
   "source": [
    "<a id=\"2\"></a>\n",
    "# <p style=\"background-color:##4981b3;font-family:newtimeroman;color:#FFF9ED;font-size:80%;\">XGBoost Regressor Model</p>"
   ]
  },
  {
   "cell_type": "code",
   "execution_count": 119,
   "metadata": {
    "execution": {
     "iopub.execute_input": "2020-08-29T22:33:06.079228Z",
     "iopub.status.busy": "2020-08-29T22:33:06.078222Z",
     "iopub.status.idle": "2020-08-29T22:33:07.190045Z",
     "shell.execute_reply": "2020-08-29T22:33:07.189265Z"
    },
    "papermill": {
     "duration": 1.137578,
     "end_time": "2020-08-29T22:33:07.190210",
     "exception": false,
     "start_time": "2020-08-29T22:33:06.052632",
     "status": "completed"
    },
    "tags": []
   },
   "outputs": [],
   "source": [
    "import xgboost\n",
    "regressor=xgboost.XGBRegressor()"
   ]
  },
  {
   "cell_type": "code",
   "execution_count": 120,
   "metadata": {
    "execution": {
     "iopub.execute_input": "2020-08-29T22:33:07.288613Z",
     "iopub.status.busy": "2020-08-29T22:33:07.287851Z",
     "iopub.status.idle": "2020-08-29T22:33:07.291573Z",
     "shell.execute_reply": "2020-08-29T22:33:07.290827Z"
    },
    "papermill": {
     "duration": 0.080772,
     "end_time": "2020-08-29T22:33:07.291699",
     "exception": false,
     "start_time": "2020-08-29T22:33:07.210927",
     "status": "completed"
    },
    "tags": []
   },
   "outputs": [],
   "source": [
    "booster=['gbtree','gblinear']\n",
    "base_score=[0.25,0.5,0.75,1]"
   ]
  },
  {
   "cell_type": "code",
   "execution_count": 121,
   "metadata": {
    "execution": {
     "iopub.execute_input": "2020-08-29T22:33:07.342414Z",
     "iopub.status.busy": "2020-08-29T22:33:07.341572Z",
     "iopub.status.idle": "2020-08-29T22:33:07.345408Z",
     "shell.execute_reply": "2020-08-29T22:33:07.344618Z"
    },
    "papermill": {
     "duration": 0.033529,
     "end_time": "2020-08-29T22:33:07.345538",
     "exception": false,
     "start_time": "2020-08-29T22:33:07.312009",
     "status": "completed"
    },
    "tags": []
   },
   "outputs": [],
   "source": [
    "n_estimators = [100, 500, 900, 1100, 1500]\n",
    "max_depth = [2, 3, 5, 10, 15]\n",
    "booster=['gbtree','gblinear']\n",
    "learning_rate=[0.05,0.1,0.15,0.20]\n",
    "min_child_weight=[1,2,3,4]\n",
    "\n",
    "# Define the grid of hyperparameters to search\n",
    "hyperparameter_grid = {\n",
    "    'n_estimators': n_estimators,\n",
    "    'max_depth':max_depth,\n",
    "    'learning_rate':learning_rate,\n",
    "    'min_child_weight':min_child_weight,\n",
    "    'booster':booster,\n",
    "    'base_score':base_score\n",
    "    }"
   ]
  },
  {
   "cell_type": "code",
   "execution_count": 122,
   "metadata": {
    "execution": {
     "iopub.execute_input": "2020-08-29T22:33:07.396140Z",
     "iopub.status.busy": "2020-08-29T22:33:07.395056Z",
     "iopub.status.idle": "2020-08-29T22:33:07.398613Z",
     "shell.execute_reply": "2020-08-29T22:33:07.397786Z"
    },
    "papermill": {
     "duration": 0.032014,
     "end_time": "2020-08-29T22:33:07.398754",
     "exception": false,
     "start_time": "2020-08-29T22:33:07.366740",
     "status": "completed"
    },
    "tags": []
   },
   "outputs": [
    {
     "name": "stdout",
     "output_type": "stream",
     "text": [
      "Fitting 5 folds for each of 50 candidates, totalling 250 fits\n"
     ]
    },
    {
     "name": "stderr",
     "output_type": "stream",
     "text": [
      "/usr/local/lib/python3.8/dist-packages/xgboost/core.py:265: FutureWarning: Your system has an old version of glibc (< 2.28). We will stop supporting Linux distros with glibc older than 2.28 after **May 31, 2025**. Please upgrade to a recent Linux distro (with glibc 2.28+) to use future versions of XGBoost.\n",
      "Note: You have installed the 'manylinux2014' variant of XGBoost. Certain features such as GPU algorithms or federated learning are not available. To use these features, please upgrade to a recent Linux distro with glibc 2.28+, and install the 'manylinux_2_28' variant.\n",
      "  warnings.warn(\n",
      "/usr/local/lib/python3.8/dist-packages/xgboost/core.py:265: FutureWarning: Your system has an old version of glibc (< 2.28). We will stop supporting Linux distros with glibc older than 2.28 after **May 31, 2025**. Please upgrade to a recent Linux distro (with glibc 2.28+) to use future versions of XGBoost.\n",
      "Note: You have installed the 'manylinux2014' variant of XGBoost. Certain features such as GPU algorithms or federated learning are not available. To use these features, please upgrade to a recent Linux distro with glibc 2.28+, and install the 'manylinux_2_28' variant.\n",
      "  warnings.warn(\n",
      "/usr/local/lib/python3.8/dist-packages/xgboost/core.py:265: FutureWarning: Your system has an old version of glibc (< 2.28). We will stop supporting Linux distros with glibc older than 2.28 after **May 31, 2025**. Please upgrade to a recent Linux distro (with glibc 2.28+) to use future versions of XGBoost.\n",
      "Note: You have installed the 'manylinux2014' variant of XGBoost. Certain features such as GPU algorithms or federated learning are not available. To use these features, please upgrade to a recent Linux distro with glibc 2.28+, and install the 'manylinux_2_28' variant.\n",
      "  warnings.warn(\n",
      "/usr/local/lib/python3.8/dist-packages/xgboost/core.py:265: FutureWarning: Your system has an old version of glibc (< 2.28). We will stop supporting Linux distros with glibc older than 2.28 after **May 31, 2025**. Please upgrade to a recent Linux distro (with glibc 2.28+) to use future versions of XGBoost.\n",
      "Note: You have installed the 'manylinux2014' variant of XGBoost. Certain features such as GPU algorithms or federated learning are not available. To use these features, please upgrade to a recent Linux distro with glibc 2.28+, and install the 'manylinux_2_28' variant.\n",
      "  warnings.warn(\n"
     ]
    },
    {
     "name": "stdout",
     "output_type": "stream",
     "text": [
      "[CV 3/5] END base_score=0.25, booster=gbtree, learning_rate=0.2, max_depth=3, min_child_weight=3, n_estimators=900;, score=(train=-999.194, test=-18044.457) total time=   1.4s\n",
      "[CV 1/5] END base_score=0.25, booster=gbtree, learning_rate=0.2, max_depth=3, min_child_weight=3, n_estimators=900;, score=(train=-1048.638, test=-17272.977) total time=   1.4s\n",
      "[CV 4/5] END base_score=0.25, booster=gbtree, learning_rate=0.2, max_depth=3, min_child_weight=3, n_estimators=900;, score=(train=-969.507, test=-13920.127) total time=   1.5s\n",
      "[CV 2/5] END base_score=0.25, booster=gbtree, learning_rate=0.2, max_depth=3, min_child_weight=3, n_estimators=900;, score=(train=-892.682, test=-18388.732) total time=   1.7s\n",
      "[CV 5/5] END base_score=0.25, booster=gbtree, learning_rate=0.2, max_depth=3, min_child_weight=3, n_estimators=900;, score=(train=-1005.779, test=-18478.072) total time=   1.4s\n",
      "[CV 3/5] END base_score=1, booster=gbtree, learning_rate=0.1, max_depth=10, min_child_weight=3, n_estimators=500;, score=(train=-3.420, test=-18093.354) total time=   3.5s\n",
      "[CV 2/5] END base_score=1, booster=gbtree, learning_rate=0.1, max_depth=10, min_child_weight=3, n_estimators=500;, score=(train=-8.538, test=-17979.034) total time=   3.9s\n",
      "[CV 1/5] END base_score=1, booster=gbtree, learning_rate=0.1, max_depth=10, min_child_weight=3, n_estimators=500;, score=(train=-8.957, test=-16248.987) total time=   4.2s\n",
      "[CV 4/5] END base_score=1, booster=gbtree, learning_rate=0.1, max_depth=10, min_child_weight=3, n_estimators=500;, score=(train=-8.209, test=-15113.405) total time=   4.3s\n",
      "[CV 5/5] END base_score=1, booster=gbtree, learning_rate=0.1, max_depth=10, min_child_weight=3, n_estimators=500;, score=(train=-2.361, test=-17545.146) total time=   4.1s\n",
      "[CV 2/5] END base_score=1, booster=gbtree, learning_rate=0.15, max_depth=15, min_child_weight=4, n_estimators=1500;, score=(train=-7.326, test=-17973.137) total time=  10.7s\n",
      "[CV 1/5] END base_score=1, booster=gbtree, learning_rate=0.15, max_depth=15, min_child_weight=4, n_estimators=1500;, score=(train=-7.325, test=-16190.876) total time=  11.9s\n",
      "[CV 3/5] END base_score=1, booster=gbtree, learning_rate=0.15, max_depth=15, min_child_weight=4, n_estimators=1500;, score=(train=-0.025, test=-17338.765) total time=  10.4s\n",
      "[CV 1/5] END base_score=0.25, booster=gbtree, learning_rate=0.2, max_depth=3, min_child_weight=4, n_estimators=500;, score=(train=-2609.117, test=-16486.128) total time=   0.8s\n",
      "[CV 2/5] END base_score=0.25, booster=gbtree, learning_rate=0.2, max_depth=3, min_child_weight=4, n_estimators=500;, score=(train=-2349.031, test=-17554.271) total time=   0.8s\n",
      "[CV 4/5] END base_score=1, booster=gbtree, learning_rate=0.15, max_depth=15, min_child_weight=4, n_estimators=1500;, score=(train=-7.323, test=-15164.488) total time=   9.4s\n",
      "[CV 4/5] END base_score=0.25, booster=gbtree, learning_rate=0.2, max_depth=3, min_child_weight=4, n_estimators=500;, score=(train=-2674.467, test=-14577.609) total time=   1.0s\n",
      "[CV 3/5] END base_score=0.25, booster=gbtree, learning_rate=0.2, max_depth=3, min_child_weight=4, n_estimators=500;, score=(train=-2515.116, test=-17826.764) total time=   1.1s\n",
      "[CV 5/5] END base_score=0.25, booster=gbtree, learning_rate=0.2, max_depth=3, min_child_weight=4, n_estimators=500;, score=(train=-2620.809, test=-19125.610) total time=   0.9s\n",
      "[CV 1/5] END base_score=0.75, booster=gbtree, learning_rate=0.2, max_depth=2, min_child_weight=4, n_estimators=500;, score=(train=-6650.271, test=-15369.457) total time=   0.8s\n",
      "[CV 2/5] END base_score=0.75, booster=gbtree, learning_rate=0.2, max_depth=2, min_child_weight=4, n_estimators=500;, score=(train=-6659.151, test=-17727.765) total time=   1.1s\n",
      "[CV 3/5] END base_score=0.75, booster=gbtree, learning_rate=0.2, max_depth=2, min_child_weight=4, n_estimators=500;, score=(train=-6521.499, test=-17491.145) total time=   0.8s\n",
      "[CV 4/5] END base_score=0.75, booster=gbtree, learning_rate=0.2, max_depth=2, min_child_weight=4, n_estimators=500;, score=(train=-6708.609, test=-14028.172) total time=   0.8s\n",
      "[CV 5/5] END base_score=0.75, booster=gbtree, learning_rate=0.2, max_depth=2, min_child_weight=4, n_estimators=500;, score=(train=-6327.163, test=-18904.266) total time=   0.7s\n",
      "[CV 1/5] END base_score=0.75, booster=gbtree, learning_rate=0.2, max_depth=2, min_child_weight=1, n_estimators=900;, score=(train=-4600.153, test=-16274.874) total time=   1.2s\n",
      "[CV 2/5] END base_score=0.75, booster=gbtree, learning_rate=0.2, max_depth=2, min_child_weight=1, n_estimators=900;, score=(train=-4354.379, test=-17370.365) total time=   1.1s\n",
      "[CV 3/5] END base_score=0.75, booster=gbtree, learning_rate=0.2, max_depth=2, min_child_weight=1, n_estimators=900;, score=(train=-4411.620, test=-17108.104) total time=   1.1s\n",
      "[CV 4/5] END base_score=0.75, booster=gbtree, learning_rate=0.2, max_depth=2, min_child_weight=1, n_estimators=900;, score=(train=-4648.003, test=-14210.543) total time=   1.2s\n",
      "[CV 5/5] END base_score=0.75, booster=gbtree, learning_rate=0.2, max_depth=2, min_child_weight=1, n_estimators=900;, score=(train=-4503.920, test=-17469.982) total time=   1.2s\n",
      "[CV 1/5] END base_score=0.75, booster=gbtree, learning_rate=0.1, max_depth=2, min_child_weight=4, n_estimators=1100;, score=(train=-6287.320, test=-15548.667) total time=   1.4s\n",
      "[CV 2/5] END base_score=0.75, booster=gbtree, learning_rate=0.1, max_depth=2, min_child_weight=4, n_estimators=1100;, score=(train=-6195.672, test=-16728.363) total time=   1.3s\n",
      "[CV 3/5] END base_score=0.75, booster=gbtree, learning_rate=0.1, max_depth=2, min_child_weight=4, n_estimators=1100;, score=(train=-6184.266, test=-17033.520) total time=   1.2s\n"
     ]
    },
    {
     "name": "stderr",
     "output_type": "stream",
     "text": [
      "/usr/local/lib/python3.8/dist-packages/xgboost/core.py:158: UserWarning: [18:18:08] WARNING: /workspace/src/learner.cc:740: \n",
      "Parameters: { \"max_depth\", \"min_child_weight\" } are not used.\n",
      "\n",
      "  warnings.warn(smsg, UserWarning)\n"
     ]
    },
    {
     "name": "stdout",
     "output_type": "stream",
     "text": [
      "[CV 1/5] END base_score=0.75, booster=gblinear, learning_rate=0.1, max_depth=15, min_child_weight=2, n_estimators=100;, score=(train=-18686.969, test=-18672.720) total time=   0.4s\n",
      "[CV 4/5] END base_score=0.75, booster=gbtree, learning_rate=0.1, max_depth=2, min_child_weight=4, n_estimators=1100;, score=(train=-6540.898, test=-13846.493) total time=   1.3s\n"
     ]
    },
    {
     "name": "stderr",
     "output_type": "stream",
     "text": [
      "/usr/local/lib/python3.8/dist-packages/xgboost/core.py:158: UserWarning: [18:18:08] WARNING: /workspace/src/learner.cc:740: \n",
      "Parameters: { \"max_depth\", \"min_child_weight\" } are not used.\n",
      "\n",
      "  warnings.warn(smsg, UserWarning)\n",
      "/usr/local/lib/python3.8/dist-packages/xgboost/core.py:158: UserWarning: [18:18:08] WARNING: /workspace/src/learner.cc:740: \n",
      "Parameters: { \"max_depth\", \"min_child_weight\" } are not used.\n",
      "\n",
      "  warnings.warn(smsg, UserWarning)\n"
     ]
    },
    {
     "name": "stdout",
     "output_type": "stream",
     "text": [
      "[CV 5/5] END base_score=1, booster=gbtree, learning_rate=0.15, max_depth=15, min_child_weight=4, n_estimators=1500;, score=(train=-0.030, test=-18209.651) total time=   9.1s\n"
     ]
    },
    {
     "name": "stderr",
     "output_type": "stream",
     "text": [
      "/usr/local/lib/python3.8/dist-packages/xgboost/core.py:158: UserWarning: [18:18:09] WARNING: /workspace/src/learner.cc:740: \n",
      "Parameters: { \"max_depth\", \"min_child_weight\" } are not used.\n",
      "\n",
      "  warnings.warn(smsg, UserWarning)\n"
     ]
    },
    {
     "name": "stdout",
     "output_type": "stream",
     "text": [
      "[CV 3/5] END base_score=0.75, booster=gblinear, learning_rate=0.1, max_depth=15, min_child_weight=2, n_estimators=100;, score=(train=-17541.491, test=-22996.113) total time=   0.4s\n",
      "[CV 2/5] END base_score=0.75, booster=gblinear, learning_rate=0.1, max_depth=15, min_child_weight=2, n_estimators=100;, score=(train=-17929.873, test=-22449.078) total time=   0.4s\n",
      "[CV 4/5] END base_score=0.75, booster=gblinear, learning_rate=0.1, max_depth=15, min_child_weight=2, n_estimators=100;, score=(train=-18527.405, test=-19496.703) total time=   0.3s\n"
     ]
    },
    {
     "name": "stderr",
     "output_type": "stream",
     "text": [
      "/usr/local/lib/python3.8/dist-packages/xgboost/core.py:158: UserWarning: [18:18:09] WARNING: /workspace/src/learner.cc:740: \n",
      "Parameters: { \"max_depth\", \"min_child_weight\" } are not used.\n",
      "\n",
      "  warnings.warn(smsg, UserWarning)\n"
     ]
    },
    {
     "name": "stdout",
     "output_type": "stream",
     "text": [
      "[CV 5/5] END base_score=0.75, booster=gbtree, learning_rate=0.1, max_depth=2, min_child_weight=4, n_estimators=1100;, score=(train=-5938.553, test=-18164.296) total time=   1.4s\n",
      "[CV 5/5] END base_score=0.75, booster=gblinear, learning_rate=0.1, max_depth=15, min_child_weight=2, n_estimators=100;, score=(train=-16848.706, test=-22434.862) total time=   0.3s\n",
      "[CV 3/5] END base_score=0.25, booster=gbtree, learning_rate=0.15, max_depth=10, min_child_weight=2, n_estimators=100;, score=(train=-603.012, test=-18226.219) total time=   0.9s\n",
      "[CV 2/5] END base_score=0.25, booster=gbtree, learning_rate=0.15, max_depth=10, min_child_weight=2, n_estimators=100;, score=(train=-306.357, test=-17667.276) total time=   1.0s\n",
      "[CV 1/5] END base_score=0.25, booster=gbtree, learning_rate=0.15, max_depth=10, min_child_weight=2, n_estimators=100;, score=(train=-320.951, test=-16742.225) total time=   1.2s\n"
     ]
    },
    {
     "name": "stderr",
     "output_type": "stream",
     "text": [
      "/usr/local/lib/python3.8/dist-packages/xgboost/core.py:158: UserWarning: [18:18:10] WARNING: /workspace/src/learner.cc:740: \n",
      "Parameters: { \"max_depth\", \"min_child_weight\" } are not used.\n",
      "\n",
      "  warnings.warn(smsg, UserWarning)\n",
      "/usr/local/lib/python3.8/dist-packages/xgboost/core.py:158: UserWarning: [18:18:10] WARNING: /workspace/src/learner.cc:740: \n",
      "Parameters: { \"max_depth\", \"min_child_weight\" } are not used.\n",
      "\n",
      "  warnings.warn(smsg, UserWarning)\n"
     ]
    },
    {
     "name": "stdout",
     "output_type": "stream",
     "text": [
      "[CV 4/5] END base_score=0.25, booster=gbtree, learning_rate=0.15, max_depth=10, min_child_weight=2, n_estimators=100;, score=(train=-335.449, test=-15339.183) total time=   1.2s\n"
     ]
    },
    {
     "name": "stderr",
     "output_type": "stream",
     "text": [
      "/usr/local/lib/python3.8/dist-packages/xgboost/core.py:158: UserWarning: [18:18:10] WARNING: /workspace/src/learner.cc:740: \n",
      "Parameters: { \"max_depth\", \"min_child_weight\" } are not used.\n",
      "\n",
      "  warnings.warn(smsg, UserWarning)\n"
     ]
    },
    {
     "name": "stdout",
     "output_type": "stream",
     "text": [
      "[CV 5/5] END base_score=0.25, booster=gbtree, learning_rate=0.15, max_depth=10, min_child_weight=2, n_estimators=100;, score=(train=-590.656, test=-18735.883) total time=   1.1s\n"
     ]
    },
    {
     "name": "stderr",
     "output_type": "stream",
     "text": [
      "/usr/local/lib/python3.8/dist-packages/xgboost/core.py:158: UserWarning: [18:18:11] WARNING: /workspace/src/learner.cc:740: \n",
      "Parameters: { \"max_depth\", \"min_child_weight\" } are not used.\n",
      "\n",
      "  warnings.warn(smsg, UserWarning)\n"
     ]
    },
    {
     "name": "stdout",
     "output_type": "stream",
     "text": [
      "[CV 1/5] END base_score=0.5, booster=gblinear, learning_rate=0.1, max_depth=2, min_child_weight=2, n_estimators=1100;, score=(train=-17743.469, test=-18601.964) total time=   2.7s\n"
     ]
    },
    {
     "name": "stderr",
     "output_type": "stream",
     "text": [
      "/usr/local/lib/python3.8/dist-packages/xgboost/core.py:158: UserWarning: [18:18:13] WARNING: /workspace/src/learner.cc:740: \n",
      "Parameters: { \"max_depth\", \"min_child_weight\" } are not used.\n",
      "\n",
      "  warnings.warn(smsg, UserWarning)\n"
     ]
    },
    {
     "name": "stdout",
     "output_type": "stream",
     "text": [
      "[CV 2/5] END base_score=0.5, booster=gblinear, learning_rate=0.1, max_depth=2, min_child_weight=2, n_estimators=1100;, score=(train=-17013.857, test=-21654.066) total time=   3.0s\n",
      "[CV 3/5] END base_score=0.5, booster=gblinear, learning_rate=0.1, max_depth=2, min_child_weight=2, n_estimators=1100;, score=(train=-16490.818, test=-22338.105) total time=   2.8s\n",
      "[CV 1/5] END base_score=0.5, booster=gbtree, learning_rate=0.1, max_depth=3, min_child_weight=3, n_estimators=100;, score=(train=-11045.268, test=-15832.024) total time=   0.3s\n",
      "[CV 2/5] END base_score=0.5, booster=gbtree, learning_rate=0.1, max_depth=3, min_child_weight=3, n_estimators=100;, score=(train=-10684.164, test=-17192.670) total time=   0.4s\n",
      "[CV 4/5] END base_score=0.5, booster=gblinear, learning_rate=0.1, max_depth=2, min_child_weight=2, n_estimators=1100;, score=(train=-17524.682, test=-19667.816) total time=   2.7s\n",
      "[CV 3/5] END base_score=0.5, booster=gbtree, learning_rate=0.1, max_depth=3, min_child_weight=3, n_estimators=100;, score=(train=-11094.478, test=-17092.940) total time=   0.4s\n",
      "[CV 4/5] END base_score=0.5, booster=gbtree, learning_rate=0.1, max_depth=3, min_child_weight=3, n_estimators=100;, score=(train=-11097.421, test=-15226.592) total time=   0.4s\n"
     ]
    },
    {
     "name": "stderr",
     "output_type": "stream",
     "text": [
      "/usr/local/lib/python3.8/dist-packages/xgboost/core.py:158: UserWarning: [18:18:14] WARNING: /workspace/src/learner.cc:740: \n",
      "Parameters: { \"max_depth\", \"min_child_weight\" } are not used.\n",
      "\n",
      "  warnings.warn(smsg, UserWarning)\n",
      "/usr/local/lib/python3.8/dist-packages/xgboost/core.py:158: UserWarning: [18:18:14] WARNING: /workspace/src/learner.cc:740: \n",
      "Parameters: { \"max_depth\", \"min_child_weight\" } are not used.\n",
      "\n",
      "  warnings.warn(smsg, UserWarning)\n"
     ]
    },
    {
     "name": "stdout",
     "output_type": "stream",
     "text": [
      "[CV 5/5] END base_score=0.5, booster=gbtree, learning_rate=0.1, max_depth=3, min_child_weight=3, n_estimators=100;, score=(train=-10742.097, test=-17739.127) total time=   0.4s\n"
     ]
    },
    {
     "name": "stderr",
     "output_type": "stream",
     "text": [
      "/usr/local/lib/python3.8/dist-packages/xgboost/core.py:158: UserWarning: [18:18:15] WARNING: /workspace/src/learner.cc:740: \n",
      "Parameters: { \"max_depth\", \"min_child_weight\" } are not used.\n",
      "\n",
      "  warnings.warn(smsg, UserWarning)\n"
     ]
    },
    {
     "name": "stdout",
     "output_type": "stream",
     "text": [
      "[CV 1/5] END base_score=0.5, booster=gblinear, learning_rate=0.15, max_depth=15, min_child_weight=1, n_estimators=500;, score=(train=-17795.114, test=-18455.045) total time=   1.2s\n"
     ]
    },
    {
     "name": "stderr",
     "output_type": "stream",
     "text": [
      "/usr/local/lib/python3.8/dist-packages/xgboost/core.py:158: UserWarning: [18:18:15] WARNING: /workspace/src/learner.cc:740: \n",
      "Parameters: { \"max_depth\", \"min_child_weight\" } are not used.\n",
      "\n",
      "  warnings.warn(smsg, UserWarning)\n"
     ]
    },
    {
     "name": "stdout",
     "output_type": "stream",
     "text": [
      "[CV 5/5] END base_score=0.5, booster=gblinear, learning_rate=0.1, max_depth=2, min_child_weight=2, n_estimators=1100;, score=(train=-15522.517, test=-21482.821) total time=   2.7s\n",
      "[CV 2/5] END base_score=0.5, booster=gblinear, learning_rate=0.15, max_depth=15, min_child_weight=1, n_estimators=500;, score=(train=-17027.169, test=-21690.321) total time=   1.4s\n",
      "[CV 3/5] END base_score=0.5, booster=gblinear, learning_rate=0.15, max_depth=15, min_child_weight=1, n_estimators=500;, score=(train=-16545.030, test=-22426.633) total time=   1.3s\n"
     ]
    },
    {
     "name": "stderr",
     "output_type": "stream",
     "text": [
      "/usr/local/lib/python3.8/dist-packages/xgboost/core.py:158: UserWarning: [18:18:16] WARNING: /workspace/src/learner.cc:740: \n",
      "Parameters: { \"max_depth\", \"min_child_weight\" } are not used.\n",
      "\n",
      "  warnings.warn(smsg, UserWarning)\n",
      "/usr/local/lib/python3.8/dist-packages/xgboost/core.py:158: UserWarning: [18:18:16] WARNING: /workspace/src/learner.cc:740: \n",
      "Parameters: { \"max_depth\", \"min_child_weight\" } are not used.\n",
      "\n",
      "  warnings.warn(smsg, UserWarning)\n",
      "/usr/local/lib/python3.8/dist-packages/xgboost/core.py:158: UserWarning: [18:18:16] WARNING: /workspace/src/learner.cc:740: \n",
      "Parameters: { \"max_depth\", \"min_child_weight\" } are not used.\n",
      "\n",
      "  warnings.warn(smsg, UserWarning)\n"
     ]
    },
    {
     "name": "stdout",
     "output_type": "stream",
     "text": [
      "[CV 4/5] END base_score=0.5, booster=gblinear, learning_rate=0.15, max_depth=15, min_child_weight=1, n_estimators=500;, score=(train=-17577.175, test=-19459.260) total time=   1.3s\n"
     ]
    },
    {
     "name": "stderr",
     "output_type": "stream",
     "text": [
      "/usr/local/lib/python3.8/dist-packages/xgboost/core.py:158: UserWarning: [18:18:17] WARNING: /workspace/src/learner.cc:740: \n",
      "Parameters: { \"max_depth\", \"min_child_weight\" } are not used.\n",
      "\n",
      "  warnings.warn(smsg, UserWarning)\n"
     ]
    },
    {
     "name": "stdout",
     "output_type": "stream",
     "text": [
      "[CV 5/5] END base_score=0.5, booster=gblinear, learning_rate=0.15, max_depth=15, min_child_weight=1, n_estimators=500;, score=(train=-15577.583, test=-21429.826) total time=   1.2s\n"
     ]
    },
    {
     "name": "stderr",
     "output_type": "stream",
     "text": [
      "/usr/local/lib/python3.8/dist-packages/xgboost/core.py:158: UserWarning: [18:18:17] WARNING: /workspace/src/learner.cc:740: \n",
      "Parameters: { \"max_depth\", \"min_child_weight\" } are not used.\n",
      "\n",
      "  warnings.warn(smsg, UserWarning)\n"
     ]
    },
    {
     "name": "stdout",
     "output_type": "stream",
     "text": [
      "[CV 2/5] END base_score=1, booster=gblinear, learning_rate=0.1, max_depth=15, min_child_weight=2, n_estimators=1100;, score=(train=-17013.859, test=-21654.063) total time=   2.3s\n"
     ]
    },
    {
     "name": "stderr",
     "output_type": "stream",
     "text": [
      "/usr/local/lib/python3.8/dist-packages/xgboost/core.py:158: UserWarning: [18:18:18] WARNING: /workspace/src/learner.cc:740: \n",
      "Parameters: { \"max_depth\", \"min_child_weight\" } are not used.\n",
      "\n",
      "  warnings.warn(smsg, UserWarning)\n"
     ]
    },
    {
     "name": "stdout",
     "output_type": "stream",
     "text": [
      "[CV 1/5] END base_score=1, booster=gblinear, learning_rate=0.1, max_depth=15, min_child_weight=2, n_estimators=1100;, score=(train=-17743.470, test=-18601.961) total time=   2.7s\n",
      "[CV 4/5] END base_score=1, booster=gblinear, learning_rate=0.1, max_depth=15, min_child_weight=2, n_estimators=1100;, score=(train=-17524.681, test=-19667.815) total time=   2.3s\n",
      "[CV 3/5] END base_score=1, booster=gblinear, learning_rate=0.1, max_depth=15, min_child_weight=2, n_estimators=1100;, score=(train=-16490.821, test=-22338.111) total time=   2.6s\n",
      "[CV 5/5] END base_score=1, booster=gblinear, learning_rate=0.1, max_depth=15, min_child_weight=2, n_estimators=1100;, score=(train=-15522.518, test=-21482.819) total time=   2.7s\n",
      "[CV 4/5] END base_score=0.5, booster=gbtree, learning_rate=0.1, max_depth=15, min_child_weight=3, n_estimators=1500;, score=(train=-7.357, test=-15573.238) total time=  10.4s\n",
      "[CV 1/5] END base_score=0.5, booster=gbtree, learning_rate=0.1, max_depth=15, min_child_weight=3, n_estimators=1500;, score=(train=-7.347, test=-16624.389) total time=  12.9s\n",
      "[CV 1/5] END base_score=0.25, booster=gbtree, learning_rate=0.05, max_depth=10, min_child_weight=4, n_estimators=100;, score=(train=-3812.577, test=-16667.112) total time=   1.1s\n",
      "[CV 2/5] END base_score=0.25, booster=gbtree, learning_rate=0.05, max_depth=10, min_child_weight=4, n_estimators=100;, score=(train=-3741.534, test=-17749.787) total time=   0.9s\n",
      "[CV 3/5] END base_score=0.5, booster=gbtree, learning_rate=0.1, max_depth=15, min_child_weight=3, n_estimators=1500;, score=(train=-0.044, test=-17902.447) total time=  14.5s\n",
      "[CV 3/5] END base_score=0.25, booster=gbtree, learning_rate=0.05, max_depth=10, min_child_weight=4, n_estimators=100;, score=(train=-3418.599, test=-17150.350) total time=   1.0s\n",
      "[CV 4/5] END base_score=0.25, booster=gbtree, learning_rate=0.05, max_depth=10, min_child_weight=4, n_estimators=100;, score=(train=-3886.272, test=-14606.211) total time=   0.9s\n",
      "[CV 5/5] END base_score=0.25, booster=gbtree, learning_rate=0.05, max_depth=10, min_child_weight=4, n_estimators=100;, score=(train=-3973.198, test=-18346.929) total time=   0.9s\n",
      "[CV 2/5] END base_score=0.5, booster=gbtree, learning_rate=0.1, max_depth=15, min_child_weight=3, n_estimators=1500;, score=(train=-7.335, test=-18249.346) total time=  17.5s\n",
      "[CV 1/5] END base_score=0.5, booster=gbtree, learning_rate=0.2, max_depth=5, min_child_weight=2, n_estimators=1100;, score=(train=-8.103, test=-16183.088) total time=   3.1s\n",
      "[CV 2/5] END base_score=0.5, booster=gbtree, learning_rate=0.2, max_depth=5, min_child_weight=2, n_estimators=1100;, score=(train=-8.443, test=-18119.464) total time=   2.8s\n",
      "[CV 3/5] END base_score=0.5, booster=gbtree, learning_rate=0.2, max_depth=5, min_child_weight=2, n_estimators=1100;, score=(train=-1.151, test=-17617.668) total time=   2.9s\n",
      "[CV 4/5] END base_score=0.5, booster=gbtree, learning_rate=0.2, max_depth=5, min_child_weight=2, n_estimators=1100;, score=(train=-8.099, test=-13848.155) total time=   3.0s\n",
      "[CV 5/5] END base_score=0.5, booster=gbtree, learning_rate=0.2, max_depth=5, min_child_weight=2, n_estimators=1100;, score=(train=-0.899, test=-18454.379) total time=   2.9s\n",
      "[CV 5/5] END base_score=0.5, booster=gbtree, learning_rate=0.1, max_depth=15, min_child_weight=3, n_estimators=1500;, score=(train=-0.054, test=-17939.312) total time=  10.6s\n",
      "[CV 1/5] END base_score=1, booster=gbtree, learning_rate=0.05, max_depth=10, min_child_weight=2, n_estimators=900;, score=(train=-8.021, test=-16131.783) total time=   8.6s\n",
      "[CV 3/5] END base_score=1, booster=gbtree, learning_rate=0.05, max_depth=10, min_child_weight=2, n_estimators=900;, score=(train=-2.043, test=-17449.844) total time=   7.7s\n"
     ]
    },
    {
     "name": "stderr",
     "output_type": "stream",
     "text": [
      "/usr/local/lib/python3.8/dist-packages/xgboost/core.py:158: UserWarning: [18:18:50] WARNING: /workspace/src/learner.cc:740: \n",
      "Parameters: { \"max_depth\", \"min_child_weight\" } are not used.\n",
      "\n",
      "  warnings.warn(smsg, UserWarning)\n"
     ]
    },
    {
     "name": "stdout",
     "output_type": "stream",
     "text": [
      "[CV 2/5] END base_score=1, booster=gbtree, learning_rate=0.05, max_depth=10, min_child_weight=2, n_estimators=900;, score=(train=-8.094, test=-17687.992) total time=   8.8s\n"
     ]
    },
    {
     "name": "stderr",
     "output_type": "stream",
     "text": [
      "/usr/local/lib/python3.8/dist-packages/xgboost/core.py:158: UserWarning: [18:18:50] WARNING: /workspace/src/learner.cc:740: \n",
      "Parameters: { \"max_depth\", \"min_child_weight\" } are not used.\n",
      "\n",
      "  warnings.warn(smsg, UserWarning)\n"
     ]
    },
    {
     "name": "stdout",
     "output_type": "stream",
     "text": [
      "[CV 4/5] END base_score=1, booster=gbtree, learning_rate=0.05, max_depth=10, min_child_weight=2, n_estimators=900;, score=(train=-7.904, test=-15351.217) total time=   8.7s\n"
     ]
    },
    {
     "name": "stderr",
     "output_type": "stream",
     "text": [
      "/usr/local/lib/python3.8/dist-packages/xgboost/core.py:158: UserWarning: [18:18:51] WARNING: /workspace/src/learner.cc:740: \n",
      "Parameters: { \"max_depth\", \"min_child_weight\" } are not used.\n",
      "\n",
      "  warnings.warn(smsg, UserWarning)\n"
     ]
    },
    {
     "name": "stdout",
     "output_type": "stream",
     "text": [
      "[CV 1/5] END base_score=1, booster=gblinear, learning_rate=0.05, max_depth=10, min_child_weight=3, n_estimators=1500;, score=(train=-17808.185, test=-18484.907) total time=   3.4s\n"
     ]
    },
    {
     "name": "stderr",
     "output_type": "stream",
     "text": [
      "/usr/local/lib/python3.8/dist-packages/xgboost/core.py:158: UserWarning: [18:18:53] WARNING: /workspace/src/learner.cc:740: \n",
      "Parameters: { \"max_depth\", \"min_child_weight\" } are not used.\n",
      "\n",
      "  warnings.warn(smsg, UserWarning)\n"
     ]
    },
    {
     "name": "stdout",
     "output_type": "stream",
     "text": [
      "[CV 2/5] END base_score=1, booster=gblinear, learning_rate=0.05, max_depth=10, min_child_weight=3, n_estimators=1500;, score=(train=-17035.849, test=-21751.528) total time=   2.9s\n"
     ]
    },
    {
     "name": "stderr",
     "output_type": "stream",
     "text": [
      "/usr/local/lib/python3.8/dist-packages/xgboost/core.py:158: UserWarning: [18:18:54] WARNING: /workspace/src/learner.cc:740: \n",
      "Parameters: { \"max_depth\", \"min_child_weight\" } are not used.\n",
      "\n",
      "  warnings.warn(smsg, UserWarning)\n"
     ]
    },
    {
     "name": "stdout",
     "output_type": "stream",
     "text": [
      "[CV 3/5] END base_score=1, booster=gblinear, learning_rate=0.05, max_depth=10, min_child_weight=3, n_estimators=1500;, score=(train=-16541.683, test=-22392.407) total time=   3.0s\n"
     ]
    },
    {
     "name": "stderr",
     "output_type": "stream",
     "text": [
      "/usr/local/lib/python3.8/dist-packages/xgboost/core.py:158: UserWarning: [18:18:54] WARNING: /workspace/src/learner.cc:740: \n",
      "Parameters: { \"max_depth\", \"min_child_weight\" } are not used.\n",
      "\n",
      "  warnings.warn(smsg, UserWarning)\n"
     ]
    },
    {
     "name": "stdout",
     "output_type": "stream",
     "text": [
      "[CV 1/5] END base_score=0.25, booster=gblinear, learning_rate=0.15, max_depth=15, min_child_weight=1, n_estimators=500;, score=(train=-17795.114, test=-18455.043) total time=   1.1s\n",
      "[CV 5/5] END base_score=1, booster=gbtree, learning_rate=0.05, max_depth=10, min_child_weight=2, n_estimators=900;, score=(train=-2.544, test=-18269.091) total time=   6.7s\n"
     ]
    },
    {
     "name": "stderr",
     "output_type": "stream",
     "text": [
      "/usr/local/lib/python3.8/dist-packages/xgboost/core.py:158: UserWarning: [18:18:56] WARNING: /workspace/src/learner.cc:740: \n",
      "Parameters: { \"max_depth\", \"min_child_weight\" } are not used.\n",
      "\n",
      "  warnings.warn(smsg, UserWarning)\n",
      "/usr/local/lib/python3.8/dist-packages/xgboost/core.py:158: UserWarning: [18:18:56] WARNING: /workspace/src/learner.cc:740: \n",
      "Parameters: { \"max_depth\", \"min_child_weight\" } are not used.\n",
      "\n",
      "  warnings.warn(smsg, UserWarning)\n"
     ]
    },
    {
     "name": "stdout",
     "output_type": "stream",
     "text": [
      "[CV 4/5] END base_score=1, booster=gblinear, learning_rate=0.05, max_depth=10, min_child_weight=3, n_estimators=1500;, score=(train=-17601.297, test=-19431.989) total time=   3.3s\n",
      "[CV 5/5] END base_score=1, booster=gblinear, learning_rate=0.05, max_depth=10, min_child_weight=3, n_estimators=1500;, score=(train=-15575.504, test=-21389.073) total time=   3.1s\n"
     ]
    },
    {
     "name": "stderr",
     "output_type": "stream",
     "text": [
      "/usr/local/lib/python3.8/dist-packages/xgboost/core.py:158: UserWarning: [18:18:57] WARNING: /workspace/src/learner.cc:740: \n",
      "Parameters: { \"max_depth\", \"min_child_weight\" } are not used.\n",
      "\n",
      "  warnings.warn(smsg, UserWarning)\n",
      "/usr/local/lib/python3.8/dist-packages/xgboost/core.py:158: UserWarning: [18:18:57] WARNING: /workspace/src/learner.cc:740: \n",
      "Parameters: { \"max_depth\", \"min_child_weight\" } are not used.\n",
      "\n",
      "  warnings.warn(smsg, UserWarning)\n",
      "/usr/local/lib/python3.8/dist-packages/xgboost/core.py:158: UserWarning: [18:18:57] WARNING: /workspace/src/learner.cc:740: \n",
      "Parameters: { \"max_depth\", \"min_child_weight\" } are not used.\n",
      "\n",
      "  warnings.warn(smsg, UserWarning)\n",
      "/usr/local/lib/python3.8/dist-packages/xgboost/core.py:158: UserWarning: [18:18:57] WARNING: /workspace/src/learner.cc:740: \n",
      "Parameters: { \"max_depth\", \"min_child_weight\" } are not used.\n",
      "\n",
      "  warnings.warn(smsg, UserWarning)\n"
     ]
    },
    {
     "name": "stdout",
     "output_type": "stream",
     "text": [
      "[CV 3/5] END base_score=0.25, booster=gblinear, learning_rate=0.15, max_depth=15, min_child_weight=1, n_estimators=500;, score=(train=-16545.031, test=-22426.639) total time=   1.1s\n",
      "[CV 2/5] END base_score=0.25, booster=gblinear, learning_rate=0.15, max_depth=15, min_child_weight=1, n_estimators=500;, score=(train=-17027.168, test=-21690.322) total time=   1.1s\n",
      "[CV 4/5] END base_score=0.25, booster=gblinear, learning_rate=0.15, max_depth=15, min_child_weight=1, n_estimators=500;, score=(train=-17577.172, test=-19459.259) total time=   1.1s\n",
      "[CV 5/5] END base_score=0.25, booster=gblinear, learning_rate=0.15, max_depth=15, min_child_weight=1, n_estimators=500;, score=(train=-15577.586, test=-21429.829) total time=   1.0s\n"
     ]
    },
    {
     "name": "stderr",
     "output_type": "stream",
     "text": [
      "/usr/local/lib/python3.8/dist-packages/xgboost/core.py:158: UserWarning: [18:18:58] WARNING: /workspace/src/learner.cc:740: \n",
      "Parameters: { \"max_depth\", \"min_child_weight\" } are not used.\n",
      "\n",
      "  warnings.warn(smsg, UserWarning)\n",
      "/usr/local/lib/python3.8/dist-packages/xgboost/core.py:158: UserWarning: [18:18:58] WARNING: /workspace/src/learner.cc:740: \n",
      "Parameters: { \"max_depth\", \"min_child_weight\" } are not used.\n",
      "\n",
      "  warnings.warn(smsg, UserWarning)\n"
     ]
    },
    {
     "name": "stdout",
     "output_type": "stream",
     "text": [
      "[CV 1/5] END base_score=0.75, booster=gblinear, learning_rate=0.15, max_depth=5, min_child_weight=3, n_estimators=1500;, score=(train=-17682.927, test=-18848.683) total time=   3.0s\n",
      "[CV 2/5] END base_score=0.75, booster=gblinear, learning_rate=0.15, max_depth=5, min_child_weight=3, n_estimators=1500;, score=(train=-16978.694, test=-21460.178) total time=   3.0s\n"
     ]
    },
    {
     "name": "stderr",
     "output_type": "stream",
     "text": [
      "/usr/local/lib/python3.8/dist-packages/xgboost/core.py:158: UserWarning: [18:19:00] WARNING: /workspace/src/learner.cc:740: \n",
      "Parameters: { \"max_depth\", \"min_child_weight\" } are not used.\n",
      "\n",
      "  warnings.warn(smsg, UserWarning)\n",
      "/usr/local/lib/python3.8/dist-packages/xgboost/core.py:158: UserWarning: [18:19:00] WARNING: /workspace/src/learner.cc:740: \n",
      "Parameters: { \"max_depth\", \"min_child_weight\" } are not used.\n",
      "\n",
      "  warnings.warn(smsg, UserWarning)\n"
     ]
    },
    {
     "name": "stdout",
     "output_type": "stream",
     "text": [
      "[CV 3/5] END base_score=0.75, booster=gblinear, learning_rate=0.15, max_depth=5, min_child_weight=3, n_estimators=1500;, score=(train=-16442.395, test=-22379.299) total time=   2.9s\n",
      "[CV 4/5] END base_score=0.75, booster=gblinear, learning_rate=0.15, max_depth=5, min_child_weight=3, n_estimators=1500;, score=(train=-17446.686, test=-20085.084) total time=   3.0s\n"
     ]
    },
    {
     "name": "stderr",
     "output_type": "stream",
     "text": [
      "/usr/local/lib/python3.8/dist-packages/xgboost/core.py:158: UserWarning: [18:19:01] WARNING: /workspace/src/learner.cc:740: \n",
      "Parameters: { \"max_depth\", \"min_child_weight\" } are not used.\n",
      "\n",
      "  warnings.warn(smsg, UserWarning)\n",
      "/usr/local/lib/python3.8/dist-packages/xgboost/core.py:158: UserWarning: [18:19:01] WARNING: /workspace/src/learner.cc:740: \n",
      "Parameters: { \"max_depth\", \"min_child_weight\" } are not used.\n",
      "\n",
      "  warnings.warn(smsg, UserWarning)\n"
     ]
    },
    {
     "name": "stdout",
     "output_type": "stream",
     "text": [
      "[CV 1/5] END base_score=0.75, booster=gblinear, learning_rate=0.1, max_depth=10, min_child_weight=1, n_estimators=900;, score=(train=-17765.720, test=-18524.253) total time=   2.0s\n"
     ]
    },
    {
     "name": "stderr",
     "output_type": "stream",
     "text": [
      "/usr/local/lib/python3.8/dist-packages/xgboost/core.py:158: UserWarning: [18:19:02] WARNING: /workspace/src/learner.cc:740: \n",
      "Parameters: { \"max_depth\", \"min_child_weight\" } are not used.\n",
      "\n",
      "  warnings.warn(smsg, UserWarning)\n"
     ]
    },
    {
     "name": "stdout",
     "output_type": "stream",
     "text": [
      "[CV 2/5] END base_score=0.75, booster=gblinear, learning_rate=0.1, max_depth=10, min_child_weight=1, n_estimators=900;, score=(train=-17018.717, test=-21688.892) total time=   1.8s\n",
      "[CV 5/5] END base_score=0.75, booster=gblinear, learning_rate=0.15, max_depth=5, min_child_weight=3, n_estimators=1500;, score=(train=-15514.127, test=-21756.101) total time=   2.9s\n",
      "[CV 3/5] END base_score=0.75, booster=gblinear, learning_rate=0.1, max_depth=10, min_child_weight=1, n_estimators=900;, score=(train=-16513.071, test=-22373.446) total time=   1.9s\n"
     ]
    },
    {
     "name": "stderr",
     "output_type": "stream",
     "text": [
      "/usr/local/lib/python3.8/dist-packages/xgboost/core.py:158: UserWarning: [18:19:03] WARNING: /workspace/src/learner.cc:740: \n",
      "Parameters: { \"max_depth\", \"min_child_weight\" } are not used.\n",
      "\n",
      "  warnings.warn(smsg, UserWarning)\n",
      "/usr/local/lib/python3.8/dist-packages/xgboost/core.py:158: UserWarning: [18:19:03] WARNING: /workspace/src/learner.cc:740: \n",
      "Parameters: { \"max_depth\", \"min_child_weight\" } are not used.\n",
      "\n",
      "  warnings.warn(smsg, UserWarning)\n",
      "/usr/local/lib/python3.8/dist-packages/xgboost/core.py:158: UserWarning: [18:19:03] WARNING: /workspace/src/learner.cc:740: \n",
      "Parameters: { \"max_depth\", \"min_child_weight\" } are not used.\n",
      "\n",
      "  warnings.warn(smsg, UserWarning)\n"
     ]
    },
    {
     "name": "stdout",
     "output_type": "stream",
     "text": [
      "[CV 4/5] END base_score=0.75, booster=gblinear, learning_rate=0.1, max_depth=10, min_child_weight=1, n_estimators=900;, score=(train=-17549.737, test=-19543.400) total time=   1.9s\n"
     ]
    },
    {
     "name": "stderr",
     "output_type": "stream",
     "text": [
      "/usr/local/lib/python3.8/dist-packages/xgboost/core.py:158: UserWarning: [18:19:04] WARNING: /workspace/src/learner.cc:740: \n",
      "Parameters: { \"max_depth\", \"min_child_weight\" } are not used.\n",
      "\n",
      "  warnings.warn(smsg, UserWarning)\n"
     ]
    },
    {
     "name": "stdout",
     "output_type": "stream",
     "text": [
      "[CV 5/5] END base_score=0.75, booster=gblinear, learning_rate=0.1, max_depth=10, min_child_weight=1, n_estimators=900;, score=(train=-15540.959, test=-21429.585) total time=   2.1s\n"
     ]
    },
    {
     "name": "stderr",
     "output_type": "stream",
     "text": [
      "/usr/local/lib/python3.8/dist-packages/xgboost/core.py:158: UserWarning: [18:19:05] WARNING: /workspace/src/learner.cc:740: \n",
      "Parameters: { \"max_depth\", \"min_child_weight\" } are not used.\n",
      "\n",
      "  warnings.warn(smsg, UserWarning)\n"
     ]
    },
    {
     "name": "stdout",
     "output_type": "stream",
     "text": [
      "[CV 1/5] END base_score=0.5, booster=gblinear, learning_rate=0.2, max_depth=5, min_child_weight=2, n_estimators=1500;, score=(train=-17631.143, test=-18966.300) total time=   2.9s\n",
      "[CV 2/5] END base_score=0.5, booster=gblinear, learning_rate=0.2, max_depth=5, min_child_weight=2, n_estimators=1500;, score=(train=-16932.346, test=-21455.652) total time=   3.0s\n"
     ]
    },
    {
     "name": "stderr",
     "output_type": "stream",
     "text": [
      "/usr/local/lib/python3.8/dist-packages/xgboost/core.py:158: UserWarning: [18:19:06] WARNING: /workspace/src/learner.cc:740: \n",
      "Parameters: { \"max_depth\", \"min_child_weight\" } are not used.\n",
      "\n",
      "  warnings.warn(smsg, UserWarning)\n",
      "/usr/local/lib/python3.8/dist-packages/xgboost/core.py:158: UserWarning: [18:19:06] WARNING: /workspace/src/learner.cc:740: \n",
      "Parameters: { \"max_depth\", \"min_child_weight\" } are not used.\n",
      "\n",
      "  warnings.warn(smsg, UserWarning)\n"
     ]
    },
    {
     "name": "stdout",
     "output_type": "stream",
     "text": [
      "[CV 3/5] END base_score=0.5, booster=gblinear, learning_rate=0.2, max_depth=5, min_child_weight=2, n_estimators=1500;, score=(train=-16396.571, test=-22394.683) total time=   2.9s\n",
      "[CV 1/5] END base_score=1, booster=gblinear, learning_rate=0.15, max_depth=10, min_child_weight=1, n_estimators=500;, score=(train=-17795.115, test=-18455.041) total time=   1.1s\n"
     ]
    },
    {
     "name": "stderr",
     "output_type": "stream",
     "text": [
      "/usr/local/lib/python3.8/dist-packages/xgboost/core.py:158: UserWarning: [18:19:07] WARNING: /workspace/src/learner.cc:740: \n",
      "Parameters: { \"max_depth\", \"min_child_weight\" } are not used.\n",
      "\n",
      "  warnings.warn(smsg, UserWarning)\n",
      "/usr/local/lib/python3.8/dist-packages/xgboost/core.py:158: UserWarning: [18:19:07] WARNING: /workspace/src/learner.cc:740: \n",
      "Parameters: { \"max_depth\", \"min_child_weight\" } are not used.\n",
      "\n",
      "  warnings.warn(smsg, UserWarning)\n"
     ]
    },
    {
     "name": "stdout",
     "output_type": "stream",
     "text": [
      "[CV 4/5] END base_score=0.5, booster=gblinear, learning_rate=0.2, max_depth=5, min_child_weight=2, n_estimators=1500;, score=(train=-17410.577, test=-20176.399) total time=   3.1s\n",
      "[CV 2/5] END base_score=1, booster=gblinear, learning_rate=0.15, max_depth=10, min_child_weight=1, n_estimators=500;, score=(train=-17027.166, test=-21690.320) total time=   1.1s\n"
     ]
    },
    {
     "name": "stderr",
     "output_type": "stream",
     "text": [
      "/usr/local/lib/python3.8/dist-packages/xgboost/core.py:158: UserWarning: [18:19:08] WARNING: /workspace/src/learner.cc:740: \n",
      "Parameters: { \"max_depth\", \"min_child_weight\" } are not used.\n",
      "\n",
      "  warnings.warn(smsg, UserWarning)\n",
      "/usr/local/lib/python3.8/dist-packages/xgboost/core.py:158: UserWarning: [18:19:08] WARNING: /workspace/src/learner.cc:740: \n",
      "Parameters: { \"max_depth\", \"min_child_weight\" } are not used.\n",
      "\n",
      "  warnings.warn(smsg, UserWarning)\n"
     ]
    },
    {
     "name": "stdout",
     "output_type": "stream",
     "text": [
      "[CV 3/5] END base_score=1, booster=gblinear, learning_rate=0.15, max_depth=10, min_child_weight=1, n_estimators=500;, score=(train=-16545.032, test=-22426.637) total time=   1.1s\n"
     ]
    },
    {
     "name": "stderr",
     "output_type": "stream",
     "text": [
      "/usr/local/lib/python3.8/dist-packages/xgboost/core.py:158: UserWarning: [18:19:08] WARNING: /workspace/src/learner.cc:740: \n",
      "Parameters: { \"max_depth\", \"min_child_weight\" } are not used.\n",
      "\n",
      "  warnings.warn(smsg, UserWarning)\n"
     ]
    },
    {
     "name": "stdout",
     "output_type": "stream",
     "text": [
      "[CV 5/5] END base_score=0.5, booster=gblinear, learning_rate=0.2, max_depth=5, min_child_weight=2, n_estimators=1500;, score=(train=-15520.564, test=-21836.632) total time=   2.9s\n"
     ]
    },
    {
     "name": "stderr",
     "output_type": "stream",
     "text": [
      "/usr/local/lib/python3.8/dist-packages/xgboost/core.py:158: UserWarning: [18:19:09] WARNING: /workspace/src/learner.cc:740: \n",
      "Parameters: { \"max_depth\", \"min_child_weight\" } are not used.\n",
      "\n",
      "  warnings.warn(smsg, UserWarning)\n"
     ]
    },
    {
     "name": "stdout",
     "output_type": "stream",
     "text": [
      "[CV 4/5] END base_score=1, booster=gblinear, learning_rate=0.15, max_depth=10, min_child_weight=1, n_estimators=500;, score=(train=-17577.173, test=-19459.260) total time=   1.1s\n",
      "[CV 5/5] END base_score=1, booster=gblinear, learning_rate=0.15, max_depth=10, min_child_weight=1, n_estimators=500;, score=(train=-15577.588, test=-21429.832) total time=   1.1s\n"
     ]
    },
    {
     "name": "stderr",
     "output_type": "stream",
     "text": [
      "/usr/local/lib/python3.8/dist-packages/xgboost/core.py:158: UserWarning: [18:19:09] WARNING: /workspace/src/learner.cc:740: \n",
      "Parameters: { \"max_depth\", \"min_child_weight\" } are not used.\n",
      "\n",
      "  warnings.warn(smsg, UserWarning)\n",
      "/usr/local/lib/python3.8/dist-packages/xgboost/core.py:158: UserWarning: [18:19:09] WARNING: /workspace/src/learner.cc:740: \n",
      "Parameters: { \"max_depth\", \"min_child_weight\" } are not used.\n",
      "\n",
      "  warnings.warn(smsg, UserWarning)\n"
     ]
    },
    {
     "name": "stdout",
     "output_type": "stream",
     "text": [
      "[CV 1/5] END base_score=0.5, booster=gblinear, learning_rate=0.05, max_depth=15, min_child_weight=3, n_estimators=1100;, score=(train=-17892.389, test=-18370.849) total time=   2.3s\n"
     ]
    },
    {
     "name": "stderr",
     "output_type": "stream",
     "text": [
      "/usr/local/lib/python3.8/dist-packages/xgboost/core.py:158: UserWarning: [18:19:10] WARNING: /workspace/src/learner.cc:740: \n",
      "Parameters: { \"max_depth\", \"min_child_weight\" } are not used.\n",
      "\n",
      "  warnings.warn(smsg, UserWarning)\n"
     ]
    },
    {
     "name": "stdout",
     "output_type": "stream",
     "text": [
      "[CV 2/5] END base_score=0.5, booster=gblinear, learning_rate=0.05, max_depth=15, min_child_weight=3, n_estimators=1100;, score=(train=-17076.627, test=-21818.547) total time=   2.2s\n"
     ]
    },
    {
     "name": "stderr",
     "output_type": "stream",
     "text": [
      "/usr/local/lib/python3.8/dist-packages/xgboost/core.py:158: UserWarning: [18:19:11] WARNING: /workspace/src/learner.cc:740: \n",
      "Parameters: { \"max_depth\", \"min_child_weight\" } are not used.\n",
      "\n",
      "  warnings.warn(smsg, UserWarning)\n"
     ]
    },
    {
     "name": "stdout",
     "output_type": "stream",
     "text": [
      "[CV 1/5] END base_score=1, booster=gblinear, learning_rate=0.2, max_depth=15, min_child_weight=1, n_estimators=100;, score=(train=-18228.569, test=-18231.390) total time=   0.3s\n",
      "[CV 3/5] END base_score=0.5, booster=gblinear, learning_rate=0.05, max_depth=15, min_child_weight=3, n_estimators=1100;, score=(train=-16652.548, test=-22520.499) total time=   2.3s\n",
      "[CV 4/5] END base_score=0.5, booster=gblinear, learning_rate=0.05, max_depth=15, min_child_weight=3, n_estimators=1100;, score=(train=-17703.959, test=-19303.450) total time=   2.3s\n"
     ]
    },
    {
     "name": "stderr",
     "output_type": "stream",
     "text": [
      "/usr/local/lib/python3.8/dist-packages/xgboost/core.py:158: UserWarning: [18:19:11] WARNING: /workspace/src/learner.cc:740: \n",
      "Parameters: { \"max_depth\", \"min_child_weight\" } are not used.\n",
      "\n",
      "  warnings.warn(smsg, UserWarning)\n",
      "/usr/local/lib/python3.8/dist-packages/xgboost/core.py:158: UserWarning: [18:19:12] WARNING: /workspace/src/learner.cc:740: \n",
      "Parameters: { \"max_depth\", \"min_child_weight\" } are not used.\n",
      "\n",
      "  warnings.warn(smsg, UserWarning)\n",
      "/usr/local/lib/python3.8/dist-packages/xgboost/core.py:158: UserWarning: [18:19:12] WARNING: /workspace/src/learner.cc:740: \n",
      "Parameters: { \"max_depth\", \"min_child_weight\" } are not used.\n",
      "\n",
      "  warnings.warn(smsg, UserWarning)\n"
     ]
    },
    {
     "name": "stdout",
     "output_type": "stream",
     "text": [
      "[CV 2/5] END base_score=1, booster=gblinear, learning_rate=0.2, max_depth=15, min_child_weight=1, n_estimators=100;, score=(train=-17374.942, test=-21818.012) total time=   0.3s\n",
      "[CV 3/5] END base_score=1, booster=gblinear, learning_rate=0.2, max_depth=15, min_child_weight=1, n_estimators=100;, score=(train=-17012.489, test=-22577.263) total time=   0.3s\n",
      "[CV 4/5] END base_score=1, booster=gblinear, learning_rate=0.2, max_depth=15, min_child_weight=1, n_estimators=100;, score=(train=-18099.287, test=-19113.235) total time=   0.4s\n"
     ]
    },
    {
     "name": "stderr",
     "output_type": "stream",
     "text": [
      "/usr/local/lib/python3.8/dist-packages/xgboost/core.py:158: UserWarning: [18:19:12] WARNING: /workspace/src/learner.cc:740: \n",
      "Parameters: { \"max_depth\", \"min_child_weight\" } are not used.\n",
      "\n",
      "  warnings.warn(smsg, UserWarning)\n",
      "/usr/local/lib/python3.8/dist-packages/xgboost/core.py:158: UserWarning: [18:19:12] WARNING: /workspace/src/learner.cc:740: \n",
      "Parameters: { \"max_depth\", \"min_child_weight\" } are not used.\n",
      "\n",
      "  warnings.warn(smsg, UserWarning)\n",
      "/usr/local/lib/python3.8/dist-packages/xgboost/core.py:158: UserWarning: [18:19:12] WARNING: /workspace/src/learner.cc:740: \n",
      "Parameters: { \"max_depth\", \"min_child_weight\" } are not used.\n",
      "\n",
      "  warnings.warn(smsg, UserWarning)\n"
     ]
    },
    {
     "name": "stdout",
     "output_type": "stream",
     "text": [
      "[CV 5/5] END base_score=1, booster=gblinear, learning_rate=0.2, max_depth=15, min_child_weight=1, n_estimators=100;, score=(train=-16445.096, test=-22141.186) total time=   0.3s\n"
     ]
    },
    {
     "name": "stderr",
     "output_type": "stream",
     "text": [
      "/usr/local/lib/python3.8/dist-packages/xgboost/core.py:158: UserWarning: [18:19:12] WARNING: /workspace/src/learner.cc:740: \n",
      "Parameters: { \"max_depth\", \"min_child_weight\" } are not used.\n",
      "\n",
      "  warnings.warn(smsg, UserWarning)\n"
     ]
    },
    {
     "name": "stdout",
     "output_type": "stream",
     "text": [
      "[CV 5/5] END base_score=0.5, booster=gblinear, learning_rate=0.05, max_depth=15, min_child_weight=3, n_estimators=1100;, score=(train=-15680.299, test=-21421.253) total time=   2.2s\n"
     ]
    },
    {
     "name": "stderr",
     "output_type": "stream",
     "text": [
      "/usr/local/lib/python3.8/dist-packages/xgboost/core.py:158: UserWarning: [18:19:13] WARNING: /workspace/src/learner.cc:740: \n",
      "Parameters: { \"max_depth\", \"min_child_weight\" } are not used.\n",
      "\n",
      "  warnings.warn(smsg, UserWarning)\n"
     ]
    },
    {
     "name": "stdout",
     "output_type": "stream",
     "text": [
      "[CV 1/5] END base_score=1, booster=gblinear, learning_rate=0.1, max_depth=10, min_child_weight=2, n_estimators=500;, score=(train=-17887.876, test=-18289.983) total time=   1.1s\n",
      "[CV 2/5] END base_score=1, booster=gblinear, learning_rate=0.1, max_depth=10, min_child_weight=2, n_estimators=500;, score=(train=-17064.206, test=-21760.711) total time=   1.1s\n"
     ]
    },
    {
     "name": "stderr",
     "output_type": "stream",
     "text": [
      "/usr/local/lib/python3.8/dist-packages/xgboost/core.py:158: UserWarning: [18:19:13] WARNING: /workspace/src/learner.cc:740: \n",
      "Parameters: { \"max_depth\", \"min_child_weight\" } are not used.\n",
      "\n",
      "  warnings.warn(smsg, UserWarning)\n",
      "/usr/local/lib/python3.8/dist-packages/xgboost/core.py:158: UserWarning: [18:19:13] WARNING: /workspace/src/learner.cc:740: \n",
      "Parameters: { \"max_depth\", \"min_child_weight\" } are not used.\n",
      "\n",
      "  warnings.warn(smsg, UserWarning)\n"
     ]
    },
    {
     "name": "stdout",
     "output_type": "stream",
     "text": [
      "[CV 3/5] END base_score=1, booster=gblinear, learning_rate=0.1, max_depth=10, min_child_weight=2, n_estimators=500;, score=(train=-16649.144, test=-22546.682) total time=   1.1s\n"
     ]
    },
    {
     "name": "stderr",
     "output_type": "stream",
     "text": [
      "/usr/local/lib/python3.8/dist-packages/xgboost/core.py:158: UserWarning: [18:19:13] WARNING: /workspace/src/learner.cc:740: \n",
      "Parameters: { \"max_depth\", \"min_child_weight\" } are not used.\n",
      "\n",
      "  warnings.warn(smsg, UserWarning)\n"
     ]
    },
    {
     "name": "stdout",
     "output_type": "stream",
     "text": [
      "[CV 4/5] END base_score=1, booster=gblinear, learning_rate=0.1, max_depth=10, min_child_weight=2, n_estimators=500;, score=(train=-17698.099, test=-19231.956) total time=   1.1s\n"
     ]
    },
    {
     "name": "stderr",
     "output_type": "stream",
     "text": [
      "/usr/local/lib/python3.8/dist-packages/xgboost/core.py:158: UserWarning: [18:19:14] WARNING: /workspace/src/learner.cc:740: \n",
      "Parameters: { \"max_depth\", \"min_child_weight\" } are not used.\n",
      "\n",
      "  warnings.warn(smsg, UserWarning)\n"
     ]
    },
    {
     "name": "stdout",
     "output_type": "stream",
     "text": [
      "[CV 5/5] END base_score=1, booster=gblinear, learning_rate=0.1, max_depth=10, min_child_weight=2, n_estimators=500;, score=(train=-15692.055, test=-21454.673) total time=   1.1s\n"
     ]
    },
    {
     "name": "stderr",
     "output_type": "stream",
     "text": [
      "/usr/local/lib/python3.8/dist-packages/xgboost/core.py:158: UserWarning: [18:19:14] WARNING: /workspace/src/learner.cc:740: \n",
      "Parameters: { \"max_depth\", \"min_child_weight\" } are not used.\n",
      "\n",
      "  warnings.warn(smsg, UserWarning)\n"
     ]
    },
    {
     "name": "stdout",
     "output_type": "stream",
     "text": [
      "[CV 1/5] END base_score=0.25, booster=gblinear, learning_rate=0.1, max_depth=5, min_child_weight=2, n_estimators=1500;, score=(train=-17719.634, test=-18709.351) total time=   3.0s\n"
     ]
    },
    {
     "name": "stderr",
     "output_type": "stream",
     "text": [
      "/usr/local/lib/python3.8/dist-packages/xgboost/core.py:158: UserWarning: [18:19:16] WARNING: /workspace/src/learner.cc:740: \n",
      "Parameters: { \"max_depth\", \"min_child_weight\" } are not used.\n",
      "\n",
      "  warnings.warn(smsg, UserWarning)\n"
     ]
    },
    {
     "name": "stdout",
     "output_type": "stream",
     "text": [
      "[CV 2/5] END base_score=0.25, booster=gblinear, learning_rate=0.1, max_depth=5, min_child_weight=2, n_estimators=1500;, score=(train=-17005.382, test=-21568.453) total time=   3.0s\n",
      "[CV 3/5] END base_score=0.25, booster=gblinear, learning_rate=0.1, max_depth=5, min_child_weight=2, n_estimators=1500;, score=(train=-16469.438, test=-22322.343) total time=   3.1s\n",
      "[CV 4/5] END base_score=0.25, booster=gblinear, learning_rate=0.1, max_depth=5, min_child_weight=2, n_estimators=1500;, score=(train=-17488.577, test=-19858.782) total time=   2.9s\n",
      "[CV 5/5] END base_score=0.25, booster=gblinear, learning_rate=0.1, max_depth=5, min_child_weight=2, n_estimators=1500;, score=(train=-15510.558, test=-21607.724) total time=   3.1s\n",
      "[CV 1/5] END base_score=0.5, booster=gbtree, learning_rate=0.15, max_depth=15, min_child_weight=1, n_estimators=1100;, score=(train=-7.343, test=-17349.913) total time=  12.6s\n",
      "[CV 3/5] END base_score=0.5, booster=gbtree, learning_rate=0.15, max_depth=15, min_child_weight=1, n_estimators=1100;, score=(train=-0.046, test=-19178.078) total time=  13.5s\n"
     ]
    },
    {
     "name": "stderr",
     "output_type": "stream",
     "text": [
      "/usr/local/lib/python3.8/dist-packages/xgboost/core.py:158: UserWarning: [18:19:31] WARNING: /workspace/src/learner.cc:740: \n",
      "Parameters: { \"max_depth\", \"min_child_weight\" } are not used.\n",
      "\n",
      "  warnings.warn(smsg, UserWarning)\n"
     ]
    },
    {
     "name": "stdout",
     "output_type": "stream",
     "text": [
      "[CV 1/5] END base_score=0.75, booster=gblinear, learning_rate=0.1, max_depth=5, min_child_weight=4, n_estimators=900;, score=(train=-17765.720, test=-18524.253) total time=   1.9s\n"
     ]
    },
    {
     "name": "stderr",
     "output_type": "stream",
     "text": [
      "/usr/local/lib/python3.8/dist-packages/xgboost/core.py:158: UserWarning: [18:19:33] WARNING: /workspace/src/learner.cc:740: \n",
      "Parameters: { \"max_depth\", \"min_child_weight\" } are not used.\n",
      "\n",
      "  warnings.warn(smsg, UserWarning)\n"
     ]
    },
    {
     "name": "stdout",
     "output_type": "stream",
     "text": [
      "[CV 2/5] END base_score=0.5, booster=gbtree, learning_rate=0.15, max_depth=15, min_child_weight=1, n_estimators=1100;, score=(train=-7.343, test=-17264.336) total time=  16.2s\n"
     ]
    },
    {
     "name": "stderr",
     "output_type": "stream",
     "text": [
      "/usr/local/lib/python3.8/dist-packages/xgboost/core.py:158: UserWarning: [18:19:33] WARNING: /workspace/src/learner.cc:740: \n",
      "Parameters: { \"max_depth\", \"min_child_weight\" } are not used.\n",
      "\n",
      "  warnings.warn(smsg, UserWarning)\n"
     ]
    },
    {
     "name": "stdout",
     "output_type": "stream",
     "text": [
      "[CV 2/5] END base_score=0.75, booster=gblinear, learning_rate=0.1, max_depth=5, min_child_weight=4, n_estimators=900;, score=(train=-17018.717, test=-21688.892) total time=   1.9s\n"
     ]
    },
    {
     "name": "stderr",
     "output_type": "stream",
     "text": [
      "/usr/local/lib/python3.8/dist-packages/xgboost/core.py:158: UserWarning: [18:19:35] WARNING: /workspace/src/learner.cc:740: \n",
      "Parameters: { \"max_depth\", \"min_child_weight\" } are not used.\n",
      "\n",
      "  warnings.warn(smsg, UserWarning)\n"
     ]
    },
    {
     "name": "stdout",
     "output_type": "stream",
     "text": [
      "[CV 3/5] END base_score=0.75, booster=gblinear, learning_rate=0.1, max_depth=5, min_child_weight=4, n_estimators=900;, score=(train=-16513.071, test=-22373.446) total time=   1.9s\n"
     ]
    },
    {
     "name": "stderr",
     "output_type": "stream",
     "text": [
      "/usr/local/lib/python3.8/dist-packages/xgboost/core.py:158: UserWarning: [18:19:35] WARNING: /workspace/src/learner.cc:740: \n",
      "Parameters: { \"max_depth\", \"min_child_weight\" } are not used.\n",
      "\n",
      "  warnings.warn(smsg, UserWarning)\n"
     ]
    },
    {
     "name": "stdout",
     "output_type": "stream",
     "text": [
      "[CV 4/5] END base_score=0.75, booster=gblinear, learning_rate=0.1, max_depth=5, min_child_weight=4, n_estimators=900;, score=(train=-17549.737, test=-19543.400) total time=   1.9s\n"
     ]
    },
    {
     "name": "stderr",
     "output_type": "stream",
     "text": [
      "/usr/local/lib/python3.8/dist-packages/xgboost/core.py:158: UserWarning: [18:19:37] WARNING: /workspace/src/learner.cc:740: \n",
      "Parameters: { \"max_depth\", \"min_child_weight\" } are not used.\n",
      "\n",
      "  warnings.warn(smsg, UserWarning)\n"
     ]
    },
    {
     "name": "stdout",
     "output_type": "stream",
     "text": [
      "[CV 5/5] END base_score=0.75, booster=gblinear, learning_rate=0.1, max_depth=5, min_child_weight=4, n_estimators=900;, score=(train=-15540.959, test=-21429.585) total time=   1.9s\n"
     ]
    },
    {
     "name": "stderr",
     "output_type": "stream",
     "text": [
      "/usr/local/lib/python3.8/dist-packages/xgboost/core.py:158: UserWarning: [18:19:37] WARNING: /workspace/src/learner.cc:740: \n",
      "Parameters: { \"max_depth\", \"min_child_weight\" } are not used.\n",
      "\n",
      "  warnings.warn(smsg, UserWarning)\n"
     ]
    },
    {
     "name": "stdout",
     "output_type": "stream",
     "text": [
      "[CV 4/5] END base_score=0.5, booster=gbtree, learning_rate=0.15, max_depth=15, min_child_weight=1, n_estimators=1100;, score=(train=-7.333, test=-15693.116) total time=  18.2s\n",
      "[CV 1/5] END base_score=1, booster=gblinear, learning_rate=0.2, max_depth=15, min_child_weight=3, n_estimators=500;, score=(train=-17784.406, test=-18604.145) total time=   1.1s\n"
     ]
    },
    {
     "name": "stderr",
     "output_type": "stream",
     "text": [
      "/usr/local/lib/python3.8/dist-packages/xgboost/core.py:158: UserWarning: [18:19:38] WARNING: /workspace/src/learner.cc:740: \n",
      "Parameters: { \"max_depth\", \"min_child_weight\" } are not used.\n",
      "\n",
      "  warnings.warn(smsg, UserWarning)\n",
      "/usr/local/lib/python3.8/dist-packages/xgboost/core.py:158: UserWarning: [18:19:38] WARNING: /workspace/src/learner.cc:740: \n",
      "Parameters: { \"max_depth\", \"min_child_weight\" } are not used.\n",
      "\n",
      "  warnings.warn(smsg, UserWarning)\n"
     ]
    },
    {
     "name": "stdout",
     "output_type": "stream",
     "text": [
      "[CV 2/5] END base_score=1, booster=gblinear, learning_rate=0.2, max_depth=15, min_child_weight=3, n_estimators=500;, score=(train=-17047.107, test=-21640.432) total time=   1.1s\n"
     ]
    },
    {
     "name": "stderr",
     "output_type": "stream",
     "text": [
      "/usr/local/lib/python3.8/dist-packages/xgboost/core.py:158: UserWarning: [18:19:39] WARNING: /workspace/src/learner.cc:740: \n",
      "Parameters: { \"max_depth\", \"min_child_weight\" } are not used.\n",
      "\n",
      "  warnings.warn(smsg, UserWarning)\n"
     ]
    },
    {
     "name": "stdout",
     "output_type": "stream",
     "text": [
      "[CV 3/5] END base_score=1, booster=gblinear, learning_rate=0.2, max_depth=15, min_child_weight=3, n_estimators=500;, score=(train=-16533.537, test=-22424.621) total time=   1.1s\n",
      "[CV 4/5] END base_score=1, booster=gblinear, learning_rate=0.2, max_depth=15, min_child_weight=3, n_estimators=500;, score=(train=-17562.588, test=-19654.282) total time=   1.1s\n",
      "[CV 1/5] END base_score=0.75, booster=gbtree, learning_rate=0.15, max_depth=2, min_child_weight=3, n_estimators=100;, score=(train=-12741.745, test=-16015.333) total time=   0.3s\n",
      "[CV 2/5] END base_score=0.75, booster=gbtree, learning_rate=0.15, max_depth=2, min_child_weight=3, n_estimators=100;, score=(train=-12728.748, test=-18735.195) total time=   0.3s\n",
      "[CV 5/5] END base_score=1, booster=gblinear, learning_rate=0.2, max_depth=15, min_child_weight=3, n_estimators=500;, score=(train=-15567.086, test=-21510.304) total time=   1.1s\n",
      "[CV 3/5] END base_score=0.75, booster=gbtree, learning_rate=0.15, max_depth=2, min_child_weight=3, n_estimators=100;, score=(train=-13230.527, test=-17151.977) total time=   0.3s\n",
      "[CV 4/5] END base_score=0.75, booster=gbtree, learning_rate=0.15, max_depth=2, min_child_weight=3, n_estimators=100;, score=(train=-13827.828, test=-15488.098) total time=   0.3s\n",
      "[CV 5/5] END base_score=0.75, booster=gbtree, learning_rate=0.15, max_depth=2, min_child_weight=3, n_estimators=100;, score=(train=-12700.075, test=-19039.622) total time=   0.3s\n",
      "[CV 1/5] END base_score=0.5, booster=gbtree, learning_rate=0.2, max_depth=2, min_child_weight=3, n_estimators=500;, score=(train=-6540.341, test=-16040.316) total time=   0.7s\n",
      "[CV 2/5] END base_score=0.5, booster=gbtree, learning_rate=0.2, max_depth=2, min_child_weight=3, n_estimators=500;, score=(train=-6478.271, test=-16953.915) total time=   0.8s\n",
      "[CV 3/5] END base_score=0.5, booster=gbtree, learning_rate=0.2, max_depth=2, min_child_weight=3, n_estimators=500;, score=(train=-6524.974, test=-17419.410) total time=   0.7s\n"
     ]
    },
    {
     "name": "stderr",
     "output_type": "stream",
     "text": [
      "/usr/local/lib/python3.8/dist-packages/xgboost/core.py:158: UserWarning: [18:19:41] WARNING: /workspace/src/learner.cc:740: \n",
      "Parameters: { \"max_depth\", \"min_child_weight\" } are not used.\n",
      "\n",
      "  warnings.warn(smsg, UserWarning)\n"
     ]
    },
    {
     "name": "stdout",
     "output_type": "stream",
     "text": [
      "[CV 4/5] END base_score=0.5, booster=gbtree, learning_rate=0.2, max_depth=2, min_child_weight=3, n_estimators=500;, score=(train=-6658.389, test=-13839.059) total time=   0.7s\n",
      "[CV 5/5] END base_score=0.5, booster=gbtree, learning_rate=0.2, max_depth=2, min_child_weight=3, n_estimators=500;, score=(train=-6243.189, test=-18652.561) total time=   0.7s\n"
     ]
    },
    {
     "name": "stderr",
     "output_type": "stream",
     "text": [
      "/usr/local/lib/python3.8/dist-packages/xgboost/core.py:158: UserWarning: [18:19:41] WARNING: /workspace/src/learner.cc:740: \n",
      "Parameters: { \"max_depth\", \"min_child_weight\" } are not used.\n",
      "\n",
      "  warnings.warn(smsg, UserWarning)\n",
      "/usr/local/lib/python3.8/dist-packages/xgboost/core.py:158: UserWarning: [18:19:42] WARNING: /workspace/src/learner.cc:740: \n",
      "Parameters: { \"max_depth\", \"min_child_weight\" } are not used.\n",
      "\n",
      "  warnings.warn(smsg, UserWarning)\n"
     ]
    },
    {
     "name": "stdout",
     "output_type": "stream",
     "text": [
      "[CV 1/5] END base_score=1, booster=gblinear, learning_rate=0.15, max_depth=2, min_child_weight=3, n_estimators=900;, score=(train=-17744.323, test=-18672.331) total time=   1.9s\n"
     ]
    },
    {
     "name": "stderr",
     "output_type": "stream",
     "text": [
      "/usr/local/lib/python3.8/dist-packages/xgboost/core.py:158: UserWarning: [18:19:43] WARNING: /workspace/src/learner.cc:740: \n",
      "Parameters: { \"max_depth\", \"min_child_weight\" } are not used.\n",
      "\n",
      "  warnings.warn(smsg, UserWarning)\n"
     ]
    },
    {
     "name": "stdout",
     "output_type": "stream",
     "text": [
      "[CV 2/5] END base_score=1, booster=gblinear, learning_rate=0.15, max_depth=2, min_child_weight=3, n_estimators=900;, score=(train=-17022.927, test=-21592.519) total time=   1.8s\n",
      "[CV 3/5] END base_score=1, booster=gblinear, learning_rate=0.15, max_depth=2, min_child_weight=3, n_estimators=900;, score=(train=-16495.737, test=-22381.475) total time=   1.8s\n"
     ]
    },
    {
     "name": "stderr",
     "output_type": "stream",
     "text": [
      "/usr/local/lib/python3.8/dist-packages/xgboost/core.py:158: UserWarning: [18:19:43] WARNING: /workspace/src/learner.cc:740: \n",
      "Parameters: { \"max_depth\", \"min_child_weight\" } are not used.\n",
      "\n",
      "  warnings.warn(smsg, UserWarning)\n"
     ]
    },
    {
     "name": "stdout",
     "output_type": "stream",
     "text": [
      "[CV 4/5] END base_score=1, booster=gblinear, learning_rate=0.15, max_depth=2, min_child_weight=3, n_estimators=900;, score=(train=-17517.022, test=-19823.707) total time=   1.9s\n",
      "[CV 5/5] END base_score=1, booster=gblinear, learning_rate=0.15, max_depth=2, min_child_weight=3, n_estimators=900;, score=(train=-15527.831, test=-21574.968) total time=   1.9s\n",
      "[CV 5/5] END base_score=0.5, booster=gbtree, learning_rate=0.15, max_depth=15, min_child_weight=1, n_estimators=1100;, score=(train=-0.035, test=-19468.122) total time=  19.4s\n",
      "[CV 3/5] END base_score=1, booster=gbtree, learning_rate=0.05, max_depth=15, min_child_weight=2, n_estimators=1100;, score=(train=-0.207, test=-17777.806) total time=  10.6s\n",
      "[CV 1/5] END base_score=1, booster=gbtree, learning_rate=0.05, max_depth=15, min_child_weight=2, n_estimators=1100;, score=(train=-7.416, test=-16101.549) total time=  14.2s\n"
     ]
    },
    {
     "name": "stderr",
     "output_type": "stream",
     "text": [
      "/usr/local/lib/python3.8/dist-packages/xgboost/core.py:158: UserWarning: [18:19:58] WARNING: /workspace/src/learner.cc:740: \n",
      "Parameters: { \"max_depth\", \"min_child_weight\" } are not used.\n",
      "\n",
      "  warnings.warn(smsg, UserWarning)\n"
     ]
    },
    {
     "name": "stdout",
     "output_type": "stream",
     "text": [
      "[CV 1/5] END base_score=0.75, booster=gblinear, learning_rate=0.1, max_depth=3, min_child_weight=2, n_estimators=500;, score=(train=-17887.873, test=-18289.979) total time=   1.1s\n"
     ]
    },
    {
     "name": "stderr",
     "output_type": "stream",
     "text": [
      "/usr/local/lib/python3.8/dist-packages/xgboost/core.py:158: UserWarning: [18:19:59] WARNING: /workspace/src/learner.cc:740: \n",
      "Parameters: { \"max_depth\", \"min_child_weight\" } are not used.\n",
      "\n",
      "  warnings.warn(smsg, UserWarning)\n"
     ]
    },
    {
     "name": "stdout",
     "output_type": "stream",
     "text": [
      "[CV 2/5] END base_score=0.75, booster=gblinear, learning_rate=0.1, max_depth=3, min_child_weight=2, n_estimators=500;, score=(train=-17064.208, test=-21760.717) total time=   1.2s\n"
     ]
    },
    {
     "name": "stderr",
     "output_type": "stream",
     "text": [
      "/usr/local/lib/python3.8/dist-packages/xgboost/core.py:158: UserWarning: [18:20:00] WARNING: /workspace/src/learner.cc:740: \n",
      "Parameters: { \"max_depth\", \"min_child_weight\" } are not used.\n",
      "\n",
      "  warnings.warn(smsg, UserWarning)\n"
     ]
    },
    {
     "name": "stdout",
     "output_type": "stream",
     "text": [
      "[CV 2/5] END base_score=1, booster=gbtree, learning_rate=0.05, max_depth=15, min_child_weight=2, n_estimators=1100;, score=(train=-7.384, test=-17458.576) total time=  16.2s\n"
     ]
    },
    {
     "name": "stderr",
     "output_type": "stream",
     "text": [
      "/usr/local/lib/python3.8/dist-packages/xgboost/core.py:158: UserWarning: [18:20:01] WARNING: /workspace/src/learner.cc:740: \n",
      "Parameters: { \"max_depth\", \"min_child_weight\" } are not used.\n",
      "\n",
      "  warnings.warn(smsg, UserWarning)\n"
     ]
    },
    {
     "name": "stdout",
     "output_type": "stream",
     "text": [
      "[CV 3/5] END base_score=0.75, booster=gblinear, learning_rate=0.1, max_depth=3, min_child_weight=2, n_estimators=500;, score=(train=-16649.141, test=-22546.681) total time=   1.1s\n"
     ]
    },
    {
     "name": "stderr",
     "output_type": "stream",
     "text": [
      "/usr/local/lib/python3.8/dist-packages/xgboost/core.py:158: UserWarning: [18:20:01] WARNING: /workspace/src/learner.cc:740: \n",
      "Parameters: { \"max_depth\", \"min_child_weight\" } are not used.\n",
      "\n",
      "  warnings.warn(smsg, UserWarning)\n"
     ]
    },
    {
     "name": "stdout",
     "output_type": "stream",
     "text": [
      "[CV 4/5] END base_score=0.75, booster=gblinear, learning_rate=0.1, max_depth=3, min_child_weight=2, n_estimators=500;, score=(train=-17698.098, test=-19231.955) total time=   1.2s\n",
      "[CV 5/5] END base_score=0.75, booster=gblinear, learning_rate=0.1, max_depth=3, min_child_weight=2, n_estimators=500;, score=(train=-15692.057, test=-21454.673) total time=   1.1s\n"
     ]
    },
    {
     "name": "stderr",
     "output_type": "stream",
     "text": [
      "/usr/local/lib/python3.8/dist-packages/xgboost/core.py:158: UserWarning: [18:20:02] WARNING: /workspace/src/learner.cc:740: \n",
      "Parameters: { \"max_depth\", \"min_child_weight\" } are not used.\n",
      "\n",
      "  warnings.warn(smsg, UserWarning)\n",
      "/usr/local/lib/python3.8/dist-packages/xgboost/core.py:158: UserWarning: [18:20:03] WARNING: /workspace/src/learner.cc:740: \n",
      "Parameters: { \"max_depth\", \"min_child_weight\" } are not used.\n",
      "\n",
      "  warnings.warn(smsg, UserWarning)\n"
     ]
    },
    {
     "name": "stdout",
     "output_type": "stream",
     "text": [
      "[CV 4/5] END base_score=1, booster=gbtree, learning_rate=0.05, max_depth=15, min_child_weight=2, n_estimators=1100;, score=(train=-7.387, test=-15663.956) total time=  13.8s\n"
     ]
    },
    {
     "name": "stderr",
     "output_type": "stream",
     "text": [
      "/usr/local/lib/python3.8/dist-packages/xgboost/core.py:158: UserWarning: [18:20:03] WARNING: /workspace/src/learner.cc:740: \n",
      "Parameters: { \"max_depth\", \"min_child_weight\" } are not used.\n",
      "\n",
      "  warnings.warn(smsg, UserWarning)\n"
     ]
    },
    {
     "name": "stdout",
     "output_type": "stream",
     "text": [
      "[CV 1/5] END base_score=0.25, booster=gblinear, learning_rate=0.2, max_depth=3, min_child_weight=4, n_estimators=500;, score=(train=-17784.400, test=-18604.137) total time=   1.2s\n",
      "[CV 2/5] END base_score=0.25, booster=gblinear, learning_rate=0.2, max_depth=3, min_child_weight=4, n_estimators=500;, score=(train=-17047.105, test=-21640.429) total time=   1.1s\n"
     ]
    },
    {
     "name": "stderr",
     "output_type": "stream",
     "text": [
      "/usr/local/lib/python3.8/dist-packages/xgboost/core.py:158: UserWarning: [18:20:04] WARNING: /workspace/src/learner.cc:740: \n",
      "Parameters: { \"max_depth\", \"min_child_weight\" } are not used.\n",
      "\n",
      "  warnings.warn(smsg, UserWarning)\n",
      "/usr/local/lib/python3.8/dist-packages/xgboost/core.py:158: UserWarning: [18:20:04] WARNING: /workspace/src/learner.cc:740: \n",
      "Parameters: { \"max_depth\", \"min_child_weight\" } are not used.\n",
      "\n",
      "  warnings.warn(smsg, UserWarning)\n"
     ]
    },
    {
     "name": "stdout",
     "output_type": "stream",
     "text": [
      "[CV 3/5] END base_score=0.25, booster=gblinear, learning_rate=0.2, max_depth=3, min_child_weight=4, n_estimators=500;, score=(train=-16533.537, test=-22424.621) total time=   1.1s\n"
     ]
    },
    {
     "name": "stderr",
     "output_type": "stream",
     "text": [
      "/usr/local/lib/python3.8/dist-packages/xgboost/core.py:158: UserWarning: [18:20:04] WARNING: /workspace/src/learner.cc:740: \n",
      "Parameters: { \"max_depth\", \"min_child_weight\" } are not used.\n",
      "\n",
      "  warnings.warn(smsg, UserWarning)\n"
     ]
    },
    {
     "name": "stdout",
     "output_type": "stream",
     "text": [
      "[CV 4/5] END base_score=0.25, booster=gblinear, learning_rate=0.2, max_depth=3, min_child_weight=4, n_estimators=500;, score=(train=-17562.589, test=-19654.285) total time=   1.1s\n",
      "[CV 5/5] END base_score=0.25, booster=gblinear, learning_rate=0.2, max_depth=3, min_child_weight=4, n_estimators=500;, score=(train=-15567.086, test=-21510.303) total time=   1.1s\n"
     ]
    },
    {
     "name": "stderr",
     "output_type": "stream",
     "text": [
      "/usr/local/lib/python3.8/dist-packages/xgboost/core.py:158: UserWarning: [18:20:05] WARNING: /workspace/src/learner.cc:740: \n",
      "Parameters: { \"max_depth\", \"min_child_weight\" } are not used.\n",
      "\n",
      "  warnings.warn(smsg, UserWarning)\n",
      "/usr/local/lib/python3.8/dist-packages/xgboost/core.py:158: UserWarning: [18:20:05] WARNING: /workspace/src/learner.cc:740: \n",
      "Parameters: { \"max_depth\", \"min_child_weight\" } are not used.\n",
      "\n",
      "  warnings.warn(smsg, UserWarning)\n"
     ]
    },
    {
     "name": "stdout",
     "output_type": "stream",
     "text": [
      "[CV 1/5] END base_score=0.25, booster=gblinear, learning_rate=0.1, max_depth=15, min_child_weight=3, n_estimators=900;, score=(train=-17765.720, test=-18524.250) total time=   1.8s\n"
     ]
    },
    {
     "name": "stderr",
     "output_type": "stream",
     "text": [
      "/usr/local/lib/python3.8/dist-packages/xgboost/core.py:158: UserWarning: [18:20:06] WARNING: /workspace/src/learner.cc:740: \n",
      "Parameters: { \"max_depth\", \"min_child_weight\" } are not used.\n",
      "\n",
      "  warnings.warn(smsg, UserWarning)\n"
     ]
    },
    {
     "name": "stdout",
     "output_type": "stream",
     "text": [
      "[CV 2/5] END base_score=0.25, booster=gblinear, learning_rate=0.1, max_depth=15, min_child_weight=3, n_estimators=900;, score=(train=-17018.717, test=-21688.887) total time=   1.8s\n",
      "[CV 3/5] END base_score=0.25, booster=gblinear, learning_rate=0.1, max_depth=15, min_child_weight=3, n_estimators=900;, score=(train=-16513.069, test=-22373.443) total time=   1.9s\n"
     ]
    },
    {
     "name": "stderr",
     "output_type": "stream",
     "text": [
      "/usr/local/lib/python3.8/dist-packages/xgboost/core.py:158: UserWarning: [18:20:07] WARNING: /workspace/src/learner.cc:740: \n",
      "Parameters: { \"max_depth\", \"min_child_weight\" } are not used.\n",
      "\n",
      "  warnings.warn(smsg, UserWarning)\n",
      "/usr/local/lib/python3.8/dist-packages/xgboost/core.py:158: UserWarning: [18:20:07] WARNING: /workspace/src/learner.cc:740: \n",
      "Parameters: { \"max_depth\", \"min_child_weight\" } are not used.\n",
      "\n",
      "  warnings.warn(smsg, UserWarning)\n"
     ]
    },
    {
     "name": "stdout",
     "output_type": "stream",
     "text": [
      "[CV 4/5] END base_score=0.25, booster=gblinear, learning_rate=0.1, max_depth=15, min_child_weight=3, n_estimators=900;, score=(train=-17549.737, test=-19543.398) total time=   1.9s\n"
     ]
    },
    {
     "name": "stderr",
     "output_type": "stream",
     "text": [
      "/usr/local/lib/python3.8/dist-packages/xgboost/core.py:158: UserWarning: [18:20:08] WARNING: /workspace/src/learner.cc:740: \n",
      "Parameters: { \"max_depth\", \"min_child_weight\" } are not used.\n",
      "\n",
      "  warnings.warn(smsg, UserWarning)\n"
     ]
    },
    {
     "name": "stdout",
     "output_type": "stream",
     "text": [
      "[CV 5/5] END base_score=1, booster=gbtree, learning_rate=0.05, max_depth=15, min_child_weight=2, n_estimators=1100;, score=(train=-0.138, test=-18875.870) total time=  12.1s\n"
     ]
    },
    {
     "name": "stderr",
     "output_type": "stream",
     "text": [
      "/usr/local/lib/python3.8/dist-packages/xgboost/core.py:158: UserWarning: [18:20:08] WARNING: /workspace/src/learner.cc:740: \n",
      "Parameters: { \"max_depth\", \"min_child_weight\" } are not used.\n",
      "\n",
      "  warnings.warn(smsg, UserWarning)\n"
     ]
    },
    {
     "name": "stdout",
     "output_type": "stream",
     "text": [
      "[CV 5/5] END base_score=0.25, booster=gblinear, learning_rate=0.1, max_depth=15, min_child_weight=3, n_estimators=900;, score=(train=-15540.957, test=-21429.582) total time=   1.8s\n"
     ]
    },
    {
     "name": "stderr",
     "output_type": "stream",
     "text": [
      "/usr/local/lib/python3.8/dist-packages/xgboost/core.py:158: UserWarning: [18:20:09] WARNING: /workspace/src/learner.cc:740: \n",
      "Parameters: { \"max_depth\", \"min_child_weight\" } are not used.\n",
      "\n",
      "  warnings.warn(smsg, UserWarning)\n"
     ]
    },
    {
     "name": "stdout",
     "output_type": "stream",
     "text": [
      "[CV 1/5] END base_score=1, booster=gblinear, learning_rate=0.2, max_depth=2, min_child_weight=2, n_estimators=1100;, score=(train=-17699.683, test=-18859.590) total time=   2.2s\n"
     ]
    },
    {
     "name": "stderr",
     "output_type": "stream",
     "text": [
      "/usr/local/lib/python3.8/dist-packages/xgboost/core.py:158: UserWarning: [18:20:09] WARNING: /workspace/src/learner.cc:740: \n",
      "Parameters: { \"max_depth\", \"min_child_weight\" } are not used.\n",
      "\n",
      "  warnings.warn(smsg, UserWarning)\n"
     ]
    },
    {
     "name": "stdout",
     "output_type": "stream",
     "text": [
      "[CV 2/5] END base_score=1, booster=gblinear, learning_rate=0.2, max_depth=2, min_child_weight=2, n_estimators=1100;, score=(train=-16991.455, test=-21488.310) total time=   2.2s\n"
     ]
    },
    {
     "name": "stderr",
     "output_type": "stream",
     "text": [
      "/usr/local/lib/python3.8/dist-packages/xgboost/core.py:158: UserWarning: [18:20:10] WARNING: /workspace/src/learner.cc:740: \n",
      "Parameters: { \"max_depth\", \"min_child_weight\" } are not used.\n",
      "\n",
      "  warnings.warn(smsg, UserWarning)\n"
     ]
    },
    {
     "name": "stdout",
     "output_type": "stream",
     "text": [
      "[CV 3/5] END base_score=1, booster=gblinear, learning_rate=0.2, max_depth=2, min_child_weight=2, n_estimators=1100;, score=(train=-16461.068, test=-22426.668) total time=   2.3s\n"
     ]
    },
    {
     "name": "stderr",
     "output_type": "stream",
     "text": [
      "/usr/local/lib/python3.8/dist-packages/xgboost/core.py:158: UserWarning: [18:20:11] WARNING: /workspace/src/learner.cc:740: \n",
      "Parameters: { \"max_depth\", \"min_child_weight\" } are not used.\n",
      "\n",
      "  warnings.warn(smsg, UserWarning)\n"
     ]
    },
    {
     "name": "stdout",
     "output_type": "stream",
     "text": [
      "[CV 4/5] END base_score=1, booster=gblinear, learning_rate=0.2, max_depth=2, min_child_weight=2, n_estimators=1100;, score=(train=-17462.660, test=-20092.687) total time=   2.2s\n"
     ]
    },
    {
     "name": "stderr",
     "output_type": "stream",
     "text": [
      "/usr/local/lib/python3.8/dist-packages/xgboost/core.py:158: UserWarning: [18:20:11] WARNING: /workspace/src/learner.cc:740: \n",
      "Parameters: { \"max_depth\", \"min_child_weight\" } are not used.\n",
      "\n",
      "  warnings.warn(smsg, UserWarning)\n"
     ]
    },
    {
     "name": "stdout",
     "output_type": "stream",
     "text": [
      "[CV 5/5] END base_score=1, booster=gblinear, learning_rate=0.2, max_depth=2, min_child_weight=2, n_estimators=1100;, score=(train=-15528.076, test=-21756.211) total time=   2.2s\n"
     ]
    },
    {
     "name": "stderr",
     "output_type": "stream",
     "text": [
      "/usr/local/lib/python3.8/dist-packages/xgboost/core.py:158: UserWarning: [18:20:11] WARNING: /workspace/src/learner.cc:740: \n",
      "Parameters: { \"max_depth\", \"min_child_weight\" } are not used.\n",
      "\n",
      "  warnings.warn(smsg, UserWarning)\n"
     ]
    },
    {
     "name": "stdout",
     "output_type": "stream",
     "text": [
      "[CV 1/5] END base_score=1, booster=gblinear, learning_rate=0.2, max_depth=15, min_child_weight=2, n_estimators=1100;, score=(train=-17699.683, test=-18859.590) total time=   2.2s\n"
     ]
    },
    {
     "name": "stderr",
     "output_type": "stream",
     "text": [
      "/usr/local/lib/python3.8/dist-packages/xgboost/core.py:158: UserWarning: [18:20:13] WARNING: /workspace/src/learner.cc:740: \n",
      "Parameters: { \"max_depth\", \"min_child_weight\" } are not used.\n",
      "\n",
      "  warnings.warn(smsg, UserWarning)\n"
     ]
    },
    {
     "name": "stdout",
     "output_type": "stream",
     "text": [
      "[CV 2/5] END base_score=1, booster=gblinear, learning_rate=0.2, max_depth=15, min_child_weight=2, n_estimators=1100;, score=(train=-16991.455, test=-21488.310) total time=   2.3s\n"
     ]
    },
    {
     "name": "stderr",
     "output_type": "stream",
     "text": [
      "/usr/local/lib/python3.8/dist-packages/xgboost/core.py:158: UserWarning: [18:20:13] WARNING: /workspace/src/learner.cc:740: \n",
      "Parameters: { \"max_depth\", \"min_child_weight\" } are not used.\n",
      "\n",
      "  warnings.warn(smsg, UserWarning)\n"
     ]
    },
    {
     "name": "stdout",
     "output_type": "stream",
     "text": [
      "[CV 3/5] END base_score=1, booster=gblinear, learning_rate=0.2, max_depth=15, min_child_weight=2, n_estimators=1100;, score=(train=-16461.068, test=-22426.668) total time=   2.3s\n"
     ]
    },
    {
     "name": "stderr",
     "output_type": "stream",
     "text": [
      "/usr/local/lib/python3.8/dist-packages/xgboost/core.py:158: UserWarning: [18:20:13] WARNING: /workspace/src/learner.cc:740: \n",
      "Parameters: { \"max_depth\", \"min_child_weight\" } are not used.\n",
      "\n",
      "  warnings.warn(smsg, UserWarning)\n"
     ]
    },
    {
     "name": "stdout",
     "output_type": "stream",
     "text": [
      "[CV 4/5] END base_score=1, booster=gblinear, learning_rate=0.2, max_depth=15, min_child_weight=2, n_estimators=1100;, score=(train=-17462.660, test=-20092.687) total time=   2.1s\n"
     ]
    },
    {
     "name": "stderr",
     "output_type": "stream",
     "text": [
      "/usr/local/lib/python3.8/dist-packages/xgboost/core.py:158: UserWarning: [18:20:14] WARNING: /workspace/src/learner.cc:740: \n",
      "Parameters: { \"max_depth\", \"min_child_weight\" } are not used.\n",
      "\n",
      "  warnings.warn(smsg, UserWarning)\n"
     ]
    },
    {
     "name": "stdout",
     "output_type": "stream",
     "text": [
      "[CV 1/5] END base_score=0.5, booster=gblinear, learning_rate=0.2, max_depth=15, min_child_weight=4, n_estimators=500;, score=(train=-17784.405, test=-18604.141) total time=   1.1s\n"
     ]
    },
    {
     "name": "stderr",
     "output_type": "stream",
     "text": [
      "/usr/local/lib/python3.8/dist-packages/xgboost/core.py:158: UserWarning: [18:20:14] WARNING: /workspace/src/learner.cc:740: \n",
      "Parameters: { \"max_depth\", \"min_child_weight\" } are not used.\n",
      "\n",
      "  warnings.warn(smsg, UserWarning)\n"
     ]
    },
    {
     "name": "stdout",
     "output_type": "stream",
     "text": [
      "[CV 2/5] END base_score=0.5, booster=gblinear, learning_rate=0.2, max_depth=15, min_child_weight=4, n_estimators=500;, score=(train=-17047.103, test=-21640.423) total time=   1.1s\n"
     ]
    },
    {
     "name": "stderr",
     "output_type": "stream",
     "text": [
      "/usr/local/lib/python3.8/dist-packages/xgboost/core.py:158: UserWarning: [18:20:14] WARNING: /workspace/src/learner.cc:740: \n",
      "Parameters: { \"max_depth\", \"min_child_weight\" } are not used.\n",
      "\n",
      "  warnings.warn(smsg, UserWarning)\n"
     ]
    },
    {
     "name": "stdout",
     "output_type": "stream",
     "text": [
      "[CV 5/5] END base_score=1, booster=gblinear, learning_rate=0.2, max_depth=15, min_child_weight=2, n_estimators=1100;, score=(train=-15528.076, test=-21756.211) total time=   2.2s\n",
      "[CV 3/5] END base_score=0.5, booster=gblinear, learning_rate=0.2, max_depth=15, min_child_weight=4, n_estimators=500;, score=(train=-16533.535, test=-22424.623) total time=   1.1s\n",
      "[CV 4/5] END base_score=0.5, booster=gblinear, learning_rate=0.2, max_depth=15, min_child_weight=4, n_estimators=500;, score=(train=-17562.590, test=-19654.287) total time=   1.2s\n",
      "[CV 5/5] END base_score=0.5, booster=gblinear, learning_rate=0.2, max_depth=15, min_child_weight=4, n_estimators=500;, score=(train=-15567.087, test=-21510.303) total time=   1.1s\n",
      "[CV 1/5] END base_score=0.75, booster=gbtree, learning_rate=0.1, max_depth=5, min_child_weight=2, n_estimators=500;, score=(train=-856.261, test=-15733.944) total time=   1.3s\n",
      "[CV 2/5] END base_score=0.75, booster=gbtree, learning_rate=0.1, max_depth=5, min_child_weight=2, n_estimators=500;, score=(train=-816.416, test=-17050.646) total time=   1.3s\n"
     ]
    },
    {
     "name": "stderr",
     "output_type": "stream",
     "text": [
      "/usr/local/lib/python3.8/dist-packages/xgboost/core.py:158: UserWarning: [18:20:16] WARNING: /workspace/src/learner.cc:740: \n",
      "Parameters: { \"max_depth\", \"min_child_weight\" } are not used.\n",
      "\n",
      "  warnings.warn(smsg, UserWarning)\n"
     ]
    },
    {
     "name": "stdout",
     "output_type": "stream",
     "text": [
      "[CV 3/5] END base_score=0.75, booster=gbtree, learning_rate=0.1, max_depth=5, min_child_weight=2, n_estimators=500;, score=(train=-851.284, test=-17344.068) total time=   1.5s\n",
      "[CV 4/5] END base_score=0.75, booster=gbtree, learning_rate=0.1, max_depth=5, min_child_weight=2, n_estimators=500;, score=(train=-797.266, test=-13998.787) total time=   1.4s\n"
     ]
    },
    {
     "name": "stderr",
     "output_type": "stream",
     "text": [
      "/usr/local/lib/python3.8/dist-packages/xgboost/core.py:158: UserWarning: [18:20:17] WARNING: /workspace/src/learner.cc:740: \n",
      "Parameters: { \"max_depth\", \"min_child_weight\" } are not used.\n",
      "\n",
      "  warnings.warn(smsg, UserWarning)\n",
      "/usr/local/lib/python3.8/dist-packages/xgboost/core.py:158: UserWarning: [18:20:17] WARNING: /workspace/src/learner.cc:740: \n",
      "Parameters: { \"max_depth\", \"min_child_weight\" } are not used.\n",
      "\n",
      "  warnings.warn(smsg, UserWarning)\n"
     ]
    },
    {
     "name": "stdout",
     "output_type": "stream",
     "text": [
      "[CV 5/5] END base_score=0.75, booster=gbtree, learning_rate=0.1, max_depth=5, min_child_weight=2, n_estimators=500;, score=(train=-938.772, test=-17786.216) total time=   1.5s\n",
      "[CV 1/5] END base_score=0.5, booster=gblinear, learning_rate=0.05, max_depth=15, min_child_weight=1, n_estimators=500;, score=(train=-18207.760, test=-18414.584) total time=   1.4s\n"
     ]
    },
    {
     "name": "stderr",
     "output_type": "stream",
     "text": [
      "/usr/local/lib/python3.8/dist-packages/xgboost/core.py:158: UserWarning: [18:20:18] WARNING: /workspace/src/learner.cc:740: \n",
      "Parameters: { \"max_depth\", \"min_child_weight\" } are not used.\n",
      "\n",
      "  warnings.warn(smsg, UserWarning)\n",
      "/usr/local/lib/python3.8/dist-packages/xgboost/core.py:158: UserWarning: [18:20:18] WARNING: /workspace/src/learner.cc:740: \n",
      "Parameters: { \"max_depth\", \"min_child_weight\" } are not used.\n",
      "\n",
      "  warnings.warn(smsg, UserWarning)\n"
     ]
    },
    {
     "name": "stdout",
     "output_type": "stream",
     "text": [
      "[CV 3/5] END base_score=0.5, booster=gblinear, learning_rate=0.05, max_depth=15, min_child_weight=1, n_estimators=500;, score=(train=-17045.701, test=-22923.689) total time=   1.1s\n",
      "[CV 2/5] END base_score=0.5, booster=gblinear, learning_rate=0.05, max_depth=15, min_child_weight=1, n_estimators=500;, score=(train=-17402.864, test=-22090.081) total time=   1.2s\n",
      "[CV 4/5] END base_score=0.5, booster=gblinear, learning_rate=0.05, max_depth=15, min_child_weight=1, n_estimators=500;, score=(train=-18081.806, test=-19184.650) total time=   1.1s\n",
      "[CV 5/5] END base_score=0.5, booster=gblinear, learning_rate=0.05, max_depth=15, min_child_weight=1, n_estimators=500;, score=(train=-16177.927, test=-21903.798) total time=   1.3s\n",
      "[CV 1/5] END base_score=0.25, booster=gbtree, learning_rate=0.05, max_depth=10, min_child_weight=2, n_estimators=1100;, score=(train=-7.607, test=-16153.436) total time=   9.7s\n",
      "[CV 3/5] END base_score=0.25, booster=gbtree, learning_rate=0.05, max_depth=10, min_child_weight=2, n_estimators=1100;, score=(train=-0.286, test=-17333.429) total time=  10.1s\n",
      "[CV 4/5] END base_score=0.25, booster=gbtree, learning_rate=0.05, max_depth=10, min_child_weight=2, n_estimators=1100;, score=(train=-7.541, test=-15325.027) total time=  10.0s\n",
      "[CV 2/5] END base_score=0.25, booster=gbtree, learning_rate=0.05, max_depth=10, min_child_weight=2, n_estimators=1100;, score=(train=-7.496, test=-17630.105) total time=  11.7s\n",
      "[CV 2/5] END base_score=0.25, booster=gbtree, learning_rate=0.1, max_depth=5, min_child_weight=1, n_estimators=900;, score=(train=-171.157, test=-16967.332) total time=   2.6s\n",
      "[CV 1/5] END base_score=0.25, booster=gbtree, learning_rate=0.1, max_depth=5, min_child_weight=1, n_estimators=900;, score=(train=-173.848, test=-15814.188) total time=   2.7s\n",
      "[CV 3/5] END base_score=0.25, booster=gbtree, learning_rate=0.1, max_depth=5, min_child_weight=1, n_estimators=900;, score=(train=-217.722, test=-17482.095) total time=   2.4s\n"
     ]
    },
    {
     "name": "stderr",
     "output_type": "stream",
     "text": [
      "/usr/local/lib/python3.8/dist-packages/xgboost/core.py:158: UserWarning: [18:20:33] WARNING: /workspace/src/learner.cc:740: \n",
      "Parameters: { \"max_depth\", \"min_child_weight\" } are not used.\n",
      "\n",
      "  warnings.warn(smsg, UserWarning)\n"
     ]
    },
    {
     "name": "stdout",
     "output_type": "stream",
     "text": [
      "[CV 1/5] END base_score=0.75, booster=gblinear, learning_rate=0.15, max_depth=3, min_child_weight=2, n_estimators=900;, score=(train=-17744.322, test=-18672.333) total time=   1.8s\n",
      "[CV 4/5] END base_score=0.25, booster=gbtree, learning_rate=0.1, max_depth=5, min_child_weight=1, n_estimators=900;, score=(train=-168.399, test=-13742.727) total time=   2.4s\n",
      "[CV 5/5] END base_score=0.25, booster=gbtree, learning_rate=0.1, max_depth=5, min_child_weight=1, n_estimators=900;, score=(train=-220.623, test=-18108.676) total time=   2.5s\n"
     ]
    },
    {
     "name": "stderr",
     "output_type": "stream",
     "text": [
      "/usr/local/lib/python3.8/dist-packages/xgboost/core.py:158: UserWarning: [18:20:34] WARNING: /workspace/src/learner.cc:740: \n",
      "Parameters: { \"max_depth\", \"min_child_weight\" } are not used.\n",
      "\n",
      "  warnings.warn(smsg, UserWarning)\n",
      "/usr/local/lib/python3.8/dist-packages/xgboost/core.py:158: UserWarning: [18:20:35] WARNING: /workspace/src/learner.cc:740: \n",
      "Parameters: { \"max_depth\", \"min_child_weight\" } are not used.\n",
      "\n",
      "  warnings.warn(smsg, UserWarning)\n",
      "/usr/local/lib/python3.8/dist-packages/xgboost/core.py:158: UserWarning: [18:20:35] WARNING: /workspace/src/learner.cc:740: \n",
      "Parameters: { \"max_depth\", \"min_child_weight\" } are not used.\n",
      "\n",
      "  warnings.warn(smsg, UserWarning)\n"
     ]
    },
    {
     "name": "stdout",
     "output_type": "stream",
     "text": [
      "[CV 2/5] END base_score=0.75, booster=gblinear, learning_rate=0.15, max_depth=3, min_child_weight=2, n_estimators=900;, score=(train=-17022.929, test=-21592.518) total time=   1.8s\n",
      "[CV 3/5] END base_score=0.75, booster=gblinear, learning_rate=0.15, max_depth=3, min_child_weight=2, n_estimators=900;, score=(train=-16495.739, test=-22381.472) total time=   1.9s\n"
     ]
    },
    {
     "name": "stderr",
     "output_type": "stream",
     "text": [
      "/usr/local/lib/python3.8/dist-packages/xgboost/core.py:158: UserWarning: [18:20:36] WARNING: /workspace/src/learner.cc:740: \n",
      "Parameters: { \"max_depth\", \"min_child_weight\" } are not used.\n",
      "\n",
      "  warnings.warn(smsg, UserWarning)\n"
     ]
    },
    {
     "name": "stdout",
     "output_type": "stream",
     "text": [
      "[CV 4/5] END base_score=0.75, booster=gblinear, learning_rate=0.15, max_depth=3, min_child_weight=2, n_estimators=900;, score=(train=-17517.025, test=-19823.710) total time=   1.9s\n",
      "[CV 5/5] END base_score=0.25, booster=gbtree, learning_rate=0.05, max_depth=10, min_child_weight=2, n_estimators=1100;, score=(train=-0.439, test=-18523.195) total time=  10.0s\n",
      "[CV 5/5] END base_score=0.75, booster=gblinear, learning_rate=0.15, max_depth=3, min_child_weight=2, n_estimators=900;, score=(train=-15527.830, test=-21574.971) total time=   2.1s\n",
      "[CV 1/5] END base_score=0.75, booster=gbtree, learning_rate=0.05, max_depth=10, min_child_weight=1, n_estimators=500;, score=(train=-43.745, test=-16682.488) total time=   5.7s\n",
      "[CV 2/5] END base_score=0.75, booster=gbtree, learning_rate=0.05, max_depth=10, min_child_weight=1, n_estimators=500;, score=(train=-39.674, test=-17275.965) total time=   5.8s\n",
      "[CV 3/5] END base_score=0.75, booster=gbtree, learning_rate=0.05, max_depth=10, min_child_weight=1, n_estimators=500;, score=(train=-53.738, test=-18330.693) total time=   5.1s\n",
      "[CV 1/5] END base_score=0.5, booster=gbtree, learning_rate=0.05, max_depth=5, min_child_weight=4, n_estimators=500;, score=(train=-3028.155, test=-15436.606) total time=   1.2s\n",
      "[CV 4/5] END base_score=0.75, booster=gbtree, learning_rate=0.05, max_depth=10, min_child_weight=1, n_estimators=500;, score=(train=-49.437, test=-15233.361) total time=   5.8s\n",
      "[CV 2/5] END base_score=0.5, booster=gbtree, learning_rate=0.05, max_depth=5, min_child_weight=4, n_estimators=500;, score=(train=-2871.505, test=-16952.613) total time=   1.3s\n",
      "[CV 3/5] END base_score=0.5, booster=gbtree, learning_rate=0.05, max_depth=5, min_child_weight=4, n_estimators=500;, score=(train=-2730.697, test=-16464.569) total time=   1.3s\n",
      "[CV 4/5] END base_score=0.5, booster=gbtree, learning_rate=0.05, max_depth=5, min_child_weight=4, n_estimators=500;, score=(train=-3256.313, test=-13594.323) total time=   1.3s\n",
      "[CV 5/5] END base_score=0.5, booster=gbtree, learning_rate=0.05, max_depth=5, min_child_weight=4, n_estimators=500;, score=(train=-3260.596, test=-18222.727) total time=   1.5s\n",
      "[CV 1/5] END base_score=0.25, booster=gbtree, learning_rate=0.1, max_depth=2, min_child_weight=1, n_estimators=1100;, score=(train=-6569.240, test=-15543.791) total time=   1.3s\n",
      "[CV 2/5] END base_score=0.25, booster=gbtree, learning_rate=0.1, max_depth=2, min_child_weight=1, n_estimators=1100;, score=(train=-6246.516, test=-16714.539) total time=   1.4s\n",
      "[CV 5/5] END base_score=0.75, booster=gbtree, learning_rate=0.05, max_depth=10, min_child_weight=1, n_estimators=500;, score=(train=-40.990, test=-19056.127) total time=   5.2s\n",
      "[CV 4/5] END base_score=0.25, booster=gbtree, learning_rate=0.1, max_depth=2, min_child_weight=1, n_estimators=1100;, score=(train=-6789.735, test=-14014.811) total time=   1.3s\n",
      "[CV 3/5] END base_score=0.25, booster=gbtree, learning_rate=0.1, max_depth=2, min_child_weight=1, n_estimators=1100;, score=(train=-6253.813, test=-16259.921) total time=   1.5s\n",
      "[CV 5/5] END base_score=0.25, booster=gbtree, learning_rate=0.1, max_depth=2, min_child_weight=1, n_estimators=1100;, score=(train=-6189.186, test=-16646.351) total time=   1.4s\n",
      "[CV 1/5] END base_score=0.25, booster=gbtree, learning_rate=0.15, max_depth=5, min_child_weight=4, n_estimators=1500;, score=(train=-8.798, test=-16726.910) total time=   3.5s\n",
      "[CV 2/5] END base_score=0.25, booster=gbtree, learning_rate=0.15, max_depth=5, min_child_weight=4, n_estimators=1500;, score=(train=-9.126, test=-17804.128) total time=   3.5s\n",
      "[CV 3/5] END base_score=0.25, booster=gbtree, learning_rate=0.15, max_depth=5, min_child_weight=4, n_estimators=1500;, score=(train=-2.806, test=-17424.538) total time=   3.5s\n",
      "[CV 4/5] END base_score=0.25, booster=gbtree, learning_rate=0.15, max_depth=5, min_child_weight=4, n_estimators=1500;, score=(train=-8.772, test=-14103.768) total time=   3.7s\n",
      "[CV 1/5] END base_score=0.75, booster=gbtree, learning_rate=0.15, max_depth=2, min_child_weight=2, n_estimators=1500;, score=(train=-3828.682, test=-15787.247) total time=   1.8s\n",
      "[CV 2/5] END base_score=0.75, booster=gbtree, learning_rate=0.15, max_depth=2, min_child_weight=2, n_estimators=1500;, score=(train=-3505.002, test=-17532.618) total time=   2.0s\n",
      "[CV 3/5] END base_score=0.75, booster=gbtree, learning_rate=0.15, max_depth=2, min_child_weight=2, n_estimators=1500;, score=(train=-3571.642, test=-16922.146) total time=   1.8s\n",
      "[CV 5/5] END base_score=0.25, booster=gbtree, learning_rate=0.15, max_depth=5, min_child_weight=4, n_estimators=1500;, score=(train=-1.541, test=-18005.227) total time=   3.4s\n",
      "[CV 4/5] END base_score=0.75, booster=gbtree, learning_rate=0.15, max_depth=2, min_child_weight=2, n_estimators=1500;, score=(train=-3881.022, test=-14171.816) total time=   1.7s\n",
      "[CV 5/5] END base_score=0.75, booster=gbtree, learning_rate=0.15, max_depth=2, min_child_weight=2, n_estimators=1500;, score=(train=-3598.478, test=-18035.459) total time=   2.0s\n"
     ]
    },
    {
     "name": "stderr",
     "output_type": "stream",
     "text": [
      "/usr/local/lib/python3.8/dist-packages/xgboost/core.py:158: UserWarning: [18:20:59] WARNING: /workspace/src/c_api/c_api.cc:1374: Saving model in the UBJSON format as default.  You can use file extension: `json`, `ubj` or `deprecated` to choose between formats.\n",
      "  warnings.warn(smsg, UserWarning)\n",
      "2024/11/15 18:21:01 WARNING mlflow.models.model: Model logged without a signature and input example. Please set `input_example` parameter when logging the model to auto infer the model signature.\n",
      "Registered model 'house_price_prediction_model' already exists. Creating a new version of this model...\n",
      "2024/11/15 18:21:02 INFO mlflow.store.model_registry.abstract_store: Waiting up to 300 seconds for model version to finish creation. Model name: house_price_prediction_model, version 9\n",
      "Created version '9' of model 'house_price_prediction_model'.\n",
      "2024/11/15 18:21:02 INFO mlflow.tracking._tracking_service.client: 🏃 View run model_training at: http://localhost:5000/#/experiments/2/runs/92e882e5a7a74f41a12fc3c0e74ce82d.\n",
      "2024/11/15 18:21:02 INFO mlflow.tracking._tracking_service.client: 🧪 View experiment at: http://localhost:5000/#/experiments/2.\n"
     ]
    },
    {
     "name": "stdout",
     "output_type": "stream",
     "text": [
      "Best score: -15835.882561378414\n",
      "Best parameters: {'n_estimators': 1100, 'min_child_weight': 1, 'max_depth': 2, 'learning_rate': 0.1, 'booster': 'gbtree', 'base_score': 0.25}\n"
     ]
    },
    {
     "data": {
      "image/png": "[encoded data removed]",
      "text/plain": [
       "<Figure size 1000x600 with 1 Axes>"
      ]
     },
     "metadata": {},
     "output_type": "display_data"
    }
   ],
   "source": [
    "# Keep the RandomizedSearchCV setup\n",
    "from sklearn.model_selection import RandomizedSearchCV\n",
    "random_cv = RandomizedSearchCV(estimator=regressor,\n",
    "            param_distributions=hyperparameter_grid,\n",
    "            cv=5, n_iter=50,\n",
    "            scoring = 'neg_mean_absolute_error',n_jobs = 4,\n",
    "            verbose = 5, \n",
    "            return_train_score = True,\n",
    "            random_state=2)\n",
    "\n",
    "# Add these evaluation functions\n",
    "def evaluate_model(model, X, y):\n",
    "    predictions = model.predict(X)\n",
    "    mse = mean_squared_error(y, predictions)\n",
    "    mae = mean_absolute_error(y, predictions)\n",
    "    r2 = r2_score(y, predictions)\n",
    "    return {\"mse\": mse, \"mae\": mae, \"r2\": r2, \"rmse\": np.sqrt(mse)}\n",
    "\n",
    "# Then wrap the training process with MLflow\n",
    "with mlflow.start_run(run_name=\"model_training\") as run:\n",
    "    # Log hyperparameter search space\n",
    "    mlflow.log_dict(hyperparameter_grid, \"hyperparameter_grid.json\")\n",
    "    \n",
    "    # Perform RandomizedSearchCV\n",
    "    random_cv.fit(X_train, y_train)\n",
    "    \n",
    "    # Log best parameters\n",
    "    mlflow.log_params(random_cv.best_params_)\n",
    "    \n",
    "    # Log cross-validation results\n",
    "    cv_results = {\n",
    "        \"mean_test_score\": random_cv.cv_results_['mean_test_score'],\n",
    "        \"std_test_score\": random_cv.cv_results_['std_test_score'],\n",
    "        \"mean_train_score\": random_cv.cv_results_['mean_train_score'],\n",
    "        \"std_train_score\": random_cv.cv_results_['std_train_score']\n",
    "    }\n",
    "    mlflow.log_dict(cv_results, \"cv_results.json\")\n",
    "    \n",
    "    # Log best model metrics\n",
    "    best_model = random_cv.best_estimator_\n",
    "    train_metrics = evaluate_model(best_model, X_train, y_train)\n",
    "    mlflow.log_metrics(train_metrics)\n",
    "    \n",
    "    # Log feature importance plot\n",
    "    feature_importance = pd.DataFrame({\n",
    "        'feature': X_train.columns,\n",
    "        'importance': best_model.feature_importances_\n",
    "    }).sort_values('importance', ascending=False)\n",
    "    \n",
    "    plt.figure(figsize=(10, 6))\n",
    "    plt.bar(feature_importance['feature'][:10], feature_importance['importance'][:10])\n",
    "    plt.xticks(rotation=45)\n",
    "    plt.title('Top 10 Feature Importance')\n",
    "    plt.tight_layout()\n",
    "    mlflow.log_figure(plt.gcf(), \"feature_importance.png\")\n",
    "    \n",
    "    # Log the model\n",
    "    mlflow.xgboost.log_model(best_model, \"model\",\n",
    "                            registered_model_name=\"house_price_prediction_model\")\n",
    "\n",
    "    # Print best score and parameters\n",
    "    print(f\"Best score: {random_cv.best_score_}\")\n",
    "    print(f\"Best parameters: {random_cv.best_params_}\")"
   ]
  },
  {
   "cell_type": "code",
   "execution_count": 123,
   "metadata": {
    "execution": {
     "iopub.execute_input": "2020-08-29T22:42:51.934358Z",
     "iopub.status.busy": "2020-08-29T22:42:51.933434Z",
     "iopub.status.idle": "2020-08-29T22:42:51.935663Z",
     "shell.execute_reply": "2020-08-29T22:42:51.936543Z"
    },
    "papermill": {
     "duration": 0.039424,
     "end_time": "2020-08-29T22:42:51.936734",
     "exception": false,
     "start_time": "2020-08-29T22:42:51.897310",
     "status": "completed"
    },
    "tags": []
   },
   "outputs": [],
   "source": [
    "regressor=xgboost.XGBRegressor(base_score=0.25, booster='gbtree', colsample_bylevel=1,\n",
    "       colsample_bytree=1, gamma=0, learning_rate=0.1, max_delta_step=0,\n",
    "       max_depth=2, min_child_weight=1, missing=np.nan, n_estimators=900,\n",
    "       n_jobs=1, nthread=None, objective='reg:linear', random_state=0,\n",
    "       reg_alpha=0, reg_lambda=1, scale_pos_weight=1, seed=None,\n",
    "       silent=True, subsample=1)"
   ]
  },
  {
   "cell_type": "code",
   "execution_count": 124,
   "metadata": {
    "execution": {
     "iopub.execute_input": "2020-08-29T22:42:51.994245Z",
     "iopub.status.busy": "2020-08-29T22:42:51.993329Z",
     "iopub.status.idle": "2020-08-29T22:42:57.156280Z",
     "shell.execute_reply": "2020-08-29T22:42:57.155498Z"
    },
    "papermill": {
     "duration": 5.194099,
     "end_time": "2020-08-29T22:42:57.156413",
     "exception": false,
     "start_time": "2020-08-29T22:42:51.962314",
     "status": "completed"
    },
    "tags": []
   },
   "outputs": [
    {
     "name": "stderr",
     "output_type": "stream",
     "text": [
      "/usr/local/lib/python3.8/dist-packages/xgboost/core.py:158: UserWarning: [18:21:03] WARNING: /workspace/src/objective/regression_obj.cu:227: reg:linear is now deprecated in favor of reg:squarederror.\n",
      "  warnings.warn(smsg, UserWarning)\n",
      "/usr/local/lib/python3.8/dist-packages/xgboost/core.py:158: UserWarning: [18:21:03] WARNING: /workspace/src/learner.cc:740: \n",
      "Parameters: { \"silent\" } are not used.\n",
      "\n",
      "  warnings.warn(smsg, UserWarning)\n"
     ]
    },
    {
     "data": {
      "text/html": [
       "<style>#sk-container-id-2 {color: black;}#sk-container-id-2 pre{padding: 0;}#sk-container-id-2 div.sk-toggleable {background-color: white;}#sk-container-id-2 label.sk-toggleable__label {cursor: pointer;display: block;width: 100%;margin-bottom: 0;padding: 0.3em;box-sizing: border-box;text-align: center;}#sk-container-id-2 label.sk-toggleable__label-arrow:before {content: \"▸\";float: left;margin-right: 0.25em;color: #696969;}#sk-container-id-2 label.sk-toggleable__label-arrow:hover:before {color: black;}#sk-container-id-2 div.sk-estimator:hover label.sk-toggleable__label-arrow:before {color: black;}#sk-container-id-2 div.sk-toggleable__content {max-height: 0;max-width: 0;overflow: hidden;text-align: left;background-color: #f0f8ff;}#sk-container-id-2 div.sk-toggleable__content pre {margin: 0.2em;color: black;border-radius: 0.25em;background-color: #f0f8ff;}#sk-container-id-2 input.sk-toggleable__control:checked~div.sk-toggleable__content {max-height: 200px;max-width: 100%;overflow: auto;}#sk-container-id-2 input.sk-toggleable__control:checked~label.sk-toggleable__label-arrow:before {content: \"▾\";}#sk-container-id-2 div.sk-estimator input.sk-toggleable__control:checked~label.sk-toggleable__label {background-color: #d4ebff;}#sk-container-id-2 div.sk-label input.sk-toggleable__control:checked~label.sk-toggleable__label {background-color: #d4ebff;}#sk-container-id-2 input.sk-hidden--visually {border: 0;clip: rect(1px 1px 1px 1px);clip: rect(1px, 1px, 1px, 1px);height: 1px;margin: -1px;overflow: hidden;padding: 0;position: absolute;width: 1px;}#sk-container-id-2 div.sk-estimator {font-family: monospace;background-color: #f0f8ff;border: 1px dotted black;border-radius: 0.25em;box-sizing: border-box;margin-bottom: 0.5em;}#sk-container-id-2 div.sk-estimator:hover {background-color: #d4ebff;}#sk-container-id-2 div.sk-parallel-item::after {content: \"\";width: 100%;border-bottom: 1px solid gray;flex-grow: 1;}#sk-container-id-2 div.sk-label:hover label.sk-toggleable__label {background-color: #d4ebff;}#sk-container-id-2 div.sk-serial::before {content: \"\";position: absolute;border-left: 1px solid gray;box-sizing: border-box;top: 0;bottom: 0;left: 50%;z-index: 0;}#sk-container-id-2 div.sk-serial {display: flex;flex-direction: column;align-items: center;background-color: white;padding-right: 0.2em;padding-left: 0.2em;position: relative;}#sk-container-id-2 div.sk-item {position: relative;z-index: 1;}#sk-container-id-2 div.sk-parallel {display: flex;align-items: stretch;justify-content: center;background-color: white;position: relative;}#sk-container-id-2 div.sk-item::before, #sk-container-id-2 div.sk-parallel-item::before {content: \"\";position: absolute;border-left: 1px solid gray;box-sizing: border-box;top: 0;bottom: 0;left: 50%;z-index: -1;}#sk-container-id-2 div.sk-parallel-item {display: flex;flex-direction: column;z-index: 1;position: relative;background-color: white;}#sk-container-id-2 div.sk-parallel-item:first-child::after {align-self: flex-end;width: 50%;}#sk-container-id-2 div.sk-parallel-item:last-child::after {align-self: flex-start;width: 50%;}#sk-container-id-2 div.sk-parallel-item:only-child::after {width: 0;}#sk-container-id-2 div.sk-dashed-wrapped {border: 1px dashed gray;margin: 0 0.4em 0.5em 0.4em;box-sizing: border-box;padding-bottom: 0.4em;background-color: white;}#sk-container-id-2 div.sk-label label {font-family: monospace;font-weight: bold;display: inline-block;line-height: 1.2em;}#sk-container-id-2 div.sk-label-container {text-align: center;}#sk-container-id-2 div.sk-container {/* jupyter's `normalize.less` sets `[hidden] { display: none; }` but bootstrap.min.css set `[hidden] { display: none !important; }` so we also need the `!important` here to be able to override the default hidden behavior on the sphinx rendered scikit-learn.org. See: https://github.com/scikit-learn/scikit-learn/issues/21755 */display: inline-block !important;position: relative;}#sk-container-id-2 div.sk-text-repr-fallback {display: none;}</style><div id=\"sk-container-id-2\" class=\"sk-top-container\"><div class=\"sk-text-repr-fallback\"><pre>XGBRegressor(base_score=0.25, booster=&#x27;gbtree&#x27;, callbacks=None,\n",
       "             colsample_bylevel=1, colsample_bynode=None, colsample_bytree=1,\n",
       "             device=None, early_stopping_rounds=None, enable_categorical=False,\n",
       "             eval_metric=None, feature_types=None, gamma=0, grow_policy=None,\n",
       "             importance_type=None, interaction_constraints=None,\n",
       "             learning_rate=0.1, max_bin=None, max_cat_threshold=None,\n",
       "             max_cat_to_onehot=None, max_delta_step=0, max_depth=2,\n",
       "             max_leaves=None, min_child_weight=1, missing=nan,\n",
       "             monotone_constraints=None, multi_strategy=None, n_estimators=900,\n",
       "             n_jobs=1, nthread=None, num_parallel_tree=None, ...)</pre><b>In a Jupyter environment, please rerun this cell to show the HTML representation or trust the notebook. <br />On GitHub, the HTML representation is unable to render, please try loading this page with nbviewer.org.</b></div><div class=\"sk-container\" hidden><div class=\"sk-item\"><div class=\"sk-estimator sk-toggleable\"><input class=\"sk-toggleable__control sk-hidden--visually\" id=\"sk-estimator-id-2\" type=\"checkbox\" checked><label for=\"sk-estimator-id-2\" class=\"sk-toggleable__label sk-toggleable__label-arrow\">XGBRegressor</label><div class=\"sk-toggleable__content\"><pre>XGBRegressor(base_score=0.25, booster=&#x27;gbtree&#x27;, callbacks=None,\n",
       "             colsample_bylevel=1, colsample_bynode=None, colsample_bytree=1,\n",
       "             device=None, early_stopping_rounds=None, enable_categorical=False,\n",
       "             eval_metric=None, feature_types=None, gamma=0, grow_policy=None,\n",
       "             importance_type=None, interaction_constraints=None,\n",
       "             learning_rate=0.1, max_bin=None, max_cat_threshold=None,\n",
       "             max_cat_to_onehot=None, max_delta_step=0, max_depth=2,\n",
       "             max_leaves=None, min_child_weight=1, missing=nan,\n",
       "             monotone_constraints=None, multi_strategy=None, n_estimators=900,\n",
       "             n_jobs=1, nthread=None, num_parallel_tree=None, ...)</pre></div></div></div></div></div>"
      ],
      "text/plain": [
       "XGBRegressor(base_score=0.25, booster='gbtree', callbacks=None,\n",
       "             colsample_bylevel=1, colsample_bynode=None, colsample_bytree=1,\n",
       "             device=None, early_stopping_rounds=None, enable_categorical=False,\n",
       "             eval_metric=None, feature_types=None, gamma=0, grow_policy=None,\n",
       "             importance_type=None, interaction_constraints=None,\n",
       "             learning_rate=0.1, max_bin=None, max_cat_threshold=None,\n",
       "             max_cat_to_onehot=None, max_delta_step=0, max_depth=2,\n",
       "             max_leaves=None, min_child_weight=1, missing=nan,\n",
       "             monotone_constraints=None, multi_strategy=None, n_estimators=900,\n",
       "             n_jobs=1, nthread=None, num_parallel_tree=None, ...)"
      ]
     },
     "execution_count": 124,
     "metadata": {},
     "output_type": "execute_result"
    }
   ],
   "source": [
    "regressor.fit(X_train,y_train)"
   ]
  },
  {
   "cell_type": "code",
   "execution_count": 125,
   "metadata": {
    "execution": {
     "iopub.execute_input": "2020-08-29T22:42:57.205221Z",
     "iopub.status.busy": "2020-08-29T22:42:57.204132Z",
     "iopub.status.idle": "2020-08-29T22:42:57.207785Z",
     "shell.execute_reply": "2020-08-29T22:42:57.207164Z"
    },
    "papermill": {
     "duration": 0.030045,
     "end_time": "2020-08-29T22:42:57.207955",
     "exception": false,
     "start_time": "2020-08-29T22:42:57.177910",
     "status": "completed"
    },
    "tags": []
   },
   "outputs": [],
   "source": [
    "classifier=xgboost.XGBRegressor()"
   ]
  },
  {
   "cell_type": "code",
   "execution_count": 126,
   "metadata": {
    "execution": {
     "iopub.execute_input": "2020-08-29T22:42:57.257478Z",
     "iopub.status.busy": "2020-08-29T22:42:57.256660Z",
     "iopub.status.idle": "2020-08-29T22:42:57.261283Z",
     "shell.execute_reply": "2020-08-29T22:42:57.260563Z"
    },
    "papermill": {
     "duration": 0.032139,
     "end_time": "2020-08-29T22:42:57.261424",
     "exception": false,
     "start_time": "2020-08-29T22:42:57.229285",
     "status": "completed"
    },
    "tags": []
   },
   "outputs": [],
   "source": [
    "import pickle\n",
    "best_model = random_cv.best_estimator_\n",
    "filename = 'finalized_model.pkl'\n",
    "pickle.dump(best_model, open(filename, 'wb'))"
   ]
  },
  {
   "cell_type": "code",
   "execution_count": 127,
   "metadata": {
    "execution": {
     "iopub.execute_input": "2020-08-29T22:42:57.315882Z",
     "iopub.status.busy": "2020-08-29T22:42:57.315036Z",
     "iopub.status.idle": "2020-08-29T22:42:57.353467Z",
     "shell.execute_reply": "2020-08-29T22:42:57.352600Z"
    },
    "papermill": {
     "duration": 0.070445,
     "end_time": "2020-08-29T22:42:57.353599",
     "exception": false,
     "start_time": "2020-08-29T22:42:57.283154",
     "status": "completed"
    },
    "tags": []
   },
   "outputs": [
    {
     "name": "stderr",
     "output_type": "stream",
     "text": [
      "/tmp/ipykernel_38016/573149489.py:39: FutureWarning: ``mlflow.tracking.client.MlflowClient.get_latest_versions`` is deprecated since 2.9.0. Model registry stages will be removed in a future major release. To learn more about the deprecation of model registry stages, see our migration guide here: https://mlflow.org/docs/latest/model-registry.html#migrating-from-stages\n",
      "  model_version = client.get_latest_versions(\"house_price_prediction_model\", stages=[\"None\"])[0]\n",
      "/tmp/ipykernel_38016/573149489.py:40: FutureWarning: ``mlflow.tracking.client.MlflowClient.transition_model_version_stage`` is deprecated since 2.9.0. Model registry stages will be removed in a future major release. To learn more about the deprecation of model registry stages, see our migration guide here: https://mlflow.org/docs/latest/model-registry.html#migrating-from-stages\n",
      "  client.transition_model_version_stage(\n",
      "2024/11/15 18:21:05 INFO mlflow.tracking._tracking_service.client: 🏃 View run model_prediction at: http://localhost:5000/#/experiments/2/runs/c423442fa6ab4c5890b701e6d0a8ae83.\n",
      "2024/11/15 18:21:05 INFO mlflow.tracking._tracking_service.client: 🧪 View experiment at: http://localhost:5000/#/experiments/2.\n"
     ]
    }
   ],
   "source": [
    "import os\n",
    "with mlflow.start_run(run_name=\"model_prediction\") as run:\n",
    "    # Make predictions\n",
    "    y_pred = best_model.predict(data_test)\n",
    "    \n",
    "    # Log prediction statistics\n",
    "    prediction_stats = {\n",
    "        \"mean_predicted_price\": float(np.mean(y_pred)),\n",
    "        \"median_predicted_price\": float(np.median(y_pred)),\n",
    "        \"std_predicted_price\": float(np.std(y_pred)),\n",
    "        \"min_predicted_price\": float(np.min(y_pred)),\n",
    "        \"max_predicted_price\": float(np.max(y_pred))\n",
    "    }\n",
    "    mlflow.log_metrics(prediction_stats)\n",
    "    \n",
    "    # Create and save predictions to a CSV file\n",
    "    prediction_df = pd.DataFrame({\n",
    "        'predicted_price': y_pred\n",
    "    })\n",
    "    \n",
    "    # Save predictions locally\n",
    "    predictions_path = \"predictions.csv\"\n",
    "    prediction_df.to_csv(predictions_path, index=False)\n",
    "    \n",
    "    # Log the predictions file\n",
    "    mlflow.log_artifact(predictions_path)\n",
    "    \n",
    "    # Create and log a histogram of predictions\n",
    "    plt.figure(figsize=(10, 6))\n",
    "    plt.hist(y_pred, bins=50)\n",
    "    plt.title('Distribution of Predicted House Prices')\n",
    "    plt.xlabel('Predicted Price')\n",
    "    plt.ylabel('Frequency')\n",
    "    mlflow.log_figure(plt.gcf(), \"prediction_distribution.png\")\n",
    "    \n",
    "    # Log model version and status\n",
    "    client = MlflowClient()\n",
    "    try:\n",
    "        model_version = client.get_latest_versions(\"house_price_prediction_model\", stages=[\"None\"])[0]\n",
    "        client.transition_model_version_stage(\n",
    "            name=\"house_price_prediction_model\",\n",
    "            version=model_version.version,\n",
    "            stage=\"Production\"\n",
    "        )\n",
    "    except Exception as e:\n",
    "        print(f\"Error updating model version: {str(e)}\")\n",
    "    \n",
    "    # Clean up\n",
    "    plt.close()\n",
    "    if os.path.exists(predictions_path):\n",
    "        os.remove(predictions_path)"
   ]
  },
  {
   "cell_type": "code",
   "execution_count": 128,
   "metadata": {
    "execution": {
     "iopub.execute_input": "2020-08-29T22:42:57.403887Z",
     "iopub.status.busy": "2020-08-29T22:42:57.403038Z",
     "iopub.status.idle": "2020-08-29T22:42:57.407528Z",
     "shell.execute_reply": "2020-08-29T22:42:57.408101Z"
    },
    "papermill": {
     "duration": 0.032978,
     "end_time": "2020-08-29T22:42:57.408271",
     "exception": false,
     "start_time": "2020-08-29T22:42:57.375293",
     "status": "completed"
    },
    "tags": []
   },
   "outputs": [
    {
     "data": {
      "text/plain": [
       "array([119216.37, 162755.81, 187921.08, ..., 174490.58, 117368.22,\n",
       "       234381.38], dtype=float32)"
      ]
     },
     "execution_count": 128,
     "metadata": {},
     "output_type": "execute_result"
    }
   ],
   "source": [
    "y_pred"
   ]
  },
  {
   "cell_type": "code",
   "execution_count": 129,
   "metadata": {},
   "outputs": [
    {
     "name": "stderr",
     "output_type": "stream",
     "text": [
      "2024/11/15 18:21:05 INFO mlflow.tracking._tracking_service.client: 🏃 View run model_comparison at: http://localhost:5000/#/experiments/2/runs/daa09e793b424d1dbedc489c1217ec9a.\n",
      "2024/11/15 18:21:05 INFO mlflow.tracking._tracking_service.client: 🧪 View experiment at: http://localhost:5000/#/experiments/2.\n"
     ]
    },
    {
     "name": "stdout",
     "output_type": "stream",
     "text": [
      "Best performing runs:\n",
      "                             run_id  r2_score         rmse          mae  \\\n",
      "0  ac821149bfe64bd6843f5699c0831ed4  0.984764  9799.131501  7218.691934   \n",
      "1  bcd07f4e27be43c7a466c0f3591653a3  0.984764  9799.131501  7218.691934   \n",
      "2  27f6b5aa72514930acf3ab39dbc54123       NaN          NaN          NaN   \n",
      "3  b685ad09d72342c1843c89ac9a45386b       NaN          NaN          NaN   \n",
      "4  1a08e5097ee14f9d8df0dbc2c8953e01       NaN          NaN          NaN   \n",
      "\n",
      "                                          parameters  \n",
      "0  {'n_estimators': '1100', 'min_child_weight': '...  \n",
      "1  {'n_estimators': '1100', 'min_child_weight': '...  \n",
      "2                                                 {}  \n",
      "3    {'dataset_size': '2881', 'num_features': '174'}  \n",
      "4                                                 {}  \n"
     ]
    }
   ],
   "source": [
    "# def compare_runs(experiment_name=\"House Price Prediction\", top_n=5):\n",
    "#     \"\"\"Compare different runs and their metrics\"\"\"\n",
    "#     client = MlflowClient()\n",
    "#     experiment = client.get_experiment_by_name(experiment_name)\n",
    "#     runs = client.search_runs(\n",
    "#         experiment_ids=[experiment.experiment_id],\n",
    "#         order_by=[\"metrics.r2 DESC\"]\n",
    "#     )\n",
    "    \n",
    "#     comparison_df = pd.DataFrame([\n",
    "#         {\n",
    "#             'run_id': run.info.run_id,\n",
    "#             'r2_score': run.data.metrics.get('r2', None),\n",
    "#             'rmse': run.data.metrics.get('rmse', None),\n",
    "#             'mae': run.data.metrics.get('mae', None),\n",
    "#             'parameters': run.data.params\n",
    "#         }\n",
    "#         for run in runs[:top_n]\n",
    "#     ])\n",
    "    \n",
    "#     return comparison_df\n",
    "\n",
    "# # Add after model training to compare runs\n",
    "# best_runs = compare_runs()\n",
    "# print(\"Best performing runs:\")\n",
    "# print(best_runs)\n",
    "\n",
    "def compare_runs(experiment_name=\"House Price Prediction\", top_n=5):\n",
    "    \"\"\"Compare different runs and their metrics\"\"\"\n",
    "    \n",
    "    # Start a new MLflow run to track this comparison process\n",
    "    with mlflow.start_run(run_name=\"model_comparison\"):\n",
    "        client = MlflowClient()\n",
    "        experiment = client.get_experiment_by_name(experiment_name)\n",
    "        \n",
    "        # Search for runs based on R2 score in descending order\n",
    "        runs = client.search_runs(\n",
    "            experiment_ids=[experiment.experiment_id],\n",
    "            order_by=[\"metrics.r2 DESC\"]\n",
    "        )\n",
    "        \n",
    "        # Create a DataFrame to store the top N runs' performance and parameters\n",
    "        comparison_df = pd.DataFrame([\n",
    "            {\n",
    "                'run_id': run.info.run_id,\n",
    "                'r2_score': run.data.metrics.get('r2', None),\n",
    "                'rmse': run.data.metrics.get('rmse', None),\n",
    "                'mae': run.data.metrics.get('mae', None),\n",
    "                'parameters': run.data.params\n",
    "            }\n",
    "            for run in runs[:top_n]\n",
    "        ])\n",
    "        \n",
    "        # Log comparison DataFrame as an artifact (optional)\n",
    "        comparison_df_path = \"run_comparison.csv\"\n",
    "        comparison_df.to_csv(comparison_df_path, index=False)\n",
    "        mlflow.log_artifact(comparison_df_path)\n",
    "\n",
    "        # Optionally, log the best performing run's metrics for tracking\n",
    "        best_run = runs[0]\n",
    "        best_run_metrics = {\n",
    "            \"best_r2_score\": best_run.data.metrics.get('r2', None),\n",
    "            \"best_rmse\": best_run.data.metrics.get('rmse', None),\n",
    "            \"best_mae\": best_run.data.metrics.get('mae', None)\n",
    "        }\n",
    "        mlflow.log_metrics(best_run_metrics)\n",
    "\n",
    "        # Print and return the comparison dataframe\n",
    "        print(\"Best performing runs:\")\n",
    "        print(comparison_df)\n",
    "\n",
    "    return comparison_df\n",
    "\n",
    "# Example usage after model training\n",
    "best_runs = compare_runs()\n",
    "\n"
   ]
  },
  {
   "cell_type": "code",
   "execution_count": 130,
   "metadata": {},
   "outputs": [
    {
     "name": "stderr",
     "output_type": "stream",
     "text": [
      "Registered model 'house_price_prediction_model' already exists. Creating a new version of this model...\n",
      "2024/11/15 18:21:06 INFO mlflow.store.model_registry.abstract_store: Waiting up to 300 seconds for model version to finish creation. Model name: house_price_prediction_model, version 10\n"
     ]
    },
    {
     "name": "stdout",
     "output_type": "stream",
     "text": [
      "Registered model version: 10\n"
     ]
    },
    {
     "name": "stderr",
     "output_type": "stream",
     "text": [
      "Created version '10' of model 'house_price_prediction_model'.\n",
      "/tmp/ipykernel_38016/2060668187.py:15: FutureWarning: ``mlflow.tracking.client.MlflowClient.transition_model_version_stage`` is deprecated since 2.9.0. Model registry stages will be removed in a future major release. To learn more about the deprecation of model registry stages, see our migration guide here: https://mlflow.org/docs/latest/model-registry.html#migrating-from-stages\n",
      "  client.transition_model_version_stage(\n"
     ]
    }
   ],
   "source": [
    "def register_best_model(experiment_name=\"House Price Prediction\"):\n",
    "    \"\"\"Register the best performing model to the model registry\"\"\"\n",
    "    client = MlflowClient()\n",
    "    experiment = client.get_experiment_by_name(experiment_name)\n",
    "    best_run = client.search_runs(\n",
    "        experiment_ids=[experiment.experiment_id],\n",
    "        order_by=[\"metrics.r2 DESC\"]\n",
    "    )[0]\n",
    "    \n",
    "    # Register the model from the best run\n",
    "    model_uri = f\"runs:/{best_run.info.run_id}/model\"\n",
    "    mv = mlflow.register_model(model_uri, \"house_price_prediction_model\")\n",
    "    \n",
    "    # Transition the model to production\n",
    "    client.transition_model_version_stage(\n",
    "        name=\"house_price_prediction_model\",\n",
    "        version=mv.version,\n",
    "        stage=\"Production\"\n",
    "    )\n",
    "    \n",
    "    return mv\n",
    "\n",
    "# Add after model training\n",
    "best_model_version = register_best_model()\n",
    "print(f\"Registered model version: {best_model_version.version}\")"
   ]
  }
 ],
 "metadata": {
  "kernelspec": {
   "display_name": "Python 3",
   "language": "python",
   "name": "python3"
  },
  "language_info": {
   "codemirror_mode": {
    "name": "ipython",
    "version": 3
   },
   "file_extension": ".py",
   "mimetype": "text/x-python",
   "name": "python",
   "nbconvert_exporter": "python",
   "pygments_lexer": "ipython3",
   "version": "3.8.10"
  },
  "papermill": {
   "duration": 602.181479,
   "end_time": "2020-08-29T22:42:58.743021",
   "environment_variables": {},
   "exception": null,
   "input_path": "__notebook__.ipynb",
   "output_path": "__notebook__.ipynb",
   "parameters": {},
   "start_time": "2020-08-29T22:32:56.561542",
   "version": "2.1.0"
  }
 },
 "nbformat": 4,
 "nbformat_minor": 4
}
